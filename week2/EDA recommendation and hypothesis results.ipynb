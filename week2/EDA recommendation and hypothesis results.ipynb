{
 "cells": [
  {
   "cell_type": "markdown",
   "id": "98209bcd",
   "metadata": {},
   "source": [
    "## Exploratory Data Analysis Cab Companies recommendation and hypothesis results"
   ]
  },
  {
   "cell_type": "markdown",
   "id": "eb371d8a",
   "metadata": {},
   "source": [
    "## Hyphotesis Test"
   ]
  },
  {
   "cell_type": "markdown",
   "id": "a7e72c2d",
   "metadata": {},
   "source": [
    "#### Test1 - Is there any difference in the mean profit per km for these companies?"
   ]
  },
  {
   "cell_type": "code",
   "execution_count": 165,
   "id": "256a3b48",
   "metadata": {},
   "outputs": [
    {
     "data": {
      "text/plain": [
       "Company\n",
       "Pink Cab      2.769908\n",
       "Yellow Cab    7.105508\n",
       "Name: Profit_dist, dtype: float64"
      ]
     },
     "execution_count": 165,
     "metadata": {},
     "output_type": "execute_result"
    }
   ],
   "source": [
    "# The mean profit per km for both companies\n",
    "df.groupby(\"Company\").mean()[\"Profit_dist\"]"
   ]
  },
  {
   "cell_type": "markdown",
   "id": "d49413ab",
   "metadata": {},
   "source": [
    "H0: There is no difference in the mean profit per km for companies Yellow Cab and Pink Cab.\n",
    "\n",
    "H1: The mean profit per km for company Yellow Cab is higher than the mean profit per km for Pink Cab."
   ]
  },
  {
   "cell_type": "code",
   "execution_count": 166,
   "id": "8848f94a",
   "metadata": {},
   "outputs": [
    {
     "name": "stdout",
     "output_type": "stream",
     "text": [
      "T-statistic value:  -210.96861574553898\n",
      "P-Value:  0.0\n"
     ]
    }
   ],
   "source": [
    "from scipy import stats\n",
    "from scipy.stats import ttest_ind\n",
    "\n",
    "sample1 = df[df[\"Company\"] == \"Pink Cab\"][\"Profit_dist\"]\n",
    "sample2 = df[df[\"Company\"] == \"Yellow Cab\"][\"Profit_dist\"]\n",
    "\n",
    "t_stat, p_value = ttest_ind(sample1, sample2)\n",
    "print(\"T-statistic value: \", t_stat)  \n",
    "print(\"P-Value: \", p_value)"
   ]
  },
  {
   "cell_type": "markdown",
   "id": "2ef4dfef",
   "metadata": {},
   "source": [
    "According to the 2-sample t-test results, considering a 0.05 significance level, we concluded that the mean profit per km for the Yellow Cab company is higher compared to the Pink Cab."
   ]
  },
  {
   "cell_type": "markdown",
   "id": "e24ddea2",
   "metadata": {},
   "source": [
    "#### Test2 - Is there any difference in the mean profit per customer for these companies?"
   ]
  },
  {
   "cell_type": "code",
   "execution_count": 167,
   "id": "5247f48f",
   "metadata": {},
   "outputs": [
    {
     "data": {
      "text/html": [
       "<div>\n",
       "<style scoped>\n",
       "    .dataframe tbody tr th:only-of-type {\n",
       "        vertical-align: middle;\n",
       "    }\n",
       "\n",
       "    .dataframe tbody tr th {\n",
       "        vertical-align: top;\n",
       "    }\n",
       "\n",
       "    .dataframe thead th {\n",
       "        text-align: right;\n",
       "    }\n",
       "</style>\n",
       "<table border=\"1\" class=\"dataframe\">\n",
       "  <thead>\n",
       "    <tr style=\"text-align: right;\">\n",
       "      <th></th>\n",
       "      <th>Company</th>\n",
       "      <th>Customer ID</th>\n",
       "      <th>Profit</th>\n",
       "    </tr>\n",
       "  </thead>\n",
       "  <tbody>\n",
       "    <tr>\n",
       "      <th>0</th>\n",
       "      <td>Pink Cab</td>\n",
       "      <td>1</td>\n",
       "      <td>218.291000</td>\n",
       "    </tr>\n",
       "    <tr>\n",
       "      <th>1</th>\n",
       "      <td>Pink Cab</td>\n",
       "      <td>10</td>\n",
       "      <td>66.470000</td>\n",
       "    </tr>\n",
       "    <tr>\n",
       "      <th>2</th>\n",
       "      <td>Pink Cab</td>\n",
       "      <td>100</td>\n",
       "      <td>188.273750</td>\n",
       "    </tr>\n",
       "    <tr>\n",
       "      <th>3</th>\n",
       "      <td>Pink Cab</td>\n",
       "      <td>1000</td>\n",
       "      <td>154.964667</td>\n",
       "    </tr>\n",
       "    <tr>\n",
       "      <th>4</th>\n",
       "      <td>Pink Cab</td>\n",
       "      <td>10001</td>\n",
       "      <td>6.822000</td>\n",
       "    </tr>\n",
       "    <tr>\n",
       "      <th>...</th>\n",
       "      <td>...</td>\n",
       "      <td>...</td>\n",
       "      <td>...</td>\n",
       "    </tr>\n",
       "    <tr>\n",
       "      <th>72221</th>\n",
       "      <td>Yellow Cab</td>\n",
       "      <td>9994</td>\n",
       "      <td>84.971600</td>\n",
       "    </tr>\n",
       "    <tr>\n",
       "      <th>72222</th>\n",
       "      <td>Yellow Cab</td>\n",
       "      <td>9996</td>\n",
       "      <td>63.018700</td>\n",
       "    </tr>\n",
       "    <tr>\n",
       "      <th>72223</th>\n",
       "      <td>Yellow Cab</td>\n",
       "      <td>9997</td>\n",
       "      <td>81.553800</td>\n",
       "    </tr>\n",
       "    <tr>\n",
       "      <th>72224</th>\n",
       "      <td>Yellow Cab</td>\n",
       "      <td>9998</td>\n",
       "      <td>92.264667</td>\n",
       "    </tr>\n",
       "    <tr>\n",
       "      <th>72225</th>\n",
       "      <td>Yellow Cab</td>\n",
       "      <td>9999</td>\n",
       "      <td>132.848800</td>\n",
       "    </tr>\n",
       "  </tbody>\n",
       "</table>\n",
       "<p>72226 rows × 3 columns</p>\n",
       "</div>"
      ],
      "text/plain": [
       "          Company Customer ID      Profit\n",
       "0        Pink Cab           1  218.291000\n",
       "1        Pink Cab          10   66.470000\n",
       "2        Pink Cab         100  188.273750\n",
       "3        Pink Cab        1000  154.964667\n",
       "4        Pink Cab       10001    6.822000\n",
       "...           ...         ...         ...\n",
       "72221  Yellow Cab        9994   84.971600\n",
       "72222  Yellow Cab        9996   63.018700\n",
       "72223  Yellow Cab        9997   81.553800\n",
       "72224  Yellow Cab        9998   92.264667\n",
       "72225  Yellow Cab        9999  132.848800\n",
       "\n",
       "[72226 rows x 3 columns]"
      ]
     },
     "execution_count": 167,
     "metadata": {},
     "output_type": "execute_result"
    }
   ],
   "source": [
    "# The mean profit per km for both companies\n",
    "df2 = df.groupby([\"Company\", \"Customer ID\"]).mean()[\"Profit\"].reset_index()\n",
    "df2"
   ]
  },
  {
   "cell_type": "code",
   "execution_count": 168,
   "id": "0f73f7cb",
   "metadata": {},
   "outputs": [
    {
     "data": {
      "text/html": [
       "<div>\n",
       "<style scoped>\n",
       "    .dataframe tbody tr th:only-of-type {\n",
       "        vertical-align: middle;\n",
       "    }\n",
       "\n",
       "    .dataframe tbody tr th {\n",
       "        vertical-align: top;\n",
       "    }\n",
       "\n",
       "    .dataframe thead th {\n",
       "        text-align: right;\n",
       "    }\n",
       "</style>\n",
       "<table border=\"1\" class=\"dataframe\">\n",
       "  <thead>\n",
       "    <tr style=\"text-align: right;\">\n",
       "      <th></th>\n",
       "      <th>Profit</th>\n",
       "    </tr>\n",
       "    <tr>\n",
       "      <th>Company</th>\n",
       "      <th></th>\n",
       "    </tr>\n",
       "  </thead>\n",
       "  <tbody>\n",
       "    <tr>\n",
       "      <th>Pink Cab</th>\n",
       "      <td>58.507889</td>\n",
       "    </tr>\n",
       "    <tr>\n",
       "      <th>Yellow Cab</th>\n",
       "      <td>129.373032</td>\n",
       "    </tr>\n",
       "  </tbody>\n",
       "</table>\n",
       "</div>"
      ],
      "text/plain": [
       "                Profit\n",
       "Company               \n",
       "Pink Cab     58.507889\n",
       "Yellow Cab  129.373032"
      ]
     },
     "execution_count": 168,
     "metadata": {},
     "output_type": "execute_result"
    }
   ],
   "source": [
    "df2.groupby(\"Company\").mean(\"Profit\")"
   ]
  },
  {
   "cell_type": "markdown",
   "id": "e36b24a7",
   "metadata": {},
   "source": [
    "H0: There is no difference in the mean profit per customer for companies Yellow Cab and Pink Cab.\n",
    "\n",
    "H1: The mean profit per customer for company Yellow Cab is higher than the mean profit per km for Pink Cab."
   ]
  },
  {
   "cell_type": "code",
   "execution_count": 169,
   "id": "b9b107b5",
   "metadata": {},
   "outputs": [
    {
     "name": "stdout",
     "output_type": "stream",
     "text": [
      "T-statistic value:  -106.54408808351249\n",
      "P-Value:  0.0\n"
     ]
    }
   ],
   "source": [
    "from scipy import stats\n",
    "from scipy.stats import ttest_ind\n",
    "\n",
    "sample1 = df2[df2[\"Company\"] == \"Pink Cab\"][\"Profit\"]\n",
    "sample2 = df2[df2[\"Company\"] == \"Yellow Cab\"][\"Profit\"]\n",
    "\n",
    "t_stat, p_value = ttest_ind(sample1, sample2)\n",
    "print(\"T-statistic value: \", t_stat)  \n",
    "print(\"P-Value: \", p_value)"
   ]
  },
  {
   "cell_type": "markdown",
   "id": "8a21b10a",
   "metadata": {},
   "source": [
    "According to the 2-sample t-test results, considering a 0.05 significance level, we concluded that the mean profit per customer for the Yellow Cab company is higher compared to the Pink Cab."
   ]
  },
  {
   "cell_type": "markdown",
   "id": "368542fa",
   "metadata": {},
   "source": [
    "#### Test3 - Is there any difference in the mean charged price per km for these companies?"
   ]
  },
  {
   "cell_type": "code",
   "execution_count": 170,
   "id": "59bf7835",
   "metadata": {},
   "outputs": [],
   "source": [
    "df[\"PriceCharged_km\"] = df[\"Price Charged\"] / df[\"KM Travelled\"]"
   ]
  },
  {
   "cell_type": "code",
   "execution_count": 171,
   "id": "6b6d7cf9",
   "metadata": {},
   "outputs": [
    {
     "data": {
      "text/plain": [
       "Company\n",
       "Pink Cab      13.768510\n",
       "Yellow Cab    20.306073\n",
       "Name: PriceCharged_km, dtype: float64"
      ]
     },
     "execution_count": 171,
     "metadata": {},
     "output_type": "execute_result"
    }
   ],
   "source": [
    "# The mean profit per km for both companies\n",
    "df.groupby(\"Company\").mean()[\"PriceCharged_km\"]"
   ]
  },
  {
   "cell_type": "markdown",
   "id": "6125d87d",
   "metadata": {},
   "source": [
    "H0: There is no difference in the mean charged price per km for companies Yellow Cab and Pink Cab.\n",
    "\n",
    "H1: The mean charged price per km for company Yellow Cab is higher than the mean profit per km for Pink Cab."
   ]
  },
  {
   "cell_type": "code",
   "execution_count": 172,
   "id": "4587b98d",
   "metadata": {},
   "outputs": [
    {
     "name": "stdout",
     "output_type": "stream",
     "text": [
      "T-statistic value:  -320.9807762543473\n",
      "P-Value:  0.0\n"
     ]
    }
   ],
   "source": [
    "from scipy import stats\n",
    "from scipy.stats import ttest_ind\n",
    "\n",
    "sample1 = df[df[\"Company\"] == \"Pink Cab\"][\"PriceCharged_km\"]\n",
    "sample2 = df[df[\"Company\"] == \"Yellow Cab\"][\"PriceCharged_km\"]\n",
    "\n",
    "t_stat, p_value = ttest_ind(sample1, sample2)\n",
    "print(\"T-statistic value: \", t_stat)  \n",
    "print(\"P-Value: \", p_value)"
   ]
  },
  {
   "cell_type": "markdown",
   "id": "38f7bc79",
   "metadata": {},
   "source": [
    "According to the 2-sample t-test results, considering a 0.05 significance level, we concluded that the mean charged price per km for the Yellow Cab company is higher compared to the Pink Cab."
   ]
  },
  {
   "cell_type": "markdown",
   "id": "9f8ef000",
   "metadata": {},
   "source": [
    "#### Test4 - Is there any difference in the mean profit of these companies considering the top5 cities with higher profits?"
   ]
  },
  {
   "cell_type": "code",
   "execution_count": 173,
   "id": "08f1eb2d",
   "metadata": {},
   "outputs": [
    {
     "data": {
      "text/plain": [
       "Index(['NEW YORK NY', 'LOS ANGELES CA', 'WASHINGTON DC', 'CHICAGO IL',\n",
       "       'BOSTON MA'],\n",
       "      dtype='object', name='City')"
      ]
     },
     "execution_count": 173,
     "metadata": {},
     "output_type": "execute_result"
    }
   ],
   "source": [
    "df.groupby(\"City\").sum()[\"Profit\"].sort_values(ascending=False)[:5].index"
   ]
  },
  {
   "cell_type": "code",
   "execution_count": 174,
   "id": "eaf5f63f",
   "metadata": {},
   "outputs": [],
   "source": [
    "# Creating an index list to select the top 5 cities\n",
    "index_list = list(df[df[\"City\"] == \"NEW YORK NY\"].index) + list(df[df[\"City\"] == \"LOS ANGELES CA\"].index) + \\\n",
    "             list(df[df[\"City\"] == \"WASHINGTON DC\"].index) + list(df[df[\"City\"] == \"CHICAGO IL\"].index) + \\\n",
    "             list(df[df[\"City\"] == \"BOSTON MA\"].index)\n",
    "\n"
   ]
  },
  {
   "cell_type": "code",
   "execution_count": 175,
   "id": "b2c4292a",
   "metadata": {},
   "outputs": [],
   "source": [
    "# Creating a new dataframe with the top 5 cities\n",
    "df3 = df.iloc[index_list]"
   ]
  },
  {
   "cell_type": "code",
   "execution_count": 176,
   "id": "4e9f5c7e",
   "metadata": {},
   "outputs": [
    {
     "data": {
      "text/plain": [
       "Company     City          \n",
       "Pink Cab    BOSTON MA          50.520960\n",
       "            CHICAGO IL         34.047910\n",
       "            LOS ANGELES CA     56.669120\n",
       "            NEW YORK NY       108.217540\n",
       "            WASHINGTON DC      52.482761\n",
       "Yellow Cab  BOSTON MA          61.483619\n",
       "            CHICAGO IL         64.924486\n",
       "            LOS ANGELES CA    116.656368\n",
       "            NEW YORK NY       307.864252\n",
       "            WASHINGTON DC      82.384912\n",
       "Name: Profit, dtype: float64"
      ]
     },
     "execution_count": 176,
     "metadata": {},
     "output_type": "execute_result"
    }
   ],
   "source": [
    "# The mean profit per km for both companies\n",
    "df3.groupby([\"Company\", \"City\"]).mean()[\"Profit\"]"
   ]
  },
  {
   "cell_type": "markdown",
   "id": "7b005c6e",
   "metadata": {},
   "source": [
    "H0: There is no difference in the mean profit per km for companies Yellow Cab and Pink Cab, considering the top5 profitable cities.\n",
    "\n",
    "H1: The mean profit per km for company Yellow Cab is higher than the mean profit per km for Pink Cab, considering the top 5 cities."
   ]
  },
  {
   "cell_type": "code",
   "execution_count": 177,
   "id": "098bcd9d",
   "metadata": {},
   "outputs": [
    {
     "name": "stdout",
     "output_type": "stream",
     "text": [
      "T-statistic value:  -125.54270120924046\n",
      "P-Value:  0.0\n"
     ]
    }
   ],
   "source": [
    "from scipy import stats\n",
    "from scipy.stats import ttest_ind\n",
    "\n",
    "sample1 = df3[df3[\"Company\"] == \"Pink Cab\"][\"Profit\"]\n",
    "sample2 = df3[df3[\"Company\"] == \"Yellow Cab\"][\"Profit\"]\n",
    "\n",
    "t_stat, p_value = ttest_ind(sample1, sample2)\n",
    "print(\"T-statistic value: \", t_stat)  \n",
    "print(\"P-Value: \", p_value)"
   ]
  },
  {
   "cell_type": "markdown",
   "id": "845ec508",
   "metadata": {},
   "source": [
    "According to the 2-sample t-test results, considering a 0.05 significance level, we concluded that the mean profit per km for the Yellow Cab company is higher compared to the Pink Cab, considering the top 5 cities."
   ]
  },
  {
   "cell_type": "markdown",
   "id": "f527eb15",
   "metadata": {},
   "source": [
    "#### Test5 - Is there any difference in the mean customer's income that uses the service of one or another company?"
   ]
  },
  {
   "cell_type": "code",
   "execution_count": 182,
   "id": "4b05193f",
   "metadata": {},
   "outputs": [
    {
     "data": {
      "text/plain": [
       "14983.896831762582"
      ]
     },
     "execution_count": 182,
     "metadata": {},
     "output_type": "execute_result"
    }
   ],
   "source": [
    "df[df[\"Company\"] == \"Yellow Cab\"].groupby(\"Customer ID\").mean()[\"Income (USD/Month)\"].mean()"
   ]
  },
  {
   "cell_type": "code",
   "execution_count": 183,
   "id": "d5fc6674",
   "metadata": {},
   "outputs": [
    {
     "data": {
      "text/plain": [
       "15034.097618311165"
      ]
     },
     "execution_count": 183,
     "metadata": {},
     "output_type": "execute_result"
    }
   ],
   "source": [
    "df[df[\"Company\"] == \"Pink Cab\"].groupby(\"Customer ID\").mean()[\"Income (USD/Month)\"].mean()"
   ]
  },
  {
   "cell_type": "markdown",
   "id": "f93a5692",
   "metadata": {},
   "source": [
    "H0: There is no difference in the mean customer's income for costumers that uses the Yellow Cab and Pink Cab services.\n",
    "\n",
    "H1: There is a difference in the mean customer's income for costumers that uses the Yellow Cab and Pink Cab services."
   ]
  },
  {
   "cell_type": "code",
   "execution_count": 184,
   "id": "f9343f70",
   "metadata": {},
   "outputs": [
    {
     "name": "stdout",
     "output_type": "stream",
     "text": [
      "T-statistic value:  0.838939895792237\n",
      "P-Value:  0.40150581507996785\n"
     ]
    }
   ],
   "source": [
    "from scipy import stats\n",
    "from scipy.stats import ttest_ind\n",
    "\n",
    "sample1 = df[df[\"Company\"] == \"Pink Cab\"].groupby(\"Customer ID\").mean()[\"Income (USD/Month)\"]\n",
    "sample2 = df[df[\"Company\"] == \"Yellow Cab\"].groupby(\"Customer ID\").mean()[\"Income (USD/Month)\"]\n",
    "\n",
    "t_stat, p_value = ttest_ind(sample1, sample2)\n",
    "print(\"T-statistic value: \", t_stat)  \n",
    "print(\"P-Value: \", p_value)"
   ]
  },
  {
   "cell_type": "markdown",
   "id": "70bce738",
   "metadata": {},
   "source": [
    "There is not significant statistical difference in the mean customer's income for the users of Yellow Cab and Pink Cab. It is important to notice that all the customers that uses both services, were included in both samples of the test."
   ]
  },
  {
   "cell_type": "markdown",
   "id": "5081a3d7",
   "metadata": {},
   "source": [
    "#### Test6 - Is there any difference in the mean profit for different payment methods?"
   ]
  },
  {
   "cell_type": "code",
   "execution_count": 186,
   "id": "2164409e",
   "metadata": {},
   "outputs": [
    {
     "data": {
      "text/plain": [
       "Payment_Mode\n",
       "Card    137.086461\n",
       "Cash    137.502924\n",
       "Name: Profit, dtype: float64"
      ]
     },
     "execution_count": 186,
     "metadata": {},
     "output_type": "execute_result"
    }
   ],
   "source": [
    "# The mean profit per payment method\n",
    "df.groupby(\"Payment_Mode\").mean()[\"Profit\"]"
   ]
  },
  {
   "cell_type": "markdown",
   "id": "ff8fba4d",
   "metadata": {},
   "source": [
    "H0: There is no difference in the mean profit for both payment methods.\n",
    "\n",
    "H1: There is difference in the mean profit for both payment methods."
   ]
  },
  {
   "cell_type": "code",
   "execution_count": 188,
   "id": "8414a64b",
   "metadata": {},
   "outputs": [
    {
     "name": "stdout",
     "output_type": "stream",
     "text": [
      "T-statistic value:  -0.7630743349933286\n",
      "P-Value:  0.4454195660215009\n"
     ]
    }
   ],
   "source": [
    "from scipy import stats\n",
    "from scipy.stats import ttest_ind\n",
    "\n",
    "sample1 = df[df[\"Payment_Mode\"] == \"Card\"][\"Profit\"]\n",
    "sample2 = df[df[\"Payment_Mode\"] == \"Cash\"][\"Profit\"]\n",
    "\n",
    "t_stat, p_value = ttest_ind(sample1, sample2)\n",
    "print(\"T-statistic value: \", t_stat)  \n",
    "print(\"P-Value: \", p_value)"
   ]
  },
  {
   "cell_type": "markdown",
   "id": "48d02e79",
   "metadata": {},
   "source": [
    "No signifcant difference in the mean profit for the payment methods by card or cash."
   ]
  },
  {
   "cell_type": "markdown",
   "id": "40b8277a",
   "metadata": {},
   "source": [
    "#### Test7 - Is there any difference in the mean profit for holidays and non-holidays?"
   ]
  },
  {
   "cell_type": "code",
   "execution_count": 192,
   "id": "21063661",
   "metadata": {},
   "outputs": [
    {
     "data": {
      "text/plain": [
       "137.55501953350472"
      ]
     },
     "execution_count": 192,
     "metadata": {},
     "output_type": "execute_result"
    }
   ],
   "source": [
    "df[df[\"Holiday\"] == \"No\"][\"Profit\"].mean()"
   ]
  },
  {
   "cell_type": "code",
   "execution_count": 193,
   "id": "22d66f1c",
   "metadata": {},
   "outputs": [
    {
     "data": {
      "text/plain": [
       "122.19940113250196"
      ]
     },
     "execution_count": 193,
     "metadata": {},
     "output_type": "execute_result"
    }
   ],
   "source": [
    "df[df[\"Holiday\"] != \"No\"][\"Profit\"].mean()"
   ]
  },
  {
   "cell_type": "markdown",
   "id": "5aa27d6a",
   "metadata": {},
   "source": [
    "H0: There is no difference in the mean profit for holidays or non-holidays.\n",
    "\n",
    "H1: There is a difference in the mean profit for hoildays or non-holidays."
   ]
  },
  {
   "cell_type": "code",
   "execution_count": 194,
   "id": "c2a0ca18",
   "metadata": {},
   "outputs": [
    {
     "name": "stdout",
     "output_type": "stream",
     "text": [
      "T-statistic value:  7.971760168134794\n",
      "P-Value:  1.5688395014131125e-15\n"
     ]
    }
   ],
   "source": [
    "from scipy import stats\n",
    "from scipy.stats import ttest_ind\n",
    "\n",
    "sample1 = df[df[\"Holiday\"] == \"No\"][\"Profit\"]\n",
    "sample2 = df[df[\"Holiday\"] != \"No\"][\"Profit\"]\n",
    "\n",
    "t_stat, p_value = ttest_ind(sample1, sample2)\n",
    "print(\"T-statistic value: \", t_stat)  \n",
    "print(\"P-Value: \", p_value)"
   ]
  },
  {
   "cell_type": "markdown",
   "id": "9e55f91f",
   "metadata": {},
   "source": [
    "The mean profit for holidays is significantly lower compared to non-holidays with a significance level of 0.05."
   ]
  },
  {
   "cell_type": "markdown",
   "id": "33d3bc42",
   "metadata": {},
   "source": [
    "#### Test8 - Is there any difference in the mean profit for weekdays and weekends?\n",
    "* Weekends were considered to be Friday, Saturday and Sunday in this analysis"
   ]
  },
  {
   "cell_type": "code",
   "execution_count": 212,
   "id": "1c0b0865",
   "metadata": {},
   "outputs": [],
   "source": [
    "df4 = pd.concat([df[df[\"day_of_week\"] == \"Friday\"], df[df[\"day_of_week\"] == \"Saturday\"], df[df[\"day_of_week\"] == \"Sunday\"]])\n",
    "df5 = pd.concat([df[df[\"day_of_week\"] == \"Monday\"], df[df[\"day_of_week\"] == \"Tuesday\"], df[df[\"day_of_week\"] == \"Wednesday\"], df[df[\"day_of_week\"] == \"Thursday\"]])\n"
   ]
  },
  {
   "cell_type": "code",
   "execution_count": 214,
   "id": "d7fb27a4",
   "metadata": {},
   "outputs": [
    {
     "data": {
      "text/plain": [
       "148.73054734067915"
      ]
     },
     "execution_count": 214,
     "metadata": {},
     "output_type": "execute_result"
    }
   ],
   "source": [
    "df4[\"Profit\"].mean()"
   ]
  },
  {
   "cell_type": "code",
   "execution_count": 215,
   "id": "f69ccbef",
   "metadata": {},
   "outputs": [
    {
     "data": {
      "text/plain": [
       "116.86500203173533"
      ]
     },
     "execution_count": 215,
     "metadata": {},
     "output_type": "execute_result"
    }
   ],
   "source": [
    "df5[\"Profit\"].mean()"
   ]
  },
  {
   "cell_type": "markdown",
   "id": "3319b5b3",
   "metadata": {},
   "source": [
    "H0: There is no difference in the mean profit for weekends and weekdays.\n",
    "\n",
    "H1: There is a difference in the mean profit for weekends and weekdays."
   ]
  },
  {
   "cell_type": "code",
   "execution_count": 194,
   "id": "618419e5",
   "metadata": {},
   "outputs": [
    {
     "name": "stdout",
     "output_type": "stream",
     "text": [
      "T-statistic value:  7.971760168134794\n",
      "P-Value:  1.5688395014131125e-15\n"
     ]
    }
   ],
   "source": [
    "from scipy import stats\n",
    "from scipy.stats import ttest_ind\n",
    "\n",
    "sample1 = df4[\"Profit\"]\n",
    "sample2 = df5[\"Profit\"]\n",
    "\n",
    "t_stat, p_value = ttest_ind(sample1, sample2)\n",
    "print(\"T-statistic value: \", t_stat)  \n",
    "print(\"P-Value: \", p_value)"
   ]
  },
  {
   "cell_type": "markdown",
   "id": "5e1363e1",
   "metadata": {},
   "source": [
    "The mean profit for weekends is significantly higher compared to weekdays with a significance level of 0.05."
   ]
  },
  {
   "cell_type": "markdown",
   "id": "7a32ea4e",
   "metadata": {},
   "source": [
    "#### Test9 - Is there any correlation between the distance, cost of trip, price charged and profit.\n",
    "\n",
    "According the the previous analysis, it is clear that the distance travelled has a very strong positive correlation (0.98, p-value = 0) with the cost of trip, meaning that the longest the travel distance is, the higher the cost of the trip is.\n",
    "Moreover, there is a strong correlation between the distance travelled (0.84, p-value = 0) and the price charged, although this correlation is slightly weaker compared to the previous one.\n",
    "Finally, there is a moderate to weak correlation between the distance travelled and the profit (margin) (0.46, p-value = 0). This might have been caused because some travels may not be profitable due to some reason."
   ]
  },
  {
   "cell_type": "markdown",
   "id": "d41e7e62",
   "metadata": {},
   "source": [
    "#### Test10 - Is there a difference in the profit along the years for Yellow Cab company?"
   ]
  },
  {
   "cell_type": "code",
   "execution_count": 216,
   "id": "94790450",
   "metadata": {},
   "outputs": [],
   "source": [
    "df6 = df[df[\"Company\"] == \"Yellow Cab\"]\n",
    "df7 = df[df[\"Company\"] == \"Pink Cab\"]"
   ]
  },
  {
   "cell_type": "code",
   "execution_count": 217,
   "id": "620428fb",
   "metadata": {},
   "outputs": [
    {
     "data": {
      "text/plain": [
       "year\n",
       "2016    169.347821\n",
       "2017    168.817057\n",
       "2018    143.416122\n",
       "Name: Profit, dtype: float64"
      ]
     },
     "execution_count": 217,
     "metadata": {},
     "output_type": "execute_result"
    }
   ],
   "source": [
    "df6.groupby(\"year\").mean()[\"Profit\"]"
   ]
  },
  {
   "cell_type": "markdown",
   "id": "74f84b76",
   "metadata": {},
   "source": [
    "H0: There is no difference in the mean profit of Yellow Cab company for the years 2016, 2017 and 2018.\n",
    "\n",
    "H1: At least one of the years presented a mean profit of Yellow Cab company higher than the other years."
   ]
  },
  {
   "cell_type": "code",
   "execution_count": 226,
   "id": "db41b300",
   "metadata": {},
   "outputs": [
    {
     "name": "stdout",
     "output_type": "stream",
     "text": [
      "T-statistic value:  693.1451171764937\n",
      "P-Value:  5.3455921384708516e-301\n",
      "\n",
      "\n",
      " Multiple Comparison of Means - Tukey HSD, FWER=0.05  \n",
      "======================================================\n",
      "group1 group2 meandiff p-adj   lower    upper   reject\n",
      "------------------------------------------------------\n",
      "  2016   2017  -0.5308 0.7895  -2.4295    1.368  False\n",
      "  2016   2018 -25.9317   -0.0 -27.8485 -24.0149   True\n",
      "  2017   2018 -25.4009   -0.0 -27.2327 -23.5692   True\n",
      "------------------------------------------------------\n"
     ]
    }
   ],
   "source": [
    "from scipy import stats\n",
    "from scipy.stats import f_oneway\n",
    "from statsmodels.stats.multicomp import pairwise_tukeyhsd\n",
    "\n",
    "sample1 = df6[df6[\"year\"] == 2016][\"Profit\"]\n",
    "sample2 = df6[df6[\"year\"] == 2017][\"Profit\"]\n",
    "sample3 = df6[df6[\"year\"] == 2018][\"Profit\"]\n",
    "\n",
    "f_stat, p_value = f_oneway(sample1, sample2, sample3)\n",
    "print(\"T-statistic value: \", t_stat)  \n",
    "print(\"P-Value: \", p_value)\n",
    "\n",
    "tukey = pairwise_tukeyhsd(endog=df6['Profit'],\n",
    "                          groups=df6['year'],\n",
    "                          alpha=0.05)\n",
    "\n",
    "print(\"\\n\")\n",
    "print(tukey)"
   ]
  },
  {
   "cell_type": "markdown",
   "id": "b7836091",
   "metadata": {},
   "source": [
    "According to the Anova and Tukey tests, the mean profit for the year 2018 was significantly lower compared to the previous years 2016 and 2017 for the Yellow Cab company."
   ]
  },
  {
   "cell_type": "markdown",
   "id": "c610a930",
   "metadata": {},
   "source": [
    "#### Test11 - Is there a difference in the profit along the years for Pink Cab company?"
   ]
  },
  {
   "cell_type": "code",
   "execution_count": 218,
   "id": "56425f68",
   "metadata": {},
   "outputs": [
    {
     "data": {
      "text/plain": [
       "year\n",
       "2016    68.321819\n",
       "2017    67.070839\n",
       "2018    53.229689\n",
       "Name: Profit, dtype: float64"
      ]
     },
     "execution_count": 218,
     "metadata": {},
     "output_type": "execute_result"
    }
   ],
   "source": [
    "df7.groupby(\"year\").mean()[\"Profit\"]"
   ]
  },
  {
   "cell_type": "markdown",
   "id": "21cb8aae",
   "metadata": {},
   "source": [
    "H0: There is no difference in the mean profit of Pink Cab company for the years 2016, 2017 and 2018.\n",
    "\n",
    "H1: At least one of the years presented a mean profit of Pink Cab company higher than the other years."
   ]
  },
  {
   "cell_type": "code",
   "execution_count": 227,
   "id": "d0cc86b9",
   "metadata": {},
   "outputs": [
    {
     "name": "stdout",
     "output_type": "stream",
     "text": [
      "T-statistic value:  693.1451171764937\n",
      "P-Value:  1.3845866439321786e-145\n",
      "\n",
      "\n",
      " Multiple Comparison of Means - Tukey HSD, FWER=0.05  \n",
      "======================================================\n",
      "group1 group2 meandiff p-adj   lower    upper   reject\n",
      "------------------------------------------------------\n",
      "  2016   2017   -1.251 0.1397  -2.7971   0.2951  False\n",
      "  2016   2018 -15.0921    0.0 -16.6502  -13.534   True\n",
      "  2017   2018 -13.8411    0.0 -15.3249 -12.3574   True\n",
      "------------------------------------------------------\n"
     ]
    }
   ],
   "source": [
    "from scipy import stats\n",
    "from scipy.stats import f_oneway\n",
    "from statsmodels.stats.multicomp import pairwise_tukeyhsd\n",
    "\n",
    "sample1 = df7[df7[\"year\"] == 2016][\"Profit\"]\n",
    "sample2 = df7[df7[\"year\"] == 2017][\"Profit\"]\n",
    "sample3 = df7[df7[\"year\"] == 2018][\"Profit\"]\n",
    "\n",
    "f_stat, p_value = f_oneway(sample1, sample2, sample3)\n",
    "print(\"T-statistic value: \", t_stat)  \n",
    "print(\"P-Value: \", p_value)\n",
    "\n",
    "tukey = pairwise_tukeyhsd(endog=df7['Profit'],\n",
    "                          groups=df7['year'],\n",
    "                          alpha=0.05)\n",
    "\n",
    "print(\"\\n\")\n",
    "print(tukey)"
   ]
  },
  {
   "cell_type": "markdown",
   "id": "1e5a6570",
   "metadata": {},
   "source": [
    "According to the Anova and Tukey tests, the mean profit for the year 2018 was significantly lower compared to the previous years 2016 and 2017 for the Pink Cab as well."
   ]
  },
  {
   "cell_type": "markdown",
   "id": "3d1afa5e",
   "metadata": {},
   "source": [
    "#### Test12 - Is there a difference in the profit per km along the years for Yellow Cab company?"
   ]
  },
  {
   "cell_type": "code",
   "execution_count": 229,
   "id": "322289f3",
   "metadata": {},
   "outputs": [
    {
     "data": {
      "text/plain": [
       "year\n",
       "2016    7.489847\n",
       "2017    7.494612\n",
       "2018    6.364805\n",
       "Name: Profit_dist, dtype: float64"
      ]
     },
     "execution_count": 229,
     "metadata": {},
     "output_type": "execute_result"
    }
   ],
   "source": [
    "df6.groupby(\"year\").mean()[\"Profit_dist\"]"
   ]
  },
  {
   "cell_type": "markdown",
   "id": "9c9f4e55",
   "metadata": {},
   "source": [
    "H0: There is no difference in the mean profit per km of Yellow Cab company for the years 2016, 2017 and 2018.\n",
    "\n",
    "H1: At least one of the years presented a mean profit per km of Yellow Cab company higher than the other years."
   ]
  },
  {
   "cell_type": "code",
   "execution_count": 230,
   "id": "1a03cc68",
   "metadata": {},
   "outputs": [
    {
     "name": "stdout",
     "output_type": "stream",
     "text": [
      "T-statistic value:  693.1451171764937\n",
      "P-Value:  0.0\n",
      "\n",
      "\n",
      "Multiple Comparison of Means - Tukey HSD, FWER=0.05 \n",
      "====================================================\n",
      "group1 group2 meandiff p-adj   lower   upper  reject\n",
      "----------------------------------------------------\n",
      "  2016   2017   0.0048 0.9833 -0.0591  0.0686  False\n",
      "  2016   2018   -1.125   -0.0 -1.1895 -1.0606   True\n",
      "  2017   2018  -1.1298   -0.0 -1.1914 -1.0682   True\n",
      "----------------------------------------------------\n"
     ]
    }
   ],
   "source": [
    "from scipy import stats\n",
    "from scipy.stats import f_oneway\n",
    "from statsmodels.stats.multicomp import pairwise_tukeyhsd\n",
    "\n",
    "sample1 = df6[df6[\"year\"] == 2016][\"Profit_dist\"]\n",
    "sample2 = df6[df6[\"year\"] == 2017][\"Profit_dist\"]\n",
    "sample3 = df6[df6[\"year\"] == 2018][\"Profit_dist\"]\n",
    "\n",
    "f_stat, p_value = f_oneway(sample1, sample2, sample3)\n",
    "print(\"T-statistic value: \", t_stat)  \n",
    "print(\"P-Value: \", p_value)\n",
    "\n",
    "tukey = pairwise_tukeyhsd(endog=df6['Profit_dist'],\n",
    "                          groups=df6['year'],\n",
    "                          alpha=0.05)\n",
    "\n",
    "print(\"\\n\")\n",
    "print(tukey)"
   ]
  },
  {
   "cell_type": "markdown",
   "id": "5b0da147",
   "metadata": {},
   "source": [
    "A similar pattern was observed for the profit per km for the Yellow Cab company. This means that the profit per km for the year 2018 was lower compared to the previous years assessed in this analysis."
   ]
  },
  {
   "cell_type": "markdown",
   "id": "aaf56f2a",
   "metadata": {},
   "source": [
    "#### Test13 - Is there a difference in the profit per km along the years for Pink Cab company?"
   ]
  },
  {
   "cell_type": "code",
   "execution_count": 231,
   "id": "9d89b66f",
   "metadata": {},
   "outputs": [
    {
     "data": {
      "text/plain": [
       "year\n",
       "2016    3.026813\n",
       "2017    2.962883\n",
       "2018    2.350447\n",
       "Name: Profit_dist, dtype: float64"
      ]
     },
     "execution_count": 231,
     "metadata": {},
     "output_type": "execute_result"
    }
   ],
   "source": [
    "df7.groupby(\"year\").mean()[\"Profit_dist\"]"
   ]
  },
  {
   "cell_type": "markdown",
   "id": "7a0ee088",
   "metadata": {},
   "source": [
    "H0: There is no difference in the mean profit per km of Yellow Cab company for the years 2016, 2017 and 2018.\n",
    "\n",
    "H1: At least one of the years presented a mean profit per km of Yellow Cab company higher than the other years."
   ]
  },
  {
   "cell_type": "code",
   "execution_count": 232,
   "id": "049fe63d",
   "metadata": {},
   "outputs": [
    {
     "name": "stdout",
     "output_type": "stream",
     "text": [
      "T-statistic value:  693.1451171764937\n",
      "P-Value:  2.6571847629273957e-239\n",
      "\n",
      "\n",
      "Multiple Comparison of Means - Tukey HSD, FWER=0.05 \n",
      "====================================================\n",
      "group1 group2 meandiff p-adj   lower   upper  reject\n",
      "----------------------------------------------------\n",
      "  2016   2017  -0.0639 0.0144 -0.1175 -0.0103   True\n",
      "  2016   2018  -0.6764    0.0 -0.7304 -0.6223   True\n",
      "  2017   2018  -0.6124    0.0 -0.6639  -0.561   True\n",
      "----------------------------------------------------\n"
     ]
    }
   ],
   "source": [
    "from scipy import stats\n",
    "from scipy.stats import f_oneway\n",
    "from statsmodels.stats.multicomp import pairwise_tukeyhsd\n",
    "\n",
    "sample1 = df7[df7[\"year\"] == 2016][\"Profit_dist\"]\n",
    "sample2 = df7[df7[\"year\"] == 2017][\"Profit_dist\"]\n",
    "sample3 = df7[df7[\"year\"] == 2018][\"Profit_dist\"]\n",
    "\n",
    "f_stat, p_value = f_oneway(sample1, sample2, sample3)\n",
    "print(\"T-statistic value: \", t_stat)  \n",
    "print(\"P-Value: \", p_value)\n",
    "\n",
    "tukey = pairwise_tukeyhsd(endog=df7['Profit_dist'],\n",
    "                          groups=df7['year'],\n",
    "                          alpha=0.05)\n",
    "\n",
    "print(\"\\n\")\n",
    "print(tukey)"
   ]
  },
  {
   "cell_type": "markdown",
   "id": "bd7b3c34",
   "metadata": {},
   "source": [
    "In the case of the Pink Cab company, it was observed that the profit per km significantly decreased year by year from 2016 to 2018."
   ]
  },
  {
   "cell_type": "markdown",
   "id": "04e84ce7",
   "metadata": {},
   "source": [
    "#### Assumptions:\n",
    "\n",
    "* As there were more transactions in the transaction table compared to the cab-data table, it was susptected that the data in the transaction table could have been from a source considering other cab companies, and therefore, the data that was not related to the Yellow or Pink Cab companies were disregarded.\n",
    "* The outliers identified in the Price Charged variable were kept in the dataset and were also used during the data analaysis as it was assumed that the Price Charged could have been higher, depending on many circumstances that we may not have the information to further investigate, and therefore, they were not treated for this analysis.\n",
    "* The profit was calculated based on the difference between the price charged and the cost of the trip.\n",
    "* Weekends were assumed to be Friday, Saturday and Sunday in any analysis involving the weekdays and weekends.\n",
    "\n",
    "#### Insights:\n",
    "\n",
    "* 359392 registers of rides in the cab_data for two companies (Yellow Cab and Pink Cab) related to the years 2016, 2017 and 2018.\n",
    "* The Yellow Cab (274,681) had about 3 times more rides compared to the Pink Cab (84,711) for the assessed years\n",
    "* The mean age of customers was 35 years old, with most of customers being between 18 and 40 years old. Moreover, the mean income was about USD 15,000.00 per month. Most of customers presented an income lower than USD 25,000.00 per month.\n",
    "* Most of customers had only one transaction, meaning only one ride, however there were many customers with higher number of rides. The customer with the highest number of rides in the 3-year period evaluated was 54 rides.\n",
    "* The cities Washington DC, Boston MA, Los Angeles CA, Chicago IL and San Diego CA were the cities with the highest proportion of cab users considering all 19 cities assessed.\n",
    "* The top 5 cities with higher number of rides for Yellow Cab: New York NY, Chicago IL, Washington DC, Los Angeles CA, Boston MA. The top 5 cities with higher profits included exactly the same cities that presented higher number of rides. These top 5 cities accounted for about 85% of the total profit of this company, considering the years 2016, 2017 and 2018.\n",
    "* The top 5 cities with higher number of rides for Pink Cab: Los Angeles CA, New York NY, San Diego CA, Chicago IL, Boston MA. However, the most profitable ones included the same list with exception to Boston MA, which was replaced by the region of Silicon Valley. These top 5 cities accounted for about 74% of the total profit of this company, considering the years 2016, 2017 and 2018.\n",
    "* When comparing the number of travels per company per city, it was observed that the Yellow Cab company presented a higher number of travels in nearly all cities, with exception to 4 out of 19 cities, which include Nashville TN, Pittsburgh PA, Sacramento CA and San Diego CA.\n",
    "* When analysing the proportion of profitable rides, the Yellow Cab company presented even a higher number of cities that were more profitable to the Yellow Cab compared to the Pink Cab (18 out 19 cities), with exception to Tuscon AZ, where the Pink Cab was more profitable for the 3-year period.\n",
    "* A significative strong positive correlation (0.98, p-value < 0.001) was observed between the distance travelled and the cost of the ride, however the correlation between the distance travelled and the profit was not as strong (0.46, p-value < 0.001).\n",
    "* Some rides were not profitable for both companies during the 3-year period that was evaluated, and they accounted for 13.1% and 5.0% for the Pink Cab and Yellow Cab companies.\n",
    "* The Yellow Cab company presented a higher profit per distance travelled (USD 7.11/Km) compared to the Pink Cab company (USD 2.77/Km) (p-value < 0.001).\n",
    "* Most of trips happened during the weekends (considering Friday, Saturday and Sunday) compared to the weekdays. The mean profit per ride for the weekends was USD 148.73 compared to USD 116.87 for the weekdays (p-value < 0.001).\n",
    "* The last months of the year presented higher number of rides compared to the first months of the year, especially from September to December. The Yellow Cab provided over 25,000 rides in all these months reaching a top of more than 35,000 rides in December. With a similar pattern, the Pink Cab had a lower number of rides, but the top month were also from September to December, reaching a maximum of about 11,500 rides in December too.\n",
    "* For the higher profit per month, the Pink Cab company presente a similar pattern, showing higher profits from September to December. However, for the Yellow Cab, although the months of May and June presented a much lower number of rides compared to September and October, the profit made in May and June were very close to the profit made in September and October.\n",
    "* When comparing the yearly profits, both companies presented an increase in the total profit between the years 2016 and 2017, however, there was a significant decrease in the following year (2018) compared to the previous years (p-value < 0.001) for both companies.\n",
    "* 11,442 (approximately 25%) customers out of 46,148 had only 1 ride, whereas 34,706 customers had more than a ride.\n",
    "* From 34,706 customers that had at least 2 rides, 26,078 used both services (approximately 75%), whereas the remaining 8,628 customers were loyal to one or another company.\n",
    "* The mean profit per customer for the Yellow Cab company (USD 129.37) was higher compared to the Pink Cab (USD 58.51) for the years assessed (p-value < 0.001).\n",
    "* There is no significant difference in the mean income for users of Yellow Cab and Pink Cab companies.\n",
    "* It is interesting to note that non-holidays generated higher profits compared to national holidays.\n",
    "* When weekdays were compared to weekends, highest mean profit per ride was observed during weekends (USD 148.73) compared to weekdays (USD 116.87). Be aware that weekends were considered Friday, Saturday and Sunday.\n",
    "* The mean profit per Km was significantly lower year by year from 2016 to 2018 for the Pink Cab company, whereas the mean profit per Km for the Yellow Cab was significantly lower only in the year 2018 compared to the two previous years.\n",
    "* There was observed a positive strong correlation (0.94) between the number of customers that uses the service per day and the daily profit (p-value < 0.001).\n",
    "\n",
    "\n",
    "#### Conclusion:\n",
    "\n",
    "* Most of rides were provided by the Yellow Cab company, which has a higher number of customers as well.\n",
    "* The profit by Km and profit per customer were higher for the Yellow Cab company in the past years (2016 2017, 2018).\n",
    "* Investing in the Yellow Cab company is recommended, although both companies presented a significant decrease in 2018."
   ]
  }
 ],
 "metadata": {
  "kernelspec": {
   "display_name": "Python 3 (ipykernel)",
   "language": "python",
   "name": "python3"
  },
  "language_info": {
   "codemirror_mode": {
    "name": "ipython",
    "version": 3
   },
   "file_extension": ".py",
   "mimetype": "text/x-python",
   "name": "python",
   "nbconvert_exporter": "python",
   "pygments_lexer": "ipython3",
   "version": "3.9.12"
  }
 },
 "nbformat": 4,
 "nbformat_minor": 5
}
