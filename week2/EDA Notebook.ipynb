{
 "cells": [
  {
   "cell_type": "markdown",
   "id": "559c71eb",
   "metadata": {},
   "source": [
    "## Exploratory Data Analysis Cab Companies"
   ]
  },
  {
   "cell_type": "markdown",
   "id": "2011b8d2",
   "metadata": {},
   "source": [
    "* The aim of this project is to perform EDA to support the Company XYZ to understand the Cab market before making an investment in one of the US Cab companies."
   ]
  },
  {
   "cell_type": "code",
   "execution_count": 1,
   "id": "cb91da67",
   "metadata": {},
   "outputs": [],
   "source": [
    "# Importing the libraries\n",
    "import datetime as dt\n",
    "import pandas as pd\n",
    "import numpy as np\n",
    "import matplotlib.pyplot as plt\n",
    "import seaborn as sns\n",
    "from scipy.stats.stats import pearsonr"
   ]
  },
  {
   "cell_type": "code",
   "execution_count": 2,
   "id": "f5b86c5f",
   "metadata": {},
   "outputs": [],
   "source": [
    "# Loading datasets\n",
    "cab_data = pd.read_csv(\"Cab_Data.csv\")\n",
    "city = pd.read_csv(\"City.csv\")\n",
    "customer = pd.read_csv(\"Customer_ID.csv\")\n",
    "transaction = pd.read_csv(\"Transaction_ID.csv\")\n",
    "holiday = pd.read_csv(\"US_Holidays_2016_2018.csv\", sep=\";\")"
   ]
  },
  {
   "cell_type": "code",
   "execution_count": 3,
   "id": "53d6f221",
   "metadata": {},
   "outputs": [
    {
     "data": {
      "text/html": [
       "<div>\n",
       "<style scoped>\n",
       "    .dataframe tbody tr th:only-of-type {\n",
       "        vertical-align: middle;\n",
       "    }\n",
       "\n",
       "    .dataframe tbody tr th {\n",
       "        vertical-align: top;\n",
       "    }\n",
       "\n",
       "    .dataframe thead th {\n",
       "        text-align: right;\n",
       "    }\n",
       "</style>\n",
       "<table border=\"1\" class=\"dataframe\">\n",
       "  <thead>\n",
       "    <tr style=\"text-align: right;\">\n",
       "      <th></th>\n",
       "      <th>Transaction ID</th>\n",
       "      <th>Date of Travel</th>\n",
       "      <th>Company</th>\n",
       "      <th>City</th>\n",
       "      <th>KM Travelled</th>\n",
       "      <th>Price Charged</th>\n",
       "      <th>Cost of Trip</th>\n",
       "    </tr>\n",
       "  </thead>\n",
       "  <tbody>\n",
       "    <tr>\n",
       "      <th>0</th>\n",
       "      <td>10000011</td>\n",
       "      <td>42377</td>\n",
       "      <td>Pink Cab</td>\n",
       "      <td>ATLANTA GA</td>\n",
       "      <td>30.45</td>\n",
       "      <td>370.95</td>\n",
       "      <td>313.635</td>\n",
       "    </tr>\n",
       "    <tr>\n",
       "      <th>1</th>\n",
       "      <td>10000012</td>\n",
       "      <td>42375</td>\n",
       "      <td>Pink Cab</td>\n",
       "      <td>ATLANTA GA</td>\n",
       "      <td>28.62</td>\n",
       "      <td>358.52</td>\n",
       "      <td>334.854</td>\n",
       "    </tr>\n",
       "    <tr>\n",
       "      <th>2</th>\n",
       "      <td>10000013</td>\n",
       "      <td>42371</td>\n",
       "      <td>Pink Cab</td>\n",
       "      <td>ATLANTA GA</td>\n",
       "      <td>9.04</td>\n",
       "      <td>125.20</td>\n",
       "      <td>97.632</td>\n",
       "    </tr>\n",
       "    <tr>\n",
       "      <th>3</th>\n",
       "      <td>10000014</td>\n",
       "      <td>42376</td>\n",
       "      <td>Pink Cab</td>\n",
       "      <td>ATLANTA GA</td>\n",
       "      <td>33.17</td>\n",
       "      <td>377.40</td>\n",
       "      <td>351.602</td>\n",
       "    </tr>\n",
       "    <tr>\n",
       "      <th>4</th>\n",
       "      <td>10000015</td>\n",
       "      <td>42372</td>\n",
       "      <td>Pink Cab</td>\n",
       "      <td>ATLANTA GA</td>\n",
       "      <td>8.73</td>\n",
       "      <td>114.62</td>\n",
       "      <td>97.776</td>\n",
       "    </tr>\n",
       "  </tbody>\n",
       "</table>\n",
       "</div>"
      ],
      "text/plain": [
       "   Transaction ID  Date of Travel   Company        City  KM Travelled  \\\n",
       "0        10000011           42377  Pink Cab  ATLANTA GA         30.45   \n",
       "1        10000012           42375  Pink Cab  ATLANTA GA         28.62   \n",
       "2        10000013           42371  Pink Cab  ATLANTA GA          9.04   \n",
       "3        10000014           42376  Pink Cab  ATLANTA GA         33.17   \n",
       "4        10000015           42372  Pink Cab  ATLANTA GA          8.73   \n",
       "\n",
       "   Price Charged  Cost of Trip  \n",
       "0         370.95       313.635  \n",
       "1         358.52       334.854  \n",
       "2         125.20        97.632  \n",
       "3         377.40       351.602  \n",
       "4         114.62        97.776  "
      ]
     },
     "execution_count": 3,
     "metadata": {},
     "output_type": "execute_result"
    }
   ],
   "source": [
    "# Visualizing the first rows of Cab dataset\n",
    "cab_data.head()"
   ]
  },
  {
   "cell_type": "code",
   "execution_count": 4,
   "id": "b861dca4",
   "metadata": {},
   "outputs": [
    {
     "data": {
      "text/html": [
       "<div>\n",
       "<style scoped>\n",
       "    .dataframe tbody tr th:only-of-type {\n",
       "        vertical-align: middle;\n",
       "    }\n",
       "\n",
       "    .dataframe tbody tr th {\n",
       "        vertical-align: top;\n",
       "    }\n",
       "\n",
       "    .dataframe thead th {\n",
       "        text-align: right;\n",
       "    }\n",
       "</style>\n",
       "<table border=\"1\" class=\"dataframe\">\n",
       "  <thead>\n",
       "    <tr style=\"text-align: right;\">\n",
       "      <th></th>\n",
       "      <th>City</th>\n",
       "      <th>Population</th>\n",
       "      <th>Users</th>\n",
       "    </tr>\n",
       "  </thead>\n",
       "  <tbody>\n",
       "    <tr>\n",
       "      <th>0</th>\n",
       "      <td>NEW YORK NY</td>\n",
       "      <td>8,405,837</td>\n",
       "      <td>302,149</td>\n",
       "    </tr>\n",
       "    <tr>\n",
       "      <th>1</th>\n",
       "      <td>CHICAGO IL</td>\n",
       "      <td>1,955,130</td>\n",
       "      <td>164,468</td>\n",
       "    </tr>\n",
       "    <tr>\n",
       "      <th>2</th>\n",
       "      <td>LOS ANGELES CA</td>\n",
       "      <td>1,595,037</td>\n",
       "      <td>144,132</td>\n",
       "    </tr>\n",
       "    <tr>\n",
       "      <th>3</th>\n",
       "      <td>MIAMI FL</td>\n",
       "      <td>1,339,155</td>\n",
       "      <td>17,675</td>\n",
       "    </tr>\n",
       "    <tr>\n",
       "      <th>4</th>\n",
       "      <td>SILICON VALLEY</td>\n",
       "      <td>1,177,609</td>\n",
       "      <td>27,247</td>\n",
       "    </tr>\n",
       "  </tbody>\n",
       "</table>\n",
       "</div>"
      ],
      "text/plain": [
       "             City   Population      Users\n",
       "0     NEW YORK NY   8,405,837    302,149 \n",
       "1      CHICAGO IL   1,955,130    164,468 \n",
       "2  LOS ANGELES CA   1,595,037    144,132 \n",
       "3        MIAMI FL   1,339,155     17,675 \n",
       "4  SILICON VALLEY   1,177,609     27,247 "
      ]
     },
     "execution_count": 4,
     "metadata": {},
     "output_type": "execute_result"
    }
   ],
   "source": [
    "# Visualizing the first rows of City dataset\n",
    "city.head()"
   ]
  },
  {
   "cell_type": "code",
   "execution_count": 5,
   "id": "cb51775a",
   "metadata": {},
   "outputs": [
    {
     "data": {
      "text/html": [
       "<div>\n",
       "<style scoped>\n",
       "    .dataframe tbody tr th:only-of-type {\n",
       "        vertical-align: middle;\n",
       "    }\n",
       "\n",
       "    .dataframe tbody tr th {\n",
       "        vertical-align: top;\n",
       "    }\n",
       "\n",
       "    .dataframe thead th {\n",
       "        text-align: right;\n",
       "    }\n",
       "</style>\n",
       "<table border=\"1\" class=\"dataframe\">\n",
       "  <thead>\n",
       "    <tr style=\"text-align: right;\">\n",
       "      <th></th>\n",
       "      <th>Customer ID</th>\n",
       "      <th>Gender</th>\n",
       "      <th>Age</th>\n",
       "      <th>Income (USD/Month)</th>\n",
       "    </tr>\n",
       "  </thead>\n",
       "  <tbody>\n",
       "    <tr>\n",
       "      <th>0</th>\n",
       "      <td>29290</td>\n",
       "      <td>Male</td>\n",
       "      <td>28</td>\n",
       "      <td>10813</td>\n",
       "    </tr>\n",
       "    <tr>\n",
       "      <th>1</th>\n",
       "      <td>27703</td>\n",
       "      <td>Male</td>\n",
       "      <td>27</td>\n",
       "      <td>9237</td>\n",
       "    </tr>\n",
       "    <tr>\n",
       "      <th>2</th>\n",
       "      <td>28712</td>\n",
       "      <td>Male</td>\n",
       "      <td>53</td>\n",
       "      <td>11242</td>\n",
       "    </tr>\n",
       "    <tr>\n",
       "      <th>3</th>\n",
       "      <td>28020</td>\n",
       "      <td>Male</td>\n",
       "      <td>23</td>\n",
       "      <td>23327</td>\n",
       "    </tr>\n",
       "    <tr>\n",
       "      <th>4</th>\n",
       "      <td>27182</td>\n",
       "      <td>Male</td>\n",
       "      <td>33</td>\n",
       "      <td>8536</td>\n",
       "    </tr>\n",
       "  </tbody>\n",
       "</table>\n",
       "</div>"
      ],
      "text/plain": [
       "   Customer ID Gender  Age  Income (USD/Month)\n",
       "0        29290   Male   28               10813\n",
       "1        27703   Male   27                9237\n",
       "2        28712   Male   53               11242\n",
       "3        28020   Male   23               23327\n",
       "4        27182   Male   33                8536"
      ]
     },
     "execution_count": 5,
     "metadata": {},
     "output_type": "execute_result"
    }
   ],
   "source": [
    "# Visualizing the first rows of Customer dataset\n",
    "customer.head()"
   ]
  },
  {
   "cell_type": "code",
   "execution_count": 6,
   "id": "0c2362a7",
   "metadata": {},
   "outputs": [
    {
     "data": {
      "text/html": [
       "<div>\n",
       "<style scoped>\n",
       "    .dataframe tbody tr th:only-of-type {\n",
       "        vertical-align: middle;\n",
       "    }\n",
       "\n",
       "    .dataframe tbody tr th {\n",
       "        vertical-align: top;\n",
       "    }\n",
       "\n",
       "    .dataframe thead th {\n",
       "        text-align: right;\n",
       "    }\n",
       "</style>\n",
       "<table border=\"1\" class=\"dataframe\">\n",
       "  <thead>\n",
       "    <tr style=\"text-align: right;\">\n",
       "      <th></th>\n",
       "      <th>Transaction ID</th>\n",
       "      <th>Customer ID</th>\n",
       "      <th>Payment_Mode</th>\n",
       "    </tr>\n",
       "  </thead>\n",
       "  <tbody>\n",
       "    <tr>\n",
       "      <th>0</th>\n",
       "      <td>10000011</td>\n",
       "      <td>29290</td>\n",
       "      <td>Card</td>\n",
       "    </tr>\n",
       "    <tr>\n",
       "      <th>1</th>\n",
       "      <td>10000012</td>\n",
       "      <td>27703</td>\n",
       "      <td>Card</td>\n",
       "    </tr>\n",
       "    <tr>\n",
       "      <th>2</th>\n",
       "      <td>10000013</td>\n",
       "      <td>28712</td>\n",
       "      <td>Cash</td>\n",
       "    </tr>\n",
       "    <tr>\n",
       "      <th>3</th>\n",
       "      <td>10000014</td>\n",
       "      <td>28020</td>\n",
       "      <td>Cash</td>\n",
       "    </tr>\n",
       "    <tr>\n",
       "      <th>4</th>\n",
       "      <td>10000015</td>\n",
       "      <td>27182</td>\n",
       "      <td>Card</td>\n",
       "    </tr>\n",
       "  </tbody>\n",
       "</table>\n",
       "</div>"
      ],
      "text/plain": [
       "   Transaction ID  Customer ID Payment_Mode\n",
       "0        10000011        29290         Card\n",
       "1        10000012        27703         Card\n",
       "2        10000013        28712         Cash\n",
       "3        10000014        28020         Cash\n",
       "4        10000015        27182         Card"
      ]
     },
     "execution_count": 6,
     "metadata": {},
     "output_type": "execute_result"
    }
   ],
   "source": [
    "# Visualizing the first rows of Transaction dataset\n",
    "transaction.head()"
   ]
  },
  {
   "cell_type": "code",
   "execution_count": 7,
   "id": "0b1f538f",
   "metadata": {},
   "outputs": [
    {
     "data": {
      "text/html": [
       "<div>\n",
       "<style scoped>\n",
       "    .dataframe tbody tr th:only-of-type {\n",
       "        vertical-align: middle;\n",
       "    }\n",
       "\n",
       "    .dataframe tbody tr th {\n",
       "        vertical-align: top;\n",
       "    }\n",
       "\n",
       "    .dataframe thead th {\n",
       "        text-align: right;\n",
       "    }\n",
       "</style>\n",
       "<table border=\"1\" class=\"dataframe\">\n",
       "  <thead>\n",
       "    <tr style=\"text-align: right;\">\n",
       "      <th></th>\n",
       "      <th>Date</th>\n",
       "      <th>Holiday</th>\n",
       "    </tr>\n",
       "  </thead>\n",
       "  <tbody>\n",
       "    <tr>\n",
       "      <th>0</th>\n",
       "      <td>1/18/2016</td>\n",
       "      <td>Birthday of Martin Luther King, Jr.</td>\n",
       "    </tr>\n",
       "    <tr>\n",
       "      <th>1</th>\n",
       "      <td>2/15/2016</td>\n",
       "      <td>Washington's Birthday</td>\n",
       "    </tr>\n",
       "    <tr>\n",
       "      <th>2</th>\n",
       "      <td>5/30/2016</td>\n",
       "      <td>Memorial Day</td>\n",
       "    </tr>\n",
       "    <tr>\n",
       "      <th>3</th>\n",
       "      <td>7/4/2016</td>\n",
       "      <td>Independence Day</td>\n",
       "    </tr>\n",
       "    <tr>\n",
       "      <th>4</th>\n",
       "      <td>9/5/2016</td>\n",
       "      <td>Labor Day</td>\n",
       "    </tr>\n",
       "  </tbody>\n",
       "</table>\n",
       "</div>"
      ],
      "text/plain": [
       "        Date                              Holiday\n",
       "0  1/18/2016  Birthday of Martin Luther King, Jr.\n",
       "1  2/15/2016                Washington's Birthday\n",
       "2  5/30/2016                         Memorial Day\n",
       "3   7/4/2016                     Independence Day\n",
       "4   9/5/2016                            Labor Day"
      ]
     },
     "execution_count": 7,
     "metadata": {},
     "output_type": "execute_result"
    }
   ],
   "source": [
    "# Visualizing the first rows of Holiday dataset\n",
    "holiday.head()"
   ]
  },
  {
   "cell_type": "code",
   "execution_count": 8,
   "id": "71210d6e",
   "metadata": {},
   "outputs": [
    {
     "name": "stdout",
     "output_type": "stream",
     "text": [
      "\n",
      "Cab_Data\n",
      "\n",
      "Total number of observations: 359392\n",
      "Total number of features: 7\n",
      "Number of duplicated registers: 0\n",
      "Data type of features:\n",
      "Transaction ID      int64\n",
      "Date of Travel      int64\n",
      "Company            object\n",
      "City               object\n",
      "KM Travelled      float64\n",
      "Price Charged     float64\n",
      "Cost of Trip      float64\n",
      "dtype: object\n",
      "\n",
      "City\n",
      "\n",
      "Total number of observations: 20\n",
      "Total number of features: 3\n",
      "Number of duplicated registers: 0\n",
      "Data type of features:\n",
      "City          object\n",
      "Population    object\n",
      "Users         object\n",
      "dtype: object\n",
      "\n",
      "Customer\n",
      "\n",
      "Total number of observations: 49171\n",
      "Total number of features: 4\n",
      "Number of duplicated registers: 0\n",
      "Data type of features:\n",
      "Customer ID            int64\n",
      "Gender                object\n",
      "Age                    int64\n",
      "Income (USD/Month)     int64\n",
      "dtype: object\n",
      "\n",
      "Transaction\n",
      "\n",
      "Total number of observations: 440098\n",
      "Total number of features: 3\n",
      "Number of duplicated registers: 0\n",
      "Data type of features:\n",
      "Transaction ID     int64\n",
      "Customer ID        int64\n",
      "Payment_Mode      object\n",
      "dtype: object\n",
      "\n",
      "Holiday\n",
      "\n",
      "Total number of observations: 29\n",
      "Total number of features: 2\n",
      "Number of duplicated registers: 0\n",
      "Data type of features:\n",
      "Date       object\n",
      "Holiday    object\n",
      "dtype: object\n"
     ]
    }
   ],
   "source": [
    "# Checking details of each dataset for data intake report\n",
    "print(\"\\nCab_Data\\n\")\n",
    "print(\"Total number of observations: {}\".format(len(cab_data)))\n",
    "print(\"Total number of features: {}\".format(len(cab_data.columns)))\n",
    "print(\"Number of duplicated registers: {}\".format(sum(cab_data.duplicated())))\n",
    "print(\"Data type of features:\\n{}\".format(cab_data.dtypes))\n",
    "\n",
    "print(\"\\nCity\\n\")\n",
    "print(\"Total number of observations: {}\".format(len(city)))\n",
    "print(\"Total number of features: {}\".format(len(city.columns)))\n",
    "print(\"Number of duplicated registers: {}\".format(sum(city.duplicated())))\n",
    "print(\"Data type of features:\\n{}\".format(city.dtypes))\n",
    "\n",
    "print(\"\\nCustomer\\n\")\n",
    "print(\"Total number of observations: {}\".format(len(customer)))\n",
    "print(\"Total number of features: {}\".format(len(customer.columns)))\n",
    "print(\"Number of duplicated registers: {}\".format(sum(customer.duplicated())))\n",
    "print(\"Data type of features:\\n{}\".format(customer.dtypes))\n",
    "\n",
    "print(\"\\nTransaction\\n\")\n",
    "print(\"Total number of observations: {}\".format(len(transaction)))\n",
    "print(\"Total number of features: {}\".format(len(transaction.columns)))\n",
    "print(\"Number of duplicated registers: {}\".format(sum(transaction.duplicated())))\n",
    "print(\"Data type of features:\\n{}\".format(transaction.dtypes))\n",
    "\n",
    "print(\"\\nHoliday\\n\")\n",
    "print(\"Total number of observations: {}\".format(len(holiday)))\n",
    "print(\"Total number of features: {}\".format(len(holiday.columns)))\n",
    "print(\"Number of duplicated registers: {}\".format(sum(holiday.duplicated())))\n",
    "print(\"Data type of features:\\n{}\".format(holiday.dtypes))"
   ]
  },
  {
   "cell_type": "code",
   "execution_count": 9,
   "id": "b4f4b3e7",
   "metadata": {},
   "outputs": [
    {
     "name": "stdout",
     "output_type": "stream",
     "text": [
      "359392\n",
      "1095\n",
      "2\n",
      "19\n",
      "874\n",
      "99176\n",
      "16291\n"
     ]
    }
   ],
   "source": [
    "# Checking unique values for cab_data\n",
    "for col in cab_data.columns:\n",
    "    print(len(cab_data[col].unique()))"
   ]
  },
  {
   "cell_type": "code",
   "execution_count": 10,
   "id": "646d5b53",
   "metadata": {},
   "outputs": [
    {
     "name": "stdout",
     "output_type": "stream",
     "text": [
      "20\n",
      "20\n",
      "20\n"
     ]
    }
   ],
   "source": [
    "# Checking unique values for city\n",
    "for col in city.columns:\n",
    "    print(len(city[col].unique()))"
   ]
  },
  {
   "cell_type": "code",
   "execution_count": 11,
   "id": "90e7f405",
   "metadata": {},
   "outputs": [
    {
     "name": "stdout",
     "output_type": "stream",
     "text": [
      "49171\n",
      "2\n",
      "48\n",
      "23341\n"
     ]
    }
   ],
   "source": [
    "# Checking unique values for customer\n",
    "for col in customer.columns:\n",
    "    print(len(customer[col].unique()))"
   ]
  },
  {
   "cell_type": "code",
   "execution_count": 12,
   "id": "a07b6ff4",
   "metadata": {},
   "outputs": [
    {
     "name": "stdout",
     "output_type": "stream",
     "text": [
      "440098\n",
      "49171\n",
      "2\n"
     ]
    }
   ],
   "source": [
    "# Checking unique values for transaction\n",
    "for col in transaction.columns:\n",
    "    print(len(transaction[col].unique()))"
   ]
  },
  {
   "cell_type": "code",
   "execution_count": 13,
   "id": "15b0ebdb",
   "metadata": {},
   "outputs": [
    {
     "name": "stdout",
     "output_type": "stream",
     "text": [
      "29\n",
      "10\n"
     ]
    }
   ],
   "source": [
    "# Checking unique values for holiday\n",
    "for col in holiday.columns:\n",
    "    print(len(holiday[col].unique()))"
   ]
  },
  {
   "cell_type": "markdown",
   "id": "2df957ed",
   "metadata": {},
   "source": [
    "### Features Dictionary"
   ]
  },
  {
   "cell_type": "markdown",
   "id": "77a8968f",
   "metadata": {},
   "source": [
    "#### Dataset1 - cab_data\n",
    "* Transaction ID - transaction identification (categorical variable)\n",
    "* Date of Travel - number of days since (1899-12-30) (integer variable)\n",
    "* Company - name of the company which did the trip (categorical variable)\n",
    "* City - city names where each trip happened (categorical variable)\n",
    "* KM Travelled - distance per trip (float variable)\n",
    "* Price Charged - charged price per trip (float variable)\n",
    "* Cost of Trip - the cost per trip (float variable)"
   ]
  },
  {
   "cell_type": "markdown",
   "id": "53f17152",
   "metadata": {},
   "source": [
    "#### Dataset2 - city\n",
    "* City - city names (cateorical variable)\n",
    "* Population - population per city (float variable)\n",
    "* Users - number of users per city (float variable)"
   ]
  },
  {
   "cell_type": "markdown",
   "id": "4d9e4a4a",
   "metadata": {},
   "source": [
    "#### Dataset3 - customer\n",
    "* Customer ID - customer identification (categorical variable)\n",
    "* Gender - gender of the customer (categorical variable)\n",
    "* Age - age of the customer (integer variable)\n",
    "* Income (USD/Month) - income of customers (float variable)"
   ]
  },
  {
   "cell_type": "markdown",
   "id": "7797b68f",
   "metadata": {},
   "source": [
    "#### Dataset4 - transaction\n",
    "* Transaction ID - transaction identification (categorical variable)\n",
    "* Customer ID - customer identification (categorical variable)\n",
    "* Payment_Mode - method of payment (categorical variable)"
   ]
  },
  {
   "cell_type": "markdown",
   "id": "b4414049",
   "metadata": {},
   "source": [
    "#### Dataset5 - Holiday\n",
    "* Date - the date of the holiday (categorical variable)\n",
    "* Holiday - name of holiday (categorical variable)"
   ]
  },
  {
   "cell_type": "markdown",
   "id": "cf49b20f",
   "metadata": {},
   "source": [
    "#### Changing Data Types"
   ]
  },
  {
   "cell_type": "code",
   "execution_count": 14,
   "id": "908b368e",
   "metadata": {},
   "outputs": [],
   "source": [
    "# Changing the data type of dataset1 - cab_data\n",
    "cab_data[\"Transaction ID\"] = cab_data[\"Transaction ID\"].astype(str)\n",
    "cab_data[\"Date of Travel\"] = cab_data[\"Date of Travel\"].apply(lambda x: (dt.date(1899,12,30) + dt.timedelta(x)).strftime(\"%Y-%m-%d\"))\n",
    "cab_data[\"Date of Travel\"] = cab_data[\"Date of Travel\"].apply(lambda x: dt.datetime.strptime(x, '%Y-%m-%d').date())"
   ]
  },
  {
   "cell_type": "code",
   "execution_count": 15,
   "id": "7ac22058",
   "metadata": {},
   "outputs": [],
   "source": [
    "# Changing the data type of dataset2 - city\n",
    "city[\"Population\"] = city[\"Population\"].str.replace(\",\", \"\").astype(int)\n",
    "city[\"Users\"] = city[\"Users\"].str.replace(\",\", \"\").astype(int)"
   ]
  },
  {
   "cell_type": "code",
   "execution_count": 16,
   "id": "6f3a724d",
   "metadata": {},
   "outputs": [],
   "source": [
    "# Changing the data type of dataset3 - customer\n",
    "customer[\"Customer ID\"] = customer[\"Customer ID\"].astype(str)\n",
    "customer[\"Income (USD/Month)\"] = customer[\"Income (USD/Month)\"].astype(float)"
   ]
  },
  {
   "cell_type": "code",
   "execution_count": 17,
   "id": "57b65687",
   "metadata": {},
   "outputs": [],
   "source": [
    "# Changing the data type of dataset4 - transaction\n",
    "transaction[\"Transaction ID\"] = transaction[\"Transaction ID\"].astype(str)\n",
    "transaction[\"Customer ID\"] = transaction[\"Customer ID\"].astype(str)"
   ]
  },
  {
   "cell_type": "code",
   "execution_count": 18,
   "id": "c03ffe1f",
   "metadata": {},
   "outputs": [],
   "source": [
    "# Changing the data type of dataset5 - holiday\n",
    "holiday[\"Date\"] = holiday[\"Date\"].apply(lambda x: dt.datetime.strptime(x, '%m/%d/%Y').date())"
   ]
  },
  {
   "cell_type": "markdown",
   "id": "199e6abd",
   "metadata": {},
   "source": [
    "## Descriptive Analysis (univariate analysis)\n",
    "### Getting to know the datasets"
   ]
  },
  {
   "cell_type": "markdown",
   "id": "aa8e0b31",
   "metadata": {},
   "source": [
    "#### Dataset1 - cab_data"
   ]
  },
  {
   "cell_type": "code",
   "execution_count": 19,
   "id": "e55a5f0c",
   "metadata": {},
   "outputs": [
    {
     "name": "stdout",
     "output_type": "stream",
     "text": [
      "<class 'pandas.core.frame.DataFrame'>\n",
      "RangeIndex: 359392 entries, 0 to 359391\n",
      "Data columns (total 7 columns):\n",
      " #   Column          Non-Null Count   Dtype  \n",
      "---  ------          --------------   -----  \n",
      " 0   Transaction ID  359392 non-null  object \n",
      " 1   Date of Travel  359392 non-null  object \n",
      " 2   Company         359392 non-null  object \n",
      " 3   City            359392 non-null  object \n",
      " 4   KM Travelled    359392 non-null  float64\n",
      " 5   Price Charged   359392 non-null  float64\n",
      " 6   Cost of Trip    359392 non-null  float64\n",
      "dtypes: float64(3), object(4)\n",
      "memory usage: 19.2+ MB\n"
     ]
    }
   ],
   "source": [
    "cab_data.info()"
   ]
  },
  {
   "cell_type": "markdown",
   "id": "677b8c32",
   "metadata": {},
   "source": [
    "The dataset1 contains 4 categorical and 3 numerical variables."
   ]
  },
  {
   "cell_type": "markdown",
   "id": "cbdafd71",
   "metadata": {},
   "source": [
    "* Categorical Variables Analysis"
   ]
  },
  {
   "cell_type": "code",
   "execution_count": 20,
   "id": "71d51364",
   "metadata": {},
   "outputs": [
    {
     "data": {
      "text/plain": [
       "359392"
      ]
     },
     "execution_count": 20,
     "metadata": {},
     "output_type": "execute_result"
    }
   ],
   "source": [
    "# Checking unique values for Transaction ID\n",
    "len(cab_data[\"Transaction ID\"].unique())"
   ]
  },
  {
   "cell_type": "code",
   "execution_count": 21,
   "id": "94230426",
   "metadata": {},
   "outputs": [
    {
     "data": {
      "text/plain": [
       "1095"
      ]
     },
     "execution_count": 21,
     "metadata": {},
     "output_type": "execute_result"
    }
   ],
   "source": [
    "# Checking unique values for Date of Travel\n",
    "len(cab_data[\"Date of Travel\"].unique())"
   ]
  },
  {
   "cell_type": "code",
   "execution_count": 22,
   "id": "1b2c43b5",
   "metadata": {},
   "outputs": [
    {
     "data": {
      "text/plain": [
       "2018-01-05    2022\n",
       "2017-12-15    1123\n",
       "2017-12-08    1100\n",
       "2018-12-15    1086\n",
       "2017-11-24    1085\n",
       "              ... \n",
       "2016-01-19      88\n",
       "2016-01-12      86\n",
       "2016-01-11      85\n",
       "2016-01-05      47\n",
       "2016-01-04      25\n",
       "Name: Date of Travel, Length: 1095, dtype: int64"
      ]
     },
     "execution_count": 22,
     "metadata": {},
     "output_type": "execute_result"
    }
   ],
   "source": [
    "# Value count for Date of Travel\n",
    "dates_count = cab_data[\"Date of Travel\"].value_counts()\n",
    "dates_count"
   ]
  },
  {
   "cell_type": "code",
   "execution_count": 23,
   "id": "4d00d01f",
   "metadata": {},
   "outputs": [
    {
     "data": {
      "text/plain": [
       "2"
      ]
     },
     "execution_count": 23,
     "metadata": {},
     "output_type": "execute_result"
    }
   ],
   "source": [
    "# Checking unique values for Company\n",
    "len(cab_data[\"Company\"].unique())"
   ]
  },
  {
   "cell_type": "code",
   "execution_count": 24,
   "id": "80ef7dfa",
   "metadata": {},
   "outputs": [
    {
     "data": {
      "text/plain": [
       "Yellow Cab    274681\n",
       "Pink Cab       84711\n",
       "Name: Company, dtype: int64"
      ]
     },
     "execution_count": 24,
     "metadata": {},
     "output_type": "execute_result"
    }
   ],
   "source": [
    "# Value count for Company\n",
    "company_count = cab_data[\"Company\"].value_counts()\n",
    "company_count"
   ]
  },
  {
   "cell_type": "code",
   "execution_count": 25,
   "id": "90f78ad7",
   "metadata": {},
   "outputs": [
    {
     "data": {
      "image/png": "[encoded data removed]",
      "text/plain": [
       "<Figure size 864x576 with 1 Axes>"
      ]
     },
     "metadata": {
      "needs_background": "light"
     },
     "output_type": "display_data"
    }
   ],
   "source": [
    "# Plotting the number of transactions per company\n",
    "fig = plt.figure(figsize=[12,8])\n",
    "plt.bar(company_count.index, company_count.values)\n",
    "plt.show()"
   ]
  },
  {
   "cell_type": "code",
   "execution_count": 26,
   "id": "a9597748",
   "metadata": {},
   "outputs": [
    {
     "data": {
      "text/plain": [
       "19"
      ]
     },
     "execution_count": 26,
     "metadata": {},
     "output_type": "execute_result"
    }
   ],
   "source": [
    "# Checking unique values for City\n",
    "len(cab_data[\"City\"].unique())"
   ]
  },
  {
   "cell_type": "code",
   "execution_count": 27,
   "id": "f0572ae0",
   "metadata": {},
   "outputs": [],
   "source": [
    "# Value count for City\n",
    "city_count = cab_data[\"City\"].value_counts()\n",
    "city_count = city_count.sort_values()"
   ]
  },
  {
   "cell_type": "code",
   "execution_count": 28,
   "id": "9dd8ccaa",
   "metadata": {},
   "outputs": [
    {
     "data": {
      "image/png": "[encoded data removed]",
      "text/plain": [
       "<Figure size 864x576 with 1 Axes>"
      ]
     },
     "metadata": {
      "needs_background": "light"
     },
     "output_type": "display_data"
    }
   ],
   "source": [
    "# Plotting the number of customer per city\n",
    "fig = plt.figure(figsize=[12,8])\n",
    "plt.barh(city_count.index, city_count.values)\n",
    "plt.show()"
   ]
  },
  {
   "cell_type": "markdown",
   "id": "ea20e2a0",
   "metadata": {},
   "source": [
    "* Numerical Variables Analysis"
   ]
  },
  {
   "cell_type": "code",
   "execution_count": 29,
   "id": "2de7e950",
   "metadata": {},
   "outputs": [
    {
     "data": {
      "text/html": [
       "<div>\n",
       "<style scoped>\n",
       "    .dataframe tbody tr th:only-of-type {\n",
       "        vertical-align: middle;\n",
       "    }\n",
       "\n",
       "    .dataframe tbody tr th {\n",
       "        vertical-align: top;\n",
       "    }\n",
       "\n",
       "    .dataframe thead th {\n",
       "        text-align: right;\n",
       "    }\n",
       "</style>\n",
       "<table border=\"1\" class=\"dataframe\">\n",
       "  <thead>\n",
       "    <tr style=\"text-align: right;\">\n",
       "      <th></th>\n",
       "      <th>KM Travelled</th>\n",
       "      <th>Price Charged</th>\n",
       "      <th>Cost of Trip</th>\n",
       "    </tr>\n",
       "  </thead>\n",
       "  <tbody>\n",
       "    <tr>\n",
       "      <th>count</th>\n",
       "      <td>359392.000000</td>\n",
       "      <td>359392.000000</td>\n",
       "      <td>359392.000000</td>\n",
       "    </tr>\n",
       "    <tr>\n",
       "      <th>mean</th>\n",
       "      <td>22.567254</td>\n",
       "      <td>423.443311</td>\n",
       "      <td>286.190113</td>\n",
       "    </tr>\n",
       "    <tr>\n",
       "      <th>std</th>\n",
       "      <td>12.233526</td>\n",
       "      <td>274.378911</td>\n",
       "      <td>157.993661</td>\n",
       "    </tr>\n",
       "    <tr>\n",
       "      <th>min</th>\n",
       "      <td>1.900000</td>\n",
       "      <td>15.600000</td>\n",
       "      <td>19.000000</td>\n",
       "    </tr>\n",
       "    <tr>\n",
       "      <th>25%</th>\n",
       "      <td>12.000000</td>\n",
       "      <td>206.437500</td>\n",
       "      <td>151.200000</td>\n",
       "    </tr>\n",
       "    <tr>\n",
       "      <th>50%</th>\n",
       "      <td>22.440000</td>\n",
       "      <td>386.360000</td>\n",
       "      <td>282.480000</td>\n",
       "    </tr>\n",
       "    <tr>\n",
       "      <th>75%</th>\n",
       "      <td>32.960000</td>\n",
       "      <td>583.660000</td>\n",
       "      <td>413.683200</td>\n",
       "    </tr>\n",
       "    <tr>\n",
       "      <th>max</th>\n",
       "      <td>48.000000</td>\n",
       "      <td>2048.030000</td>\n",
       "      <td>691.200000</td>\n",
       "    </tr>\n",
       "  </tbody>\n",
       "</table>\n",
       "</div>"
      ],
      "text/plain": [
       "        KM Travelled  Price Charged   Cost of Trip\n",
       "count  359392.000000  359392.000000  359392.000000\n",
       "mean       22.567254     423.443311     286.190113\n",
       "std        12.233526     274.378911     157.993661\n",
       "min         1.900000      15.600000      19.000000\n",
       "25%        12.000000     206.437500     151.200000\n",
       "50%        22.440000     386.360000     282.480000\n",
       "75%        32.960000     583.660000     413.683200\n",
       "max        48.000000    2048.030000     691.200000"
      ]
     },
     "execution_count": 29,
     "metadata": {},
     "output_type": "execute_result"
    }
   ],
   "source": [
    "# Checking statistics for KM Travelled, Price Charged and Cost of Trip\n",
    "cab_data.describe()"
   ]
  },
  {
   "cell_type": "code",
   "execution_count": 30,
   "id": "c0219ab4",
   "metadata": {},
   "outputs": [
    {
     "data": {
      "image/png": "[encoded data removed]",
      "text/plain": [
       "<Figure size 1152x576 with 1 Axes>"
      ]
     },
     "metadata": {
      "needs_background": "light"
     },
     "output_type": "display_data"
    }
   ],
   "source": [
    "# Plotting the distribution for KM Travelled\n",
    "fig = plt.figure(figsize=[16,8])\n",
    "plt.hist(cab_data[\"KM Travelled\"])\n",
    "plt.vlines(x=cab_data[\"KM Travelled\"].mean(), ymin=0, ymax=4e4, color=\"red\")\n",
    "plt.annotate(\"Mean KM Travelled\", xy=(20, 4.1e4))\n",
    "plt.show()"
   ]
  },
  {
   "cell_type": "code",
   "execution_count": 31,
   "id": "48e1fad8",
   "metadata": {},
   "outputs": [
    {
     "data": {
      "image/png": "[encoded data removed]",
      "text/plain": [
       "<Figure size 1152x576 with 1 Axes>"
      ]
     },
     "metadata": {
      "needs_background": "light"
     },
     "output_type": "display_data"
    }
   ],
   "source": [
    "# Plotting the distribution for Price Charged\n",
    "fig = plt.figure(figsize=[16,8])\n",
    "plt.hist(cab_data[\"Price Charged\"])\n",
    "plt.vlines(x=cab_data[\"Price Charged\"].mean(), ymin=0, ymax=1.02e5, color=\"red\")\n",
    "plt.annotate(\"Mean Price Charged\", xy=(320, 1.03e5))\n",
    "plt.show()"
   ]
  },
  {
   "cell_type": "markdown",
   "id": "da2620e2",
   "metadata": {},
   "source": [
    "It seems that a few data points for the higher charged prices are outliers. Later on this section, let's build a few boxplots to help identifying which variables presents outliers."
   ]
  },
  {
   "cell_type": "code",
   "execution_count": 32,
   "id": "6fc72bdd",
   "metadata": {},
   "outputs": [
    {
     "data": {
      "image/png": "[encoded data removed]",
      "text/plain": [
       "<Figure size 1152x576 with 1 Axes>"
      ]
     },
     "metadata": {
      "needs_background": "light"
     },
     "output_type": "display_data"
    }
   ],
   "source": [
    "# Plotting the distribution for Cost of Trip\n",
    "fig = plt.figure(figsize=[16,8])\n",
    "plt.hist(cab_data[\"Cost of Trip\"])\n",
    "plt.vlines(x=cab_data[\"Cost of Trip\"].mean(), ymin=0, ymax=4.7e4, color=\"red\")\n",
    "plt.annotate(\"Mean Cost of Trip\", xy=(250, 4.75e4))\n",
    "plt.show()"
   ]
  },
  {
   "cell_type": "markdown",
   "id": "5c8d5824",
   "metadata": {},
   "source": [
    "#### Dataset2 - city"
   ]
  },
  {
   "cell_type": "code",
   "execution_count": 33,
   "id": "eeb27323",
   "metadata": {},
   "outputs": [
    {
     "name": "stdout",
     "output_type": "stream",
     "text": [
      "<class 'pandas.core.frame.DataFrame'>\n",
      "RangeIndex: 20 entries, 0 to 19\n",
      "Data columns (total 3 columns):\n",
      " #   Column      Non-Null Count  Dtype \n",
      "---  ------      --------------  ----- \n",
      " 0   City        20 non-null     object\n",
      " 1   Population  20 non-null     int64 \n",
      " 2   Users       20 non-null     int64 \n",
      "dtypes: int64(2), object(1)\n",
      "memory usage: 608.0+ bytes\n"
     ]
    }
   ],
   "source": [
    "# Checking the size, number of NA values and type of data for dataset2\n",
    "city.info()"
   ]
  },
  {
   "cell_type": "markdown",
   "id": "708d3762",
   "metadata": {},
   "source": [
    "There is 1 catergorical variable and 2 numeric variables"
   ]
  },
  {
   "cell_type": "markdown",
   "id": "002e9840",
   "metadata": {},
   "source": [
    "* Categorical Variable Analysis"
   ]
  },
  {
   "cell_type": "code",
   "execution_count": 34,
   "id": "80dab774",
   "metadata": {},
   "outputs": [
    {
     "data": {
      "text/plain": [
       "20"
      ]
     },
     "execution_count": 34,
     "metadata": {},
     "output_type": "execute_result"
    }
   ],
   "source": [
    "# Checking unique values for City\n",
    "len(city[\"City\"].unique())"
   ]
  },
  {
   "cell_type": "code",
   "execution_count": 35,
   "id": "25aad74a",
   "metadata": {},
   "outputs": [
    {
     "data": {
      "text/plain": [
       "array(['NEW YORK NY', 'CHICAGO IL', 'LOS ANGELES CA', 'MIAMI FL',\n",
       "       'SILICON VALLEY', 'ORANGE COUNTY', 'SAN DIEGO CA', 'PHOENIX AZ',\n",
       "       'DALLAS TX', 'ATLANTA GA', 'DENVER CO', 'AUSTIN TX', 'SEATTLE WA',\n",
       "       'TUCSON AZ', 'SAN FRANCISCO CA', 'SACRAMENTO CA', 'PITTSBURGH PA',\n",
       "       'WASHINGTON DC', 'NASHVILLE TN', 'BOSTON MA'], dtype=object)"
      ]
     },
     "execution_count": 35,
     "metadata": {},
     "output_type": "execute_result"
    }
   ],
   "source": [
    "# Checking the unique city names\n",
    "city[\"City\"].unique()"
   ]
  },
  {
   "cell_type": "markdown",
   "id": "ff1d7082",
   "metadata": {},
   "source": [
    "From the dataset2, there are 20 unique cities."
   ]
  },
  {
   "cell_type": "markdown",
   "id": "fe164f74",
   "metadata": {},
   "source": [
    "* Numerical Variable Analysis"
   ]
  },
  {
   "cell_type": "code",
   "execution_count": 36,
   "id": "6757a653",
   "metadata": {},
   "outputs": [
    {
     "data": {
      "text/html": [
       "<div>\n",
       "<style scoped>\n",
       "    .dataframe tbody tr th:only-of-type {\n",
       "        vertical-align: middle;\n",
       "    }\n",
       "\n",
       "    .dataframe tbody tr th {\n",
       "        vertical-align: top;\n",
       "    }\n",
       "\n",
       "    .dataframe thead th {\n",
       "        text-align: right;\n",
       "    }\n",
       "</style>\n",
       "<table border=\"1\" class=\"dataframe\">\n",
       "  <thead>\n",
       "    <tr style=\"text-align: right;\">\n",
       "      <th></th>\n",
       "      <th>Population</th>\n",
       "      <th>Users</th>\n",
       "    </tr>\n",
       "  </thead>\n",
       "  <tbody>\n",
       "    <tr>\n",
       "      <th>count</th>\n",
       "      <td>2.000000e+01</td>\n",
       "      <td>20.000000</td>\n",
       "    </tr>\n",
       "    <tr>\n",
       "      <th>mean</th>\n",
       "      <td>1.231592e+06</td>\n",
       "      <td>64520.650000</td>\n",
       "    </tr>\n",
       "    <tr>\n",
       "      <th>std</th>\n",
       "      <td>1.740127e+06</td>\n",
       "      <td>83499.375289</td>\n",
       "    </tr>\n",
       "    <tr>\n",
       "      <th>min</th>\n",
       "      <td>2.489680e+05</td>\n",
       "      <td>3643.000000</td>\n",
       "    </tr>\n",
       "    <tr>\n",
       "      <th>25%</th>\n",
       "      <td>6.086372e+05</td>\n",
       "      <td>11633.250000</td>\n",
       "    </tr>\n",
       "    <tr>\n",
       "      <th>50%</th>\n",
       "      <td>7.845590e+05</td>\n",
       "      <td>23429.000000</td>\n",
       "    </tr>\n",
       "    <tr>\n",
       "      <th>75%</th>\n",
       "      <td>1.067041e+06</td>\n",
       "      <td>91766.000000</td>\n",
       "    </tr>\n",
       "    <tr>\n",
       "      <th>max</th>\n",
       "      <td>8.405837e+06</td>\n",
       "      <td>302149.000000</td>\n",
       "    </tr>\n",
       "  </tbody>\n",
       "</table>\n",
       "</div>"
      ],
      "text/plain": [
       "         Population          Users\n",
       "count  2.000000e+01      20.000000\n",
       "mean   1.231592e+06   64520.650000\n",
       "std    1.740127e+06   83499.375289\n",
       "min    2.489680e+05    3643.000000\n",
       "25%    6.086372e+05   11633.250000\n",
       "50%    7.845590e+05   23429.000000\n",
       "75%    1.067041e+06   91766.000000\n",
       "max    8.405837e+06  302149.000000"
      ]
     },
     "execution_count": 36,
     "metadata": {},
     "output_type": "execute_result"
    }
   ],
   "source": [
    "# Checking statistics for Population and Users\n",
    "city.describe()"
   ]
  },
  {
   "cell_type": "code",
   "execution_count": 37,
   "id": "87055327",
   "metadata": {},
   "outputs": [
    {
     "data": {
      "image/png": "[encoded data removed]",
      "text/plain": [
       "<Figure size 1152x576 with 1 Axes>"
      ]
     },
     "metadata": {
      "needs_background": "light"
     },
     "output_type": "display_data"
    }
   ],
   "source": [
    "# Plotting the distribution for Population\n",
    "fig = plt.figure(figsize=[16,8])\n",
    "plt.hist(city[\"Population\"])\n",
    "plt.vlines(x=city[\"Population\"].mean(), ymin=0, ymax=15, color=\"red\")\n",
    "plt.annotate(\"Mean Population Size\", xy=(0.8e6, 15.2))\n",
    "plt.show()"
   ]
  },
  {
   "cell_type": "code",
   "execution_count": 38,
   "id": "f830df95",
   "metadata": {},
   "outputs": [
    {
     "data": {
      "image/png": "[encoded data removed]",
      "text/plain": [
       "<Figure size 1152x576 with 1 Axes>"
      ]
     },
     "metadata": {
      "needs_background": "light"
     },
     "output_type": "display_data"
    }
   ],
   "source": [
    "# Plotting the distribution for Users\n",
    "fig = plt.figure(figsize=[16,8])\n",
    "plt.hist(city[\"Users\"])\n",
    "plt.vlines(x=city[\"Users\"].mean(), ymin=0, ymax=13, color=\"red\")\n",
    "plt.annotate(\"Mean Number of Users\", xy=(45e3, 13.2))\n",
    "plt.show()"
   ]
  },
  {
   "cell_type": "markdown",
   "id": "99ad5525",
   "metadata": {},
   "source": [
    "From the above analysis, the mean size of population of the 20 cities listed in the dataset2 is approximately 1.23 million, however it ranges from approximately 0.25 to 8.5 millions. Most of cities presents a population lower than 1 million (15).\n",
    "\n",
    "Regarding the number of users per city, most of cities presented less than 40,000, however the mean number of users was approximately 65,000, as there are few cities with much higher number of users compared to the majority of cities."
   ]
  },
  {
   "cell_type": "markdown",
   "id": "b7a06c19",
   "metadata": {},
   "source": [
    "#### Dataset3 - customer"
   ]
  },
  {
   "cell_type": "code",
   "execution_count": 39,
   "id": "d46ed5c1",
   "metadata": {},
   "outputs": [
    {
     "name": "stdout",
     "output_type": "stream",
     "text": [
      "<class 'pandas.core.frame.DataFrame'>\n",
      "RangeIndex: 49171 entries, 0 to 49170\n",
      "Data columns (total 4 columns):\n",
      " #   Column              Non-Null Count  Dtype  \n",
      "---  ------              --------------  -----  \n",
      " 0   Customer ID         49171 non-null  object \n",
      " 1   Gender              49171 non-null  object \n",
      " 2   Age                 49171 non-null  int64  \n",
      " 3   Income (USD/Month)  49171 non-null  float64\n",
      "dtypes: float64(1), int64(1), object(2)\n",
      "memory usage: 1.5+ MB\n"
     ]
    }
   ],
   "source": [
    "# Checking the size, number of NA values and type of data for dataset3\n",
    "customer.info()"
   ]
  },
  {
   "cell_type": "markdown",
   "id": "25a275d3",
   "metadata": {},
   "source": [
    "There are 2 categorical variables and 2 numerical"
   ]
  },
  {
   "cell_type": "markdown",
   "id": "625d976c",
   "metadata": {},
   "source": [
    "* Categorical Variables Analysis"
   ]
  },
  {
   "cell_type": "code",
   "execution_count": 40,
   "id": "e387e4c6",
   "metadata": {},
   "outputs": [
    {
     "data": {
      "text/plain": [
       "49171"
      ]
     },
     "execution_count": 40,
     "metadata": {},
     "output_type": "execute_result"
    }
   ],
   "source": [
    "# Checking unique values for Customer ID\n",
    "len(customer[\"Customer ID\"].unique())"
   ]
  },
  {
   "cell_type": "code",
   "execution_count": 41,
   "id": "81665361",
   "metadata": {},
   "outputs": [
    {
     "data": {
      "text/plain": [
       "2"
      ]
     },
     "execution_count": 41,
     "metadata": {},
     "output_type": "execute_result"
    }
   ],
   "source": [
    "# Checking unique values for Gender\n",
    "len(customer[\"Gender\"].unique())"
   ]
  },
  {
   "cell_type": "code",
   "execution_count": 42,
   "id": "3e0f19dd",
   "metadata": {},
   "outputs": [
    {
     "data": {
      "text/plain": [
       "Male      26562\n",
       "Female    22609\n",
       "Name: Gender, dtype: int64"
      ]
     },
     "execution_count": 42,
     "metadata": {},
     "output_type": "execute_result"
    }
   ],
   "source": [
    "# Value count for each Gender\n",
    "gender_count = customer[\"Gender\"].value_counts()\n",
    "gender_count"
   ]
  },
  {
   "cell_type": "code",
   "execution_count": 43,
   "id": "ee7d08c3",
   "metadata": {},
   "outputs": [
    {
     "data": {
      "image/png": "[encoded data removed]",
      "text/plain": [
       "<Figure size 864x576 with 1 Axes>"
      ]
     },
     "metadata": {
      "needs_background": "light"
     },
     "output_type": "display_data"
    }
   ],
   "source": [
    "# Plotting the number of customer per gender\n",
    "fig = plt.figure(figsize=[12,8])\n",
    "plt.bar(gender_count.index, gender_count.values)\n",
    "plt.show()"
   ]
  },
  {
   "cell_type": "markdown",
   "id": "ee95ab4a",
   "metadata": {},
   "source": [
    "From the above analysis, there are 49171 unique values for the Customer ID. There were identified slightly higher number of male customers compared to female customers."
   ]
  },
  {
   "cell_type": "markdown",
   "id": "db837be8",
   "metadata": {},
   "source": [
    "* Numerical Variable Analysis"
   ]
  },
  {
   "cell_type": "code",
   "execution_count": 44,
   "id": "778a9d1c",
   "metadata": {},
   "outputs": [
    {
     "data": {
      "text/html": [
       "<div>\n",
       "<style scoped>\n",
       "    .dataframe tbody tr th:only-of-type {\n",
       "        vertical-align: middle;\n",
       "    }\n",
       "\n",
       "    .dataframe tbody tr th {\n",
       "        vertical-align: top;\n",
       "    }\n",
       "\n",
       "    .dataframe thead th {\n",
       "        text-align: right;\n",
       "    }\n",
       "</style>\n",
       "<table border=\"1\" class=\"dataframe\">\n",
       "  <thead>\n",
       "    <tr style=\"text-align: right;\">\n",
       "      <th></th>\n",
       "      <th>Age</th>\n",
       "      <th>Income (USD/Month)</th>\n",
       "    </tr>\n",
       "  </thead>\n",
       "  <tbody>\n",
       "    <tr>\n",
       "      <th>count</th>\n",
       "      <td>49171.000000</td>\n",
       "      <td>49171.000000</td>\n",
       "    </tr>\n",
       "    <tr>\n",
       "      <th>mean</th>\n",
       "      <td>35.363121</td>\n",
       "      <td>15015.631856</td>\n",
       "    </tr>\n",
       "    <tr>\n",
       "      <th>std</th>\n",
       "      <td>12.599066</td>\n",
       "      <td>8002.208253</td>\n",
       "    </tr>\n",
       "    <tr>\n",
       "      <th>min</th>\n",
       "      <td>18.000000</td>\n",
       "      <td>2000.000000</td>\n",
       "    </tr>\n",
       "    <tr>\n",
       "      <th>25%</th>\n",
       "      <td>25.000000</td>\n",
       "      <td>8289.500000</td>\n",
       "    </tr>\n",
       "    <tr>\n",
       "      <th>50%</th>\n",
       "      <td>33.000000</td>\n",
       "      <td>14656.000000</td>\n",
       "    </tr>\n",
       "    <tr>\n",
       "      <th>75%</th>\n",
       "      <td>42.000000</td>\n",
       "      <td>21035.000000</td>\n",
       "    </tr>\n",
       "    <tr>\n",
       "      <th>max</th>\n",
       "      <td>65.000000</td>\n",
       "      <td>35000.000000</td>\n",
       "    </tr>\n",
       "  </tbody>\n",
       "</table>\n",
       "</div>"
      ],
      "text/plain": [
       "                Age  Income (USD/Month)\n",
       "count  49171.000000        49171.000000\n",
       "mean      35.363121        15015.631856\n",
       "std       12.599066         8002.208253\n",
       "min       18.000000         2000.000000\n",
       "25%       25.000000         8289.500000\n",
       "50%       33.000000        14656.000000\n",
       "75%       42.000000        21035.000000\n",
       "max       65.000000        35000.000000"
      ]
     },
     "execution_count": 44,
     "metadata": {},
     "output_type": "execute_result"
    }
   ],
   "source": [
    "# Checking statistics for Age and Income\n",
    "customer.describe()"
   ]
  },
  {
   "cell_type": "code",
   "execution_count": 45,
   "id": "bb67ea38",
   "metadata": {},
   "outputs": [
    {
     "data": {
      "image/png": "[encoded data removed]",
      "text/plain": [
       "<Figure size 1152x576 with 1 Axes>"
      ]
     },
     "metadata": {
      "needs_background": "light"
     },
     "output_type": "display_data"
    }
   ],
   "source": [
    "# Plotting the distribution for Age\n",
    "fig = plt.figure(figsize=[16,8])\n",
    "plt.hist(customer[\"Age\"])\n",
    "plt.vlines(x=customer[\"Age\"].mean(), ymin=0, ymax=7000, color=\"red\")\n",
    "plt.annotate(\"Mean Age\", xy=(34, 7100))\n",
    "plt.show()"
   ]
  },
  {
   "cell_type": "code",
   "execution_count": 46,
   "id": "4cfd7328",
   "metadata": {},
   "outputs": [
    {
     "data": {
      "image/png": "[encoded data removed]",
      "text/plain": [
       "<Figure size 1152x576 with 1 Axes>"
      ]
     },
     "metadata": {
      "needs_background": "light"
     },
     "output_type": "display_data"
    }
   ],
   "source": [
    "# Plotting the distribution for Income\n",
    "fig = plt.figure(figsize=[16,8])\n",
    "plt.hist(customer[\"Income (USD/Month)\"])\n",
    "plt.vlines(x=customer[\"Income (USD/Month)\"].mean(), ymin=0, ymax=6500, color=\"red\")\n",
    "plt.annotate(\"Mean Income\", xy=(14000, 6600))\n",
    "plt.show()"
   ]
  },
  {
   "cell_type": "markdown",
   "id": "1999f95c",
   "metadata": {},
   "source": [
    "From the above analysis, it is clear that most of customers are aged between 18 and 40, with a mean age of 35 years old. Moreover, the mean income for customers is approximately USD 15,000.00 per month. Moreover, most of customers presented an income varying from USD 2000 to 25000 per month."
   ]
  },
  {
   "cell_type": "markdown",
   "id": "18586142",
   "metadata": {},
   "source": [
    "#### Dataset4 - transaction"
   ]
  },
  {
   "cell_type": "code",
   "execution_count": 47,
   "id": "74e284d9",
   "metadata": {},
   "outputs": [
    {
     "name": "stdout",
     "output_type": "stream",
     "text": [
      "<class 'pandas.core.frame.DataFrame'>\n",
      "RangeIndex: 440098 entries, 0 to 440097\n",
      "Data columns (total 3 columns):\n",
      " #   Column          Non-Null Count   Dtype \n",
      "---  ------          --------------   ----- \n",
      " 0   Transaction ID  440098 non-null  object\n",
      " 1   Customer ID     440098 non-null  object\n",
      " 2   Payment_Mode    440098 non-null  object\n",
      "dtypes: object(3)\n",
      "memory usage: 10.1+ MB\n"
     ]
    }
   ],
   "source": [
    "# Checking the size, number of NA values and type of data for dataset4\n",
    "transaction.info()"
   ]
  },
  {
   "cell_type": "markdown",
   "id": "1c17d22e",
   "metadata": {},
   "source": [
    "There are only categorical variables in this dataset."
   ]
  },
  {
   "cell_type": "code",
   "execution_count": 48,
   "id": "44cc3223",
   "metadata": {},
   "outputs": [
    {
     "data": {
      "text/plain": [
       "440098"
      ]
     },
     "execution_count": 48,
     "metadata": {},
     "output_type": "execute_result"
    }
   ],
   "source": [
    "# Checking unique values for Transaction ID\n",
    "len(transaction[\"Transaction ID\"].unique())"
   ]
  },
  {
   "cell_type": "code",
   "execution_count": 49,
   "id": "39459ca4",
   "metadata": {},
   "outputs": [
    {
     "data": {
      "text/plain": [
       "49171"
      ]
     },
     "execution_count": 49,
     "metadata": {},
     "output_type": "execute_result"
    }
   ],
   "source": [
    "# Checking unique values for Customer ID\n",
    "len(transaction[\"Customer ID\"].unique())"
   ]
  },
  {
   "cell_type": "code",
   "execution_count": 50,
   "id": "b14d09df",
   "metadata": {},
   "outputs": [
    {
     "data": {
      "text/plain": [
       "494     54\n",
       "2939    53\n",
       "1070    51\n",
       "2766    51\n",
       "1628    50\n",
       "Name: Customer ID, dtype: int64"
      ]
     },
     "execution_count": 50,
     "metadata": {},
     "output_type": "execute_result"
    }
   ],
   "source": [
    "# Value count for each Customer ID\n",
    "customer_count = transaction['Customer ID'].value_counts()\n",
    "customer_count.head()"
   ]
  },
  {
   "cell_type": "code",
   "execution_count": 51,
   "id": "c212eb8d",
   "metadata": {},
   "outputs": [
    {
     "data": {
      "text/plain": [
       "2"
      ]
     },
     "execution_count": 51,
     "metadata": {},
     "output_type": "execute_result"
    }
   ],
   "source": [
    "# Checking unique values for Payment_Mode\n",
    "len(transaction[\"Payment_Mode\"].unique())"
   ]
  },
  {
   "cell_type": "code",
   "execution_count": 52,
   "id": "f44ccef7",
   "metadata": {},
   "outputs": [
    {
     "data": {
      "text/plain": [
       "Card    263991\n",
       "Cash    176107\n",
       "Name: Payment_Mode, dtype: int64"
      ]
     },
     "execution_count": 52,
     "metadata": {},
     "output_type": "execute_result"
    }
   ],
   "source": [
    "# Value count for each category of Payment_Mode\n",
    "payment_counts = transaction[\"Payment_Mode\"].value_counts()\n",
    "payment_counts"
   ]
  },
  {
   "cell_type": "code",
   "execution_count": 53,
   "id": "3d43d3f7",
   "metadata": {},
   "outputs": [
    {
     "data": {
      "image/png": "[encoded data removed]",
      "text/plain": [
       "<Figure size 864x576 with 1 Axes>"
      ]
     },
     "metadata": {
      "needs_background": "light"
     },
     "output_type": "display_data"
    }
   ],
   "source": [
    "# Plotting the number of transactions per payment method\n",
    "fig = plt.figure(figsize=[12,8])\n",
    "plt.bar(payment_counts.index, payment_counts.values)\n",
    "plt.show()"
   ]
  },
  {
   "cell_type": "markdown",
   "id": "e3f91b09",
   "metadata": {},
   "source": [
    "From the above analysis, there is no duplicated transaction ID (440098 transactions). For the customer ID, there were 49171 registers, which is the same as the number of Customer IDs identified in dataset3. The maximum number of transactions considering a single customer was 54.\n",
    "\n",
    "There were also identified two methods of payment (card or cash), which most of them were performed by card (approximately 60%)."
   ]
  },
  {
   "cell_type": "markdown",
   "id": "1e95a455",
   "metadata": {},
   "source": [
    "#### Dataset5 - holiday"
   ]
  },
  {
   "cell_type": "code",
   "execution_count": 54,
   "id": "68dc71ed",
   "metadata": {},
   "outputs": [
    {
     "name": "stdout",
     "output_type": "stream",
     "text": [
      "<class 'pandas.core.frame.DataFrame'>\n",
      "RangeIndex: 29 entries, 0 to 28\n",
      "Data columns (total 2 columns):\n",
      " #   Column   Non-Null Count  Dtype \n",
      "---  ------   --------------  ----- \n",
      " 0   Date     29 non-null     object\n",
      " 1   Holiday  29 non-null     object\n",
      "dtypes: object(2)\n",
      "memory usage: 592.0+ bytes\n"
     ]
    }
   ],
   "source": [
    "# Checking the size, number of NA values and type of data for dataset5\n",
    "holiday.info()"
   ]
  },
  {
   "cell_type": "code",
   "execution_count": 55,
   "id": "79ae3f45",
   "metadata": {},
   "outputs": [
    {
     "data": {
      "text/plain": [
       "10"
      ]
     },
     "execution_count": 55,
     "metadata": {},
     "output_type": "execute_result"
    }
   ],
   "source": [
    "# Checking unique values for Holiday\n",
    "len(holiday[\"Holiday\"].unique())"
   ]
  },
  {
   "cell_type": "code",
   "execution_count": 56,
   "id": "1d613a75",
   "metadata": {},
   "outputs": [
    {
     "data": {
      "text/plain": [
       "array(['Birthday of Martin Luther King, Jr.', \"Washington's Birthday\",\n",
       "       'Memorial Day', 'Independence Day', 'Labor Day', 'Columbus Day',\n",
       "       'Veterans Day', 'Thanksgiving Day', 'Christmas Day',\n",
       "       \"New Year's Day\"], dtype=object)"
      ]
     },
     "execution_count": 56,
     "metadata": {},
     "output_type": "execute_result"
    }
   ],
   "source": [
    "# Checking the name of the holidays\n",
    "holiday[\"Holiday\"].unique()"
   ]
  },
  {
   "cell_type": "code",
   "execution_count": 57,
   "id": "9cdff308",
   "metadata": {},
   "outputs": [
    {
     "name": "stdout",
     "output_type": "stream",
     "text": [
      "SAN FRANCISCO CA\n"
     ]
    }
   ],
   "source": [
    "# Checking the city the appears in the City dataset but does not appear in the cab_data dataset\n",
    "for c in list(city[\"City\"].values):\n",
    "    if c not in list(cab_data[\"City\"].unique()):\n",
    "        print(c)"
   ]
  },
  {
   "cell_type": "code",
   "execution_count": 58,
   "id": "cbcb64c0",
   "metadata": {},
   "outputs": [],
   "source": [
    "# Removing the city San Francisco from the City dataset, so that we can join the dataset1 and dataset2\n",
    "city = city[city[\"City\"] != \"SAN FRANCISCO CA\"].reset_index().drop(columns=\"index\")"
   ]
  },
  {
   "cell_type": "code",
   "execution_count": 59,
   "id": "1f2a9a2d",
   "metadata": {},
   "outputs": [
    {
     "data": {
      "text/html": [
       "<div>\n",
       "<style scoped>\n",
       "    .dataframe tbody tr th:only-of-type {\n",
       "        vertical-align: middle;\n",
       "    }\n",
       "\n",
       "    .dataframe tbody tr th {\n",
       "        vertical-align: top;\n",
       "    }\n",
       "\n",
       "    .dataframe thead th {\n",
       "        text-align: right;\n",
       "    }\n",
       "</style>\n",
       "<table border=\"1\" class=\"dataframe\">\n",
       "  <thead>\n",
       "    <tr style=\"text-align: right;\">\n",
       "      <th></th>\n",
       "      <th>Transaction ID</th>\n",
       "      <th>Date of Travel</th>\n",
       "      <th>Company</th>\n",
       "      <th>City</th>\n",
       "      <th>KM Travelled</th>\n",
       "      <th>Price Charged</th>\n",
       "      <th>Cost of Trip</th>\n",
       "      <th>Population</th>\n",
       "      <th>Users</th>\n",
       "    </tr>\n",
       "  </thead>\n",
       "  <tbody>\n",
       "    <tr>\n",
       "      <th>0</th>\n",
       "      <td>10000011</td>\n",
       "      <td>2016-01-08</td>\n",
       "      <td>Pink Cab</td>\n",
       "      <td>ATLANTA GA</td>\n",
       "      <td>30.45</td>\n",
       "      <td>370.95</td>\n",
       "      <td>313.635</td>\n",
       "      <td>814885</td>\n",
       "      <td>24701</td>\n",
       "    </tr>\n",
       "    <tr>\n",
       "      <th>1</th>\n",
       "      <td>10000012</td>\n",
       "      <td>2016-01-06</td>\n",
       "      <td>Pink Cab</td>\n",
       "      <td>ATLANTA GA</td>\n",
       "      <td>28.62</td>\n",
       "      <td>358.52</td>\n",
       "      <td>334.854</td>\n",
       "      <td>814885</td>\n",
       "      <td>24701</td>\n",
       "    </tr>\n",
       "    <tr>\n",
       "      <th>2</th>\n",
       "      <td>10000013</td>\n",
       "      <td>2016-01-02</td>\n",
       "      <td>Pink Cab</td>\n",
       "      <td>ATLANTA GA</td>\n",
       "      <td>9.04</td>\n",
       "      <td>125.20</td>\n",
       "      <td>97.632</td>\n",
       "      <td>814885</td>\n",
       "      <td>24701</td>\n",
       "    </tr>\n",
       "    <tr>\n",
       "      <th>3</th>\n",
       "      <td>10000014</td>\n",
       "      <td>2016-01-07</td>\n",
       "      <td>Pink Cab</td>\n",
       "      <td>ATLANTA GA</td>\n",
       "      <td>33.17</td>\n",
       "      <td>377.40</td>\n",
       "      <td>351.602</td>\n",
       "      <td>814885</td>\n",
       "      <td>24701</td>\n",
       "    </tr>\n",
       "    <tr>\n",
       "      <th>4</th>\n",
       "      <td>10000015</td>\n",
       "      <td>2016-01-03</td>\n",
       "      <td>Pink Cab</td>\n",
       "      <td>ATLANTA GA</td>\n",
       "      <td>8.73</td>\n",
       "      <td>114.62</td>\n",
       "      <td>97.776</td>\n",
       "      <td>814885</td>\n",
       "      <td>24701</td>\n",
       "    </tr>\n",
       "  </tbody>\n",
       "</table>\n",
       "</div>"
      ],
      "text/plain": [
       "  Transaction ID Date of Travel   Company        City  KM Travelled  \\\n",
       "0       10000011     2016-01-08  Pink Cab  ATLANTA GA         30.45   \n",
       "1       10000012     2016-01-06  Pink Cab  ATLANTA GA         28.62   \n",
       "2       10000013     2016-01-02  Pink Cab  ATLANTA GA          9.04   \n",
       "3       10000014     2016-01-07  Pink Cab  ATLANTA GA         33.17   \n",
       "4       10000015     2016-01-03  Pink Cab  ATLANTA GA          8.73   \n",
       "\n",
       "   Price Charged  Cost of Trip  Population  Users  \n",
       "0         370.95       313.635      814885  24701  \n",
       "1         358.52       334.854      814885  24701  \n",
       "2         125.20        97.632      814885  24701  \n",
       "3         377.40       351.602      814885  24701  \n",
       "4         114.62        97.776      814885  24701  "
      ]
     },
     "execution_count": 59,
     "metadata": {},
     "output_type": "execute_result"
    }
   ],
   "source": [
    "# Merging the dataset1 (cab_data) and dataset2 (city)\n",
    "df1 = pd.merge(cab_data, city, on=\"City\")\n",
    "df1.head()"
   ]
  },
  {
   "cell_type": "code",
   "execution_count": 60,
   "id": "2e977d78",
   "metadata": {},
   "outputs": [
    {
     "data": {
      "text/html": [
       "<div>\n",
       "<style scoped>\n",
       "    .dataframe tbody tr th:only-of-type {\n",
       "        vertical-align: middle;\n",
       "    }\n",
       "\n",
       "    .dataframe tbody tr th {\n",
       "        vertical-align: top;\n",
       "    }\n",
       "\n",
       "    .dataframe thead th {\n",
       "        text-align: right;\n",
       "    }\n",
       "</style>\n",
       "<table border=\"1\" class=\"dataframe\">\n",
       "  <thead>\n",
       "    <tr style=\"text-align: right;\">\n",
       "      <th></th>\n",
       "      <th>Transaction ID</th>\n",
       "      <th>Date of Travel</th>\n",
       "      <th>Company</th>\n",
       "      <th>City</th>\n",
       "      <th>KM Travelled</th>\n",
       "      <th>Price Charged</th>\n",
       "      <th>Cost of Trip</th>\n",
       "      <th>Population</th>\n",
       "      <th>Users</th>\n",
       "      <th>Holiday</th>\n",
       "    </tr>\n",
       "  </thead>\n",
       "  <tbody>\n",
       "    <tr>\n",
       "      <th>0</th>\n",
       "      <td>10000011</td>\n",
       "      <td>2016-01-08</td>\n",
       "      <td>Pink Cab</td>\n",
       "      <td>ATLANTA GA</td>\n",
       "      <td>30.45</td>\n",
       "      <td>370.95</td>\n",
       "      <td>313.635</td>\n",
       "      <td>814885</td>\n",
       "      <td>24701</td>\n",
       "      <td>NaN</td>\n",
       "    </tr>\n",
       "    <tr>\n",
       "      <th>1</th>\n",
       "      <td>10000397</td>\n",
       "      <td>2016-01-08</td>\n",
       "      <td>Yellow Cab</td>\n",
       "      <td>ATLANTA GA</td>\n",
       "      <td>18.90</td>\n",
       "      <td>609.50</td>\n",
       "      <td>267.624</td>\n",
       "      <td>814885</td>\n",
       "      <td>24701</td>\n",
       "      <td>NaN</td>\n",
       "    </tr>\n",
       "    <tr>\n",
       "      <th>2</th>\n",
       "      <td>10000025</td>\n",
       "      <td>2016-01-08</td>\n",
       "      <td>Pink Cab</td>\n",
       "      <td>BOSTON MA</td>\n",
       "      <td>25.52</td>\n",
       "      <td>360.79</td>\n",
       "      <td>298.584</td>\n",
       "      <td>248968</td>\n",
       "      <td>80021</td>\n",
       "      <td>NaN</td>\n",
       "    </tr>\n",
       "    <tr>\n",
       "      <th>3</th>\n",
       "      <td>10000028</td>\n",
       "      <td>2016-01-08</td>\n",
       "      <td>Pink Cab</td>\n",
       "      <td>BOSTON MA</td>\n",
       "      <td>34.22</td>\n",
       "      <td>498.02</td>\n",
       "      <td>407.218</td>\n",
       "      <td>248968</td>\n",
       "      <td>80021</td>\n",
       "      <td>NaN</td>\n",
       "    </tr>\n",
       "    <tr>\n",
       "      <th>4</th>\n",
       "      <td>10000419</td>\n",
       "      <td>2016-01-08</td>\n",
       "      <td>Yellow Cab</td>\n",
       "      <td>BOSTON MA</td>\n",
       "      <td>36.36</td>\n",
       "      <td>703.49</td>\n",
       "      <td>436.320</td>\n",
       "      <td>248968</td>\n",
       "      <td>80021</td>\n",
       "      <td>NaN</td>\n",
       "    </tr>\n",
       "  </tbody>\n",
       "</table>\n",
       "</div>"
      ],
      "text/plain": [
       "  Transaction ID Date of Travel     Company        City  KM Travelled  \\\n",
       "0       10000011     2016-01-08    Pink Cab  ATLANTA GA         30.45   \n",
       "1       10000397     2016-01-08  Yellow Cab  ATLANTA GA         18.90   \n",
       "2       10000025     2016-01-08    Pink Cab   BOSTON MA         25.52   \n",
       "3       10000028     2016-01-08    Pink Cab   BOSTON MA         34.22   \n",
       "4       10000419     2016-01-08  Yellow Cab   BOSTON MA         36.36   \n",
       "\n",
       "   Price Charged  Cost of Trip  Population  Users Holiday  \n",
       "0         370.95       313.635      814885  24701     NaN  \n",
       "1         609.50       267.624      814885  24701     NaN  \n",
       "2         360.79       298.584      248968  80021     NaN  \n",
       "3         498.02       407.218      248968  80021     NaN  \n",
       "4         703.49       436.320      248968  80021     NaN  "
      ]
     },
     "execution_count": 60,
     "metadata": {},
     "output_type": "execute_result"
    }
   ],
   "source": [
    "# Chaning the col name of holiday dataset from Date to Date of Travel to merge the df1 and holiday\n",
    "holiday.columns = [\"Date of Travel\", \"Holiday\"]\n",
    "df1 = pd.merge(df1, holiday, on=\"Date of Travel\", how=\"outer\")\n",
    "df1.head()"
   ]
  },
  {
   "cell_type": "code",
   "execution_count": 61,
   "id": "e7b1ac9b",
   "metadata": {},
   "outputs": [
    {
     "data": {
      "text/html": [
       "<div>\n",
       "<style scoped>\n",
       "    .dataframe tbody tr th:only-of-type {\n",
       "        vertical-align: middle;\n",
       "    }\n",
       "\n",
       "    .dataframe tbody tr th {\n",
       "        vertical-align: top;\n",
       "    }\n",
       "\n",
       "    .dataframe thead th {\n",
       "        text-align: right;\n",
       "    }\n",
       "</style>\n",
       "<table border=\"1\" class=\"dataframe\">\n",
       "  <thead>\n",
       "    <tr style=\"text-align: right;\">\n",
       "      <th></th>\n",
       "      <th>Transaction ID</th>\n",
       "      <th>Date of Travel</th>\n",
       "      <th>Company</th>\n",
       "      <th>City</th>\n",
       "      <th>KM Travelled</th>\n",
       "      <th>Price Charged</th>\n",
       "      <th>Cost of Trip</th>\n",
       "      <th>Population</th>\n",
       "      <th>Users</th>\n",
       "      <th>Holiday</th>\n",
       "    </tr>\n",
       "  </thead>\n",
       "  <tbody>\n",
       "    <tr>\n",
       "      <th>0</th>\n",
       "      <td>10000011</td>\n",
       "      <td>2016-01-08</td>\n",
       "      <td>Pink Cab</td>\n",
       "      <td>ATLANTA GA</td>\n",
       "      <td>30.45</td>\n",
       "      <td>370.95</td>\n",
       "      <td>313.635</td>\n",
       "      <td>814885</td>\n",
       "      <td>24701</td>\n",
       "      <td>No</td>\n",
       "    </tr>\n",
       "    <tr>\n",
       "      <th>1</th>\n",
       "      <td>10000397</td>\n",
       "      <td>2016-01-08</td>\n",
       "      <td>Yellow Cab</td>\n",
       "      <td>ATLANTA GA</td>\n",
       "      <td>18.90</td>\n",
       "      <td>609.50</td>\n",
       "      <td>267.624</td>\n",
       "      <td>814885</td>\n",
       "      <td>24701</td>\n",
       "      <td>No</td>\n",
       "    </tr>\n",
       "    <tr>\n",
       "      <th>2</th>\n",
       "      <td>10000025</td>\n",
       "      <td>2016-01-08</td>\n",
       "      <td>Pink Cab</td>\n",
       "      <td>BOSTON MA</td>\n",
       "      <td>25.52</td>\n",
       "      <td>360.79</td>\n",
       "      <td>298.584</td>\n",
       "      <td>248968</td>\n",
       "      <td>80021</td>\n",
       "      <td>No</td>\n",
       "    </tr>\n",
       "    <tr>\n",
       "      <th>3</th>\n",
       "      <td>10000028</td>\n",
       "      <td>2016-01-08</td>\n",
       "      <td>Pink Cab</td>\n",
       "      <td>BOSTON MA</td>\n",
       "      <td>34.22</td>\n",
       "      <td>498.02</td>\n",
       "      <td>407.218</td>\n",
       "      <td>248968</td>\n",
       "      <td>80021</td>\n",
       "      <td>No</td>\n",
       "    </tr>\n",
       "    <tr>\n",
       "      <th>4</th>\n",
       "      <td>10000419</td>\n",
       "      <td>2016-01-08</td>\n",
       "      <td>Yellow Cab</td>\n",
       "      <td>BOSTON MA</td>\n",
       "      <td>36.36</td>\n",
       "      <td>703.49</td>\n",
       "      <td>436.320</td>\n",
       "      <td>248968</td>\n",
       "      <td>80021</td>\n",
       "      <td>No</td>\n",
       "    </tr>\n",
       "  </tbody>\n",
       "</table>\n",
       "</div>"
      ],
      "text/plain": [
       "  Transaction ID Date of Travel     Company        City  KM Travelled  \\\n",
       "0       10000011     2016-01-08    Pink Cab  ATLANTA GA         30.45   \n",
       "1       10000397     2016-01-08  Yellow Cab  ATLANTA GA         18.90   \n",
       "2       10000025     2016-01-08    Pink Cab   BOSTON MA         25.52   \n",
       "3       10000028     2016-01-08    Pink Cab   BOSTON MA         34.22   \n",
       "4       10000419     2016-01-08  Yellow Cab   BOSTON MA         36.36   \n",
       "\n",
       "   Price Charged  Cost of Trip  Population  Users Holiday  \n",
       "0         370.95       313.635      814885  24701      No  \n",
       "1         609.50       267.624      814885  24701      No  \n",
       "2         360.79       298.584      248968  80021      No  \n",
       "3         498.02       407.218      248968  80021      No  \n",
       "4         703.49       436.320      248968  80021      No  "
      ]
     },
     "execution_count": 61,
     "metadata": {},
     "output_type": "execute_result"
    }
   ],
   "source": [
    "# Filling the NaN values with \"No\" (no holiday)\n",
    "df1[\"Holiday\"] = df1[\"Holiday\"].fillna(\"No\")\n",
    "df1.head()"
   ]
  },
  {
   "cell_type": "code",
   "execution_count": 62,
   "id": "4d5cd945",
   "metadata": {},
   "outputs": [
    {
     "data": {
      "text/html": [
       "<div>\n",
       "<style scoped>\n",
       "    .dataframe tbody tr th:only-of-type {\n",
       "        vertical-align: middle;\n",
       "    }\n",
       "\n",
       "    .dataframe tbody tr th {\n",
       "        vertical-align: top;\n",
       "    }\n",
       "\n",
       "    .dataframe thead th {\n",
       "        text-align: right;\n",
       "    }\n",
       "</style>\n",
       "<table border=\"1\" class=\"dataframe\">\n",
       "  <thead>\n",
       "    <tr style=\"text-align: right;\">\n",
       "      <th></th>\n",
       "      <th>Customer ID</th>\n",
       "      <th>Gender</th>\n",
       "      <th>Age</th>\n",
       "      <th>Income (USD/Month)</th>\n",
       "      <th>Transaction ID</th>\n",
       "      <th>Payment_Mode</th>\n",
       "    </tr>\n",
       "  </thead>\n",
       "  <tbody>\n",
       "    <tr>\n",
       "      <th>0</th>\n",
       "      <td>29290</td>\n",
       "      <td>Male</td>\n",
       "      <td>28</td>\n",
       "      <td>10813.0</td>\n",
       "      <td>10000011</td>\n",
       "      <td>Card</td>\n",
       "    </tr>\n",
       "    <tr>\n",
       "      <th>1</th>\n",
       "      <td>29290</td>\n",
       "      <td>Male</td>\n",
       "      <td>28</td>\n",
       "      <td>10813.0</td>\n",
       "      <td>10351127</td>\n",
       "      <td>Cash</td>\n",
       "    </tr>\n",
       "    <tr>\n",
       "      <th>2</th>\n",
       "      <td>29290</td>\n",
       "      <td>Male</td>\n",
       "      <td>28</td>\n",
       "      <td>10813.0</td>\n",
       "      <td>10412921</td>\n",
       "      <td>Card</td>\n",
       "    </tr>\n",
       "    <tr>\n",
       "      <th>3</th>\n",
       "      <td>27703</td>\n",
       "      <td>Male</td>\n",
       "      <td>27</td>\n",
       "      <td>9237.0</td>\n",
       "      <td>10000012</td>\n",
       "      <td>Card</td>\n",
       "    </tr>\n",
       "    <tr>\n",
       "      <th>4</th>\n",
       "      <td>27703</td>\n",
       "      <td>Male</td>\n",
       "      <td>27</td>\n",
       "      <td>9237.0</td>\n",
       "      <td>10320494</td>\n",
       "      <td>Card</td>\n",
       "    </tr>\n",
       "  </tbody>\n",
       "</table>\n",
       "</div>"
      ],
      "text/plain": [
       "  Customer ID Gender  Age  Income (USD/Month) Transaction ID Payment_Mode\n",
       "0       29290   Male   28             10813.0       10000011         Card\n",
       "1       29290   Male   28             10813.0       10351127         Cash\n",
       "2       29290   Male   28             10813.0       10412921         Card\n",
       "3       27703   Male   27              9237.0       10000012         Card\n",
       "4       27703   Male   27              9237.0       10320494         Card"
      ]
     },
     "execution_count": 62,
     "metadata": {},
     "output_type": "execute_result"
    }
   ],
   "source": [
    "# Merging the dataset3 (customer) and dataset4 (transaction)\n",
    "df2 = pd.merge(customer, transaction, on=\"Customer ID\")\n",
    "df2.head()"
   ]
  },
  {
   "cell_type": "code",
   "execution_count": 63,
   "id": "9f8e0a33",
   "metadata": {},
   "outputs": [
    {
     "name": "stdout",
     "output_type": "stream",
     "text": [
      "Number of unique transaction IDs in the df1 dataset (based on cab_data dataset): 359392\n",
      "Number of unique transaction IDs in the df2 dataset (based on transaction dataset): 440098\n"
     ]
    }
   ],
   "source": [
    "#Checking the number of unique transaction IDs in joined_df and joined_df2\n",
    "print(\"Number of unique transaction IDs in the df1 dataset (based on cab_data dataset):\", len(df1[\"Transaction ID\"].unique()))\n",
    "print(\"Number of unique transaction IDs in the df2 dataset (based on transaction dataset):\", len(df2[\"Transaction ID\"].unique()))"
   ]
  },
  {
   "cell_type": "markdown",
   "id": "3bf5c9eb",
   "metadata": {},
   "source": [
    "There are more transactions in df2 (merge of customer and transaction tables) compared to df1 (merge of cab_data, city and holiday). Therefore it seems that we have more transactions that were not related to the service provided by the two cab companies being analysed.\n",
    "\n",
    "In this case, we desconsidered the transactions that are not related to the Yellow and Pink cab companies and created a final dataset by merging df1 and df2, which was named final_df."
   ]
  },
  {
   "cell_type": "code",
   "execution_count": 64,
   "id": "f40a4064",
   "metadata": {},
   "outputs": [
    {
     "data": {
      "text/html": [
       "<div>\n",
       "<style scoped>\n",
       "    .dataframe tbody tr th:only-of-type {\n",
       "        vertical-align: middle;\n",
       "    }\n",
       "\n",
       "    .dataframe tbody tr th {\n",
       "        vertical-align: top;\n",
       "    }\n",
       "\n",
       "    .dataframe thead th {\n",
       "        text-align: right;\n",
       "    }\n",
       "</style>\n",
       "<table border=\"1\" class=\"dataframe\">\n",
       "  <thead>\n",
       "    <tr style=\"text-align: right;\">\n",
       "      <th></th>\n",
       "      <th>Transaction ID</th>\n",
       "      <th>Date of Travel</th>\n",
       "      <th>Company</th>\n",
       "      <th>City</th>\n",
       "      <th>KM Travelled</th>\n",
       "      <th>Price Charged</th>\n",
       "      <th>Cost of Trip</th>\n",
       "      <th>Population</th>\n",
       "      <th>Users</th>\n",
       "      <th>Holiday</th>\n",
       "      <th>Customer ID</th>\n",
       "      <th>Gender</th>\n",
       "      <th>Age</th>\n",
       "      <th>Income (USD/Month)</th>\n",
       "      <th>Payment_Mode</th>\n",
       "    </tr>\n",
       "  </thead>\n",
       "  <tbody>\n",
       "    <tr>\n",
       "      <th>0</th>\n",
       "      <td>10000011</td>\n",
       "      <td>2016-01-08</td>\n",
       "      <td>Pink Cab</td>\n",
       "      <td>ATLANTA GA</td>\n",
       "      <td>30.45</td>\n",
       "      <td>370.95</td>\n",
       "      <td>313.635</td>\n",
       "      <td>814885</td>\n",
       "      <td>24701</td>\n",
       "      <td>No</td>\n",
       "      <td>29290</td>\n",
       "      <td>Male</td>\n",
       "      <td>28</td>\n",
       "      <td>10813.0</td>\n",
       "      <td>Card</td>\n",
       "    </tr>\n",
       "    <tr>\n",
       "      <th>1</th>\n",
       "      <td>10000397</td>\n",
       "      <td>2016-01-08</td>\n",
       "      <td>Yellow Cab</td>\n",
       "      <td>ATLANTA GA</td>\n",
       "      <td>18.90</td>\n",
       "      <td>609.50</td>\n",
       "      <td>267.624</td>\n",
       "      <td>814885</td>\n",
       "      <td>24701</td>\n",
       "      <td>No</td>\n",
       "      <td>29009</td>\n",
       "      <td>Male</td>\n",
       "      <td>28</td>\n",
       "      <td>15771.0</td>\n",
       "      <td>Card</td>\n",
       "    </tr>\n",
       "    <tr>\n",
       "      <th>2</th>\n",
       "      <td>10000025</td>\n",
       "      <td>2016-01-08</td>\n",
       "      <td>Pink Cab</td>\n",
       "      <td>BOSTON MA</td>\n",
       "      <td>25.52</td>\n",
       "      <td>360.79</td>\n",
       "      <td>298.584</td>\n",
       "      <td>248968</td>\n",
       "      <td>80021</td>\n",
       "      <td>No</td>\n",
       "      <td>59372</td>\n",
       "      <td>Male</td>\n",
       "      <td>53</td>\n",
       "      <td>4912.0</td>\n",
       "      <td>Cash</td>\n",
       "    </tr>\n",
       "    <tr>\n",
       "      <th>3</th>\n",
       "      <td>10000028</td>\n",
       "      <td>2016-01-08</td>\n",
       "      <td>Pink Cab</td>\n",
       "      <td>BOSTON MA</td>\n",
       "      <td>34.22</td>\n",
       "      <td>498.02</td>\n",
       "      <td>407.218</td>\n",
       "      <td>248968</td>\n",
       "      <td>80021</td>\n",
       "      <td>No</td>\n",
       "      <td>58346</td>\n",
       "      <td>Male</td>\n",
       "      <td>27</td>\n",
       "      <td>21650.0</td>\n",
       "      <td>Cash</td>\n",
       "    </tr>\n",
       "    <tr>\n",
       "      <th>4</th>\n",
       "      <td>10000419</td>\n",
       "      <td>2016-01-08</td>\n",
       "      <td>Yellow Cab</td>\n",
       "      <td>BOSTON MA</td>\n",
       "      <td>36.36</td>\n",
       "      <td>703.49</td>\n",
       "      <td>436.320</td>\n",
       "      <td>248968</td>\n",
       "      <td>80021</td>\n",
       "      <td>No</td>\n",
       "      <td>57102</td>\n",
       "      <td>Male</td>\n",
       "      <td>32</td>\n",
       "      <td>17384.0</td>\n",
       "      <td>Card</td>\n",
       "    </tr>\n",
       "  </tbody>\n",
       "</table>\n",
       "</div>"
      ],
      "text/plain": [
       "  Transaction ID Date of Travel     Company        City  KM Travelled  \\\n",
       "0       10000011     2016-01-08    Pink Cab  ATLANTA GA         30.45   \n",
       "1       10000397     2016-01-08  Yellow Cab  ATLANTA GA         18.90   \n",
       "2       10000025     2016-01-08    Pink Cab   BOSTON MA         25.52   \n",
       "3       10000028     2016-01-08    Pink Cab   BOSTON MA         34.22   \n",
       "4       10000419     2016-01-08  Yellow Cab   BOSTON MA         36.36   \n",
       "\n",
       "   Price Charged  Cost of Trip  Population  Users Holiday Customer ID Gender  \\\n",
       "0         370.95       313.635      814885  24701      No       29290   Male   \n",
       "1         609.50       267.624      814885  24701      No       29009   Male   \n",
       "2         360.79       298.584      248968  80021      No       59372   Male   \n",
       "3         498.02       407.218      248968  80021      No       58346   Male   \n",
       "4         703.49       436.320      248968  80021      No       57102   Male   \n",
       "\n",
       "   Age  Income (USD/Month) Payment_Mode  \n",
       "0   28             10813.0         Card  \n",
       "1   28             15771.0         Card  \n",
       "2   53              4912.0         Cash  \n",
       "3   27             21650.0         Cash  \n",
       "4   32             17384.0         Card  "
      ]
     },
     "execution_count": 64,
     "metadata": {},
     "output_type": "execute_result"
    }
   ],
   "source": [
    "# Merging the df1 and df2\n",
    "final_df = pd.merge(df1, df2, on=\"Transaction ID\")\n",
    "final_df.head()"
   ]
  },
  {
   "cell_type": "code",
   "execution_count": 65,
   "id": "fc9428dc",
   "metadata": {},
   "outputs": [
    {
     "data": {
      "text/plain": [
       "Index(['Transaction ID', 'Date of Travel', 'Company', 'City', 'KM Travelled',\n",
       "       'Price Charged', 'Cost of Trip', 'Population', 'Users', 'Holiday',\n",
       "       'Customer ID', 'Gender', 'Age', 'Income (USD/Month)', 'Payment_Mode'],\n",
       "      dtype='object')"
      ]
     },
     "execution_count": 65,
     "metadata": {},
     "output_type": "execute_result"
    }
   ],
   "source": [
    "# Cheking the feature names of the full dataset (final_df)\n",
    "final_df.columns"
   ]
  },
  {
   "cell_type": "code",
   "execution_count": 66,
   "id": "4a94ef84",
   "metadata": {},
   "outputs": [
    {
     "data": {
      "text/html": [
       "<div>\n",
       "<style scoped>\n",
       "    .dataframe tbody tr th:only-of-type {\n",
       "        vertical-align: middle;\n",
       "    }\n",
       "\n",
       "    .dataframe tbody tr th {\n",
       "        vertical-align: top;\n",
       "    }\n",
       "\n",
       "    .dataframe thead th {\n",
       "        text-align: right;\n",
       "    }\n",
       "</style>\n",
       "<table border=\"1\" class=\"dataframe\">\n",
       "  <thead>\n",
       "    <tr style=\"text-align: right;\">\n",
       "      <th></th>\n",
       "      <th>Transaction ID</th>\n",
       "      <th>Date of Travel</th>\n",
       "      <th>Holiday</th>\n",
       "      <th>Company</th>\n",
       "      <th>KM Travelled</th>\n",
       "      <th>Price Charged</th>\n",
       "      <th>Cost of Trip</th>\n",
       "      <th>City</th>\n",
       "      <th>Population</th>\n",
       "      <th>Users</th>\n",
       "      <th>Customer ID</th>\n",
       "      <th>Gender</th>\n",
       "      <th>Age</th>\n",
       "      <th>Income (USD/Month)</th>\n",
       "      <th>Payment_Mode</th>\n",
       "    </tr>\n",
       "  </thead>\n",
       "  <tbody>\n",
       "    <tr>\n",
       "      <th>0</th>\n",
       "      <td>10000011</td>\n",
       "      <td>2016-01-08</td>\n",
       "      <td>No</td>\n",
       "      <td>Pink Cab</td>\n",
       "      <td>30.45</td>\n",
       "      <td>370.95</td>\n",
       "      <td>313.635</td>\n",
       "      <td>ATLANTA GA</td>\n",
       "      <td>814885</td>\n",
       "      <td>24701</td>\n",
       "      <td>29290</td>\n",
       "      <td>Male</td>\n",
       "      <td>28</td>\n",
       "      <td>10813.0</td>\n",
       "      <td>Card</td>\n",
       "    </tr>\n",
       "    <tr>\n",
       "      <th>1</th>\n",
       "      <td>10000397</td>\n",
       "      <td>2016-01-08</td>\n",
       "      <td>No</td>\n",
       "      <td>Yellow Cab</td>\n",
       "      <td>18.90</td>\n",
       "      <td>609.50</td>\n",
       "      <td>267.624</td>\n",
       "      <td>ATLANTA GA</td>\n",
       "      <td>814885</td>\n",
       "      <td>24701</td>\n",
       "      <td>29009</td>\n",
       "      <td>Male</td>\n",
       "      <td>28</td>\n",
       "      <td>15771.0</td>\n",
       "      <td>Card</td>\n",
       "    </tr>\n",
       "    <tr>\n",
       "      <th>2</th>\n",
       "      <td>10000025</td>\n",
       "      <td>2016-01-08</td>\n",
       "      <td>No</td>\n",
       "      <td>Pink Cab</td>\n",
       "      <td>25.52</td>\n",
       "      <td>360.79</td>\n",
       "      <td>298.584</td>\n",
       "      <td>BOSTON MA</td>\n",
       "      <td>248968</td>\n",
       "      <td>80021</td>\n",
       "      <td>59372</td>\n",
       "      <td>Male</td>\n",
       "      <td>53</td>\n",
       "      <td>4912.0</td>\n",
       "      <td>Cash</td>\n",
       "    </tr>\n",
       "    <tr>\n",
       "      <th>3</th>\n",
       "      <td>10000028</td>\n",
       "      <td>2016-01-08</td>\n",
       "      <td>No</td>\n",
       "      <td>Pink Cab</td>\n",
       "      <td>34.22</td>\n",
       "      <td>498.02</td>\n",
       "      <td>407.218</td>\n",
       "      <td>BOSTON MA</td>\n",
       "      <td>248968</td>\n",
       "      <td>80021</td>\n",
       "      <td>58346</td>\n",
       "      <td>Male</td>\n",
       "      <td>27</td>\n",
       "      <td>21650.0</td>\n",
       "      <td>Cash</td>\n",
       "    </tr>\n",
       "    <tr>\n",
       "      <th>4</th>\n",
       "      <td>10000419</td>\n",
       "      <td>2016-01-08</td>\n",
       "      <td>No</td>\n",
       "      <td>Yellow Cab</td>\n",
       "      <td>36.36</td>\n",
       "      <td>703.49</td>\n",
       "      <td>436.320</td>\n",
       "      <td>BOSTON MA</td>\n",
       "      <td>248968</td>\n",
       "      <td>80021</td>\n",
       "      <td>57102</td>\n",
       "      <td>Male</td>\n",
       "      <td>32</td>\n",
       "      <td>17384.0</td>\n",
       "      <td>Card</td>\n",
       "    </tr>\n",
       "  </tbody>\n",
       "</table>\n",
       "</div>"
      ],
      "text/plain": [
       "  Transaction ID Date of Travel Holiday     Company  KM Travelled  \\\n",
       "0       10000011     2016-01-08      No    Pink Cab         30.45   \n",
       "1       10000397     2016-01-08      No  Yellow Cab         18.90   \n",
       "2       10000025     2016-01-08      No    Pink Cab         25.52   \n",
       "3       10000028     2016-01-08      No    Pink Cab         34.22   \n",
       "4       10000419     2016-01-08      No  Yellow Cab         36.36   \n",
       "\n",
       "   Price Charged  Cost of Trip        City  Population  Users Customer ID  \\\n",
       "0         370.95       313.635  ATLANTA GA      814885  24701       29290   \n",
       "1         609.50       267.624  ATLANTA GA      814885  24701       29009   \n",
       "2         360.79       298.584   BOSTON MA      248968  80021       59372   \n",
       "3         498.02       407.218   BOSTON MA      248968  80021       58346   \n",
       "4         703.49       436.320   BOSTON MA      248968  80021       57102   \n",
       "\n",
       "  Gender  Age  Income (USD/Month) Payment_Mode  \n",
       "0   Male   28             10813.0         Card  \n",
       "1   Male   28             15771.0         Card  \n",
       "2   Male   53              4912.0         Cash  \n",
       "3   Male   27             21650.0         Cash  \n",
       "4   Male   32             17384.0         Card  "
      ]
     },
     "execution_count": 66,
     "metadata": {},
     "output_type": "execute_result"
    }
   ],
   "source": [
    "# Ordering the features in a better way\n",
    "ordered_cols = ['Transaction ID', 'Date of Travel', 'Holiday', 'Company', 'KM Travelled',\n",
    "                'Price Charged', 'Cost of Trip', 'City', 'Population', 'Users',\n",
    "                'Customer ID', 'Gender', 'Age', 'Income (USD/Month)', 'Payment_Mode']\n",
    "final_df = final_df[ordered_cols]\n",
    "final_df.head()"
   ]
  },
  {
   "cell_type": "code",
   "execution_count": 67,
   "id": "2ab6f4e5",
   "metadata": {},
   "outputs": [
    {
     "data": {
      "text/plain": [
       "359392"
      ]
     },
     "execution_count": 67,
     "metadata": {},
     "output_type": "execute_result"
    }
   ],
   "source": [
    "# Checking the size of the final_df\n",
    "len(final_df)"
   ]
  },
  {
   "cell_type": "code",
   "execution_count": 68,
   "id": "5ddd8733",
   "metadata": {},
   "outputs": [
    {
     "data": {
      "text/plain": [
       "Transaction ID        0\n",
       "Date of Travel        0\n",
       "Holiday               0\n",
       "Company               0\n",
       "KM Travelled          0\n",
       "Price Charged         0\n",
       "Cost of Trip          0\n",
       "City                  0\n",
       "Population            0\n",
       "Users                 0\n",
       "Customer ID           0\n",
       "Gender                0\n",
       "Age                   0\n",
       "Income (USD/Month)    0\n",
       "Payment_Mode          0\n",
       "dtype: int64"
      ]
     },
     "execution_count": 68,
     "metadata": {},
     "output_type": "execute_result"
    }
   ],
   "source": [
    "# Checking NA values in the final_df\n",
    "final_df.isna().sum()"
   ]
  },
  {
   "cell_type": "markdown",
   "id": "9d64cf0d",
   "metadata": {},
   "source": [
    "Now, all the data is compressed in a unique dataset. It is important to mention that the San Francisco city that was part of the city dataset is not part of this final dataset as there was no cab_data for this city. Moreover, it is important to mention that a few of the transactions presented in the transaction dataset are not part of the final dataset either because they were not related to the service provided by the Yellow and Pink cab companies."
   ]
  },
  {
   "cell_type": "code",
   "execution_count": 69,
   "id": "657c603b",
   "metadata": {},
   "outputs": [
    {
     "data": {
      "image/png": "[encoded data removed]",
      "text/plain": [
       "<Figure size 1152x576 with 7 Axes>"
      ]
     },
     "metadata": {
      "needs_background": "light"
     },
     "output_type": "display_data"
    }
   ],
   "source": [
    "# Checking for outliers for all numeric variables\n",
    "numeric_final_df = final_df[[\"KM Travelled\", \"Price Charged\", \"Cost of Trip\", \"Population\", \"Users\", \"Age\", \"Income (USD/Month)\"]]\n",
    "\n",
    "# Ploting boxplots for all numeric variables\n",
    "fig = plt.figure(figsize=[16,8])\n",
    "\n",
    "ax1 = plt.subplot(1,7,1)\n",
    "ax1.boxplot(numeric_final_df[\"KM Travelled\"])\n",
    "ax1.set_xticklabels(\"\")\n",
    "ax1.set_xlabel(\"KM Travelled\")\n",
    "\n",
    "ax2 = plt.subplot(1,7,2)\n",
    "ax2.boxplot(numeric_final_df[\"Price Charged\"])\n",
    "ax2.set_xticklabels(\"\")\n",
    "ax2.set_xlabel(\"Price Charged\")\n",
    "\n",
    "ax3 = plt.subplot(1,7,3)\n",
    "ax3.boxplot(numeric_final_df[\"Cost of Trip\"])\n",
    "ax3.set_xticklabels(\"\")\n",
    "ax3.set_xlabel(\"Cost of Trip\")\n",
    "\n",
    "ax4 = plt.subplot(1,7,4)\n",
    "ax4.boxplot(numeric_final_df[\"Population\"])\n",
    "ax4.set_xticklabels(\"\")\n",
    "ax4.set_xlabel(\"Population\")\n",
    "\n",
    "ax5 = plt.subplot(1,7,5)\n",
    "ax5.boxplot(numeric_final_df[\"Users\"])\n",
    "ax5.set_xticklabels(\"\")\n",
    "ax5.set_xlabel(\"Users\")\n",
    "\n",
    "ax6 = plt.subplot(1,7,6)\n",
    "ax6.boxplot(numeric_final_df[\"Age\"])\n",
    "ax6.set_xticklabels(\"\")\n",
    "ax6.set_xlabel(\"Age\")\n",
    "\n",
    "ax7 = plt.subplot(1,7,7)\n",
    "ax7.boxplot(numeric_final_df[\"Income (USD/Month)\"])\n",
    "ax7.set_xticklabels(\"\")\n",
    "ax7.set_xlabel(\"Income (USD/Month)\")\n",
    "\n",
    "plt.show()"
   ]
  },
  {
   "cell_type": "markdown",
   "id": "1d431abc",
   "metadata": {},
   "source": [
    "Now, it is clear that we only have outliers for the variable \"Price Charged\". However, as customers could have been charged well above the mean price, depending on the day, time and other unknown variables, these outliers were not removed from the dataset and we considered them in this analysis"
   ]
  },
  {
   "cell_type": "code",
   "execution_count": 70,
   "id": "d5376e31",
   "metadata": {},
   "outputs": [],
   "source": [
    "# Saving the final_df\n",
    "final_df.to_csv(\"final_df.csv\", index=False)"
   ]
  },
  {
   "cell_type": "markdown",
   "id": "84520a11",
   "metadata": {},
   "source": [
    "## Exploratory Data Analysis - Part 2\n",
    "### Getting to know a little bit more about the full dataset"
   ]
  },
  {
   "cell_type": "markdown",
   "id": "400e23df",
   "metadata": {},
   "source": [
    "#### Re-loading the full dataset and making necessary changes"
   ]
  },
  {
   "cell_type": "code",
   "execution_count": 71,
   "id": "17295428",
   "metadata": {},
   "outputs": [],
   "source": [
    "# Loading the full dataset\n",
    "df = pd.read_csv(\"final_df.csv\")"
   ]
  },
  {
   "cell_type": "code",
   "execution_count": 72,
   "id": "f22e8a49",
   "metadata": {},
   "outputs": [
    {
     "name": "stdout",
     "output_type": "stream",
     "text": [
      "<class 'pandas.core.frame.DataFrame'>\n",
      "RangeIndex: 359392 entries, 0 to 359391\n",
      "Data columns (total 15 columns):\n",
      " #   Column              Non-Null Count   Dtype  \n",
      "---  ------              --------------   -----  \n",
      " 0   Transaction ID      359392 non-null  int64  \n",
      " 1   Date of Travel      359392 non-null  object \n",
      " 2   Holiday             359392 non-null  object \n",
      " 3   Company             359392 non-null  object \n",
      " 4   KM Travelled        359392 non-null  float64\n",
      " 5   Price Charged       359392 non-null  float64\n",
      " 6   Cost of Trip        359392 non-null  float64\n",
      " 7   City                359392 non-null  object \n",
      " 8   Population          359392 non-null  int64  \n",
      " 9   Users               359392 non-null  int64  \n",
      " 10  Customer ID         359392 non-null  int64  \n",
      " 11  Gender              359392 non-null  object \n",
      " 12  Age                 359392 non-null  int64  \n",
      " 13  Income (USD/Month)  359392 non-null  float64\n",
      " 14  Payment_Mode        359392 non-null  object \n",
      "dtypes: float64(4), int64(5), object(6)\n",
      "memory usage: 41.1+ MB\n"
     ]
    }
   ],
   "source": [
    "# Checking the presence of NA values and data type for all variables\n",
    "df.info()"
   ]
  },
  {
   "cell_type": "code",
   "execution_count": 73,
   "id": "32e2c766",
   "metadata": {},
   "outputs": [],
   "source": [
    "# Changing data type of a few variables\n",
    "df[\"Transaction ID\"] = df[\"Transaction ID\"].astype(str)\n",
    "df[\"Date of Travel\"] = pd.to_datetime(df[\"Date of Travel\"])\n",
    "df[\"Customer ID\"] = df[\"Customer ID\"].astype(str)"
   ]
  },
  {
   "cell_type": "code",
   "execution_count": 74,
   "id": "3efbfdf8",
   "metadata": {},
   "outputs": [
    {
     "data": {
      "text/plain": [
       "Transaction ID                object\n",
       "Date of Travel        datetime64[ns]\n",
       "Holiday                       object\n",
       "Company                       object\n",
       "KM Travelled                 float64\n",
       "Price Charged                float64\n",
       "Cost of Trip                 float64\n",
       "City                          object\n",
       "Population                     int64\n",
       "Users                          int64\n",
       "Customer ID                   object\n",
       "Gender                        object\n",
       "Age                            int64\n",
       "Income (USD/Month)           float64\n",
       "Payment_Mode                  object\n",
       "dtype: object"
      ]
     },
     "execution_count": 74,
     "metadata": {},
     "output_type": "execute_result"
    }
   ],
   "source": [
    "# Re-checking the data type of features\n",
    "df.dtypes"
   ]
  },
  {
   "cell_type": "markdown",
   "id": "a3d7cbf3",
   "metadata": {},
   "source": [
    "#### Let's start by investigating a few points to get a better understanding of the dataset\n",
    "\n",
    "* The proportion of the population that uses cab services per city (we have to keep in mind that this proportion might be related to other cab companies that provide the service in the cities)\n",
    "* The total number of travels per company considering all evaluated years\n",
    "* The total number of travels per company per city considering all evaluated years\n",
    "* The total number of travels per company per customer's gender considering all evaluated years\n",
    "* The mean travelled distance and the distribution of the travelled distance per company considering all evaluated years\n",
    "* The mean customer's age and distribution of the customer's age that uses one or another cab service considering all evaluated years\n",
    "* The mean income of customers and the distribution of customers that uses one or another cab service considering all evaluated years\n",
    "* The number of transactions that were made using one or another payment method per company considering all evaluated years\n",
    "\n",
    "* The mean number of travels per day during Holidays compared to non-holidays per company considering all evaluated years\n",
    "* The mean price charged per travel during Holidays compared to non-holidays per company considering all evaluated years\n",
    "* The mean profit (price charged - cost of trip) per travel per company considering all evaluated years\n",
    "* The mean distance per travel per company considering all evaluated years"
   ]
  },
  {
   "cell_type": "code",
   "execution_count": 75,
   "id": "00071f18",
   "metadata": {},
   "outputs": [
    {
     "data": {
      "text/html": [
       "<div>\n",
       "<style scoped>\n",
       "    .dataframe tbody tr th:only-of-type {\n",
       "        vertical-align: middle;\n",
       "    }\n",
       "\n",
       "    .dataframe tbody tr th {\n",
       "        vertical-align: top;\n",
       "    }\n",
       "\n",
       "    .dataframe thead th {\n",
       "        text-align: right;\n",
       "    }\n",
       "</style>\n",
       "<table border=\"1\" class=\"dataframe\">\n",
       "  <thead>\n",
       "    <tr style=\"text-align: right;\">\n",
       "      <th></th>\n",
       "      <th>Transaction ID</th>\n",
       "      <th>Date of Travel</th>\n",
       "      <th>Holiday</th>\n",
       "      <th>Company</th>\n",
       "      <th>KM Travelled</th>\n",
       "      <th>Price Charged</th>\n",
       "      <th>Cost of Trip</th>\n",
       "      <th>City</th>\n",
       "      <th>Population</th>\n",
       "      <th>Users</th>\n",
       "      <th>Customer ID</th>\n",
       "      <th>Gender</th>\n",
       "      <th>Age</th>\n",
       "      <th>Income (USD/Month)</th>\n",
       "      <th>Payment_Mode</th>\n",
       "    </tr>\n",
       "  </thead>\n",
       "  <tbody>\n",
       "    <tr>\n",
       "      <th>0</th>\n",
       "      <td>10000011</td>\n",
       "      <td>2016-01-08</td>\n",
       "      <td>No</td>\n",
       "      <td>Pink Cab</td>\n",
       "      <td>30.45</td>\n",
       "      <td>370.95</td>\n",
       "      <td>313.635</td>\n",
       "      <td>ATLANTA GA</td>\n",
       "      <td>814885</td>\n",
       "      <td>24701</td>\n",
       "      <td>29290</td>\n",
       "      <td>Male</td>\n",
       "      <td>28</td>\n",
       "      <td>10813.0</td>\n",
       "      <td>Card</td>\n",
       "    </tr>\n",
       "    <tr>\n",
       "      <th>1</th>\n",
       "      <td>10000397</td>\n",
       "      <td>2016-01-08</td>\n",
       "      <td>No</td>\n",
       "      <td>Yellow Cab</td>\n",
       "      <td>18.90</td>\n",
       "      <td>609.50</td>\n",
       "      <td>267.624</td>\n",
       "      <td>ATLANTA GA</td>\n",
       "      <td>814885</td>\n",
       "      <td>24701</td>\n",
       "      <td>29009</td>\n",
       "      <td>Male</td>\n",
       "      <td>28</td>\n",
       "      <td>15771.0</td>\n",
       "      <td>Card</td>\n",
       "    </tr>\n",
       "    <tr>\n",
       "      <th>2</th>\n",
       "      <td>10000025</td>\n",
       "      <td>2016-01-08</td>\n",
       "      <td>No</td>\n",
       "      <td>Pink Cab</td>\n",
       "      <td>25.52</td>\n",
       "      <td>360.79</td>\n",
       "      <td>298.584</td>\n",
       "      <td>BOSTON MA</td>\n",
       "      <td>248968</td>\n",
       "      <td>80021</td>\n",
       "      <td>59372</td>\n",
       "      <td>Male</td>\n",
       "      <td>53</td>\n",
       "      <td>4912.0</td>\n",
       "      <td>Cash</td>\n",
       "    </tr>\n",
       "    <tr>\n",
       "      <th>3</th>\n",
       "      <td>10000028</td>\n",
       "      <td>2016-01-08</td>\n",
       "      <td>No</td>\n",
       "      <td>Pink Cab</td>\n",
       "      <td>34.22</td>\n",
       "      <td>498.02</td>\n",
       "      <td>407.218</td>\n",
       "      <td>BOSTON MA</td>\n",
       "      <td>248968</td>\n",
       "      <td>80021</td>\n",
       "      <td>58346</td>\n",
       "      <td>Male</td>\n",
       "      <td>27</td>\n",
       "      <td>21650.0</td>\n",
       "      <td>Cash</td>\n",
       "    </tr>\n",
       "    <tr>\n",
       "      <th>4</th>\n",
       "      <td>10000419</td>\n",
       "      <td>2016-01-08</td>\n",
       "      <td>No</td>\n",
       "      <td>Yellow Cab</td>\n",
       "      <td>36.36</td>\n",
       "      <td>703.49</td>\n",
       "      <td>436.320</td>\n",
       "      <td>BOSTON MA</td>\n",
       "      <td>248968</td>\n",
       "      <td>80021</td>\n",
       "      <td>57102</td>\n",
       "      <td>Male</td>\n",
       "      <td>32</td>\n",
       "      <td>17384.0</td>\n",
       "      <td>Card</td>\n",
       "    </tr>\n",
       "  </tbody>\n",
       "</table>\n",
       "</div>"
      ],
      "text/plain": [
       "  Transaction ID Date of Travel Holiday     Company  KM Travelled  \\\n",
       "0       10000011     2016-01-08      No    Pink Cab         30.45   \n",
       "1       10000397     2016-01-08      No  Yellow Cab         18.90   \n",
       "2       10000025     2016-01-08      No    Pink Cab         25.52   \n",
       "3       10000028     2016-01-08      No    Pink Cab         34.22   \n",
       "4       10000419     2016-01-08      No  Yellow Cab         36.36   \n",
       "\n",
       "   Price Charged  Cost of Trip        City  Population  Users Customer ID  \\\n",
       "0         370.95       313.635  ATLANTA GA      814885  24701       29290   \n",
       "1         609.50       267.624  ATLANTA GA      814885  24701       29009   \n",
       "2         360.79       298.584   BOSTON MA      248968  80021       59372   \n",
       "3         498.02       407.218   BOSTON MA      248968  80021       58346   \n",
       "4         703.49       436.320   BOSTON MA      248968  80021       57102   \n",
       "\n",
       "  Gender  Age  Income (USD/Month) Payment_Mode  \n",
       "0   Male   28             10813.0         Card  \n",
       "1   Male   28             15771.0         Card  \n",
       "2   Male   53              4912.0         Cash  \n",
       "3   Male   27             21650.0         Cash  \n",
       "4   Male   32             17384.0         Card  "
      ]
     },
     "execution_count": 75,
     "metadata": {},
     "output_type": "execute_result"
    }
   ],
   "source": [
    "df.head()"
   ]
  },
  {
   "cell_type": "code",
   "execution_count": 76,
   "id": "32226def",
   "metadata": {},
   "outputs": [
    {
     "data": {
      "image/png": "[encoded data removed]",
      "text/plain": [
       "<Figure size 1008x576 with 1 Axes>"
      ]
     },
     "metadata": {
      "needs_background": "light"
     },
     "output_type": "display_data"
    }
   ],
   "source": [
    "# The proportion of the population that uses cab services per city (we have to keep in mind that this proportion\n",
    "# might be related to other cab companies that provide the service in the cities)\n",
    "city[\"User_prop\"] = round(city[\"Users\"] / city[\"Population\"] * 100,1)\n",
    "\n",
    "# Plotting\n",
    "fig = plt.figure(figsize=[14,8])\n",
    "\n",
    "plt.barh(city[\"City\"], city[\"User_prop\"])\n",
    "\n",
    "plt.show()"
   ]
  },
  {
   "cell_type": "markdown",
   "id": "62fa3799",
   "metadata": {},
   "source": [
    "It is clear that Washington DC and Boston MA presented the highest number of proportion of users of cabs, followed by Los Angeles CA, Chicago IL and San Diego CA, which all account for more than 5% of the population that uses cabs."
   ]
  },
  {
   "cell_type": "code",
   "execution_count": 77,
   "id": "2b2eda1f",
   "metadata": {},
   "outputs": [],
   "source": [
    "# Creating a new feature named Profit considering the difference between the price charged and the cost of trip\n",
    "df[\"Profit\"] = df[\"Price Charged\"] - df[\"Cost of Trip\"]\n",
    "df[\"User_prop\"] = df[\"Users\"] / df[\"Population\"]"
   ]
  },
  {
   "cell_type": "code",
   "execution_count": 78,
   "id": "5618eca0",
   "metadata": {},
   "outputs": [
    {
     "data": {
      "text/plain": [
       "Company\n",
       "Pink Cab       84711\n",
       "Yellow Cab    274681\n",
       "Name: Transaction ID, dtype: int64"
      ]
     },
     "execution_count": 78,
     "metadata": {},
     "output_type": "execute_result"
    }
   ],
   "source": [
    "# The total number of travels per company considering all evaluated years\n",
    "df.groupby(\"Company\").count()[\"Transaction ID\"]"
   ]
  },
  {
   "cell_type": "markdown",
   "id": "66f4ec83",
   "metadata": {},
   "source": [
    "There were about 3 times more travels for the Yellow Cab compared to the Pink Cab company, considering the all years (2016, 2017 and 2018)."
   ]
  },
  {
   "cell_type": "code",
   "execution_count": 79,
   "id": "04a068d9",
   "metadata": {},
   "outputs": [
    {
     "data": {
      "image/png": "[encoded data removed]",
      "text/plain": [
       "<Figure size 1008x576 with 1 Axes>"
      ]
     },
     "metadata": {
      "needs_background": "light"
     },
     "output_type": "display_data"
    }
   ],
   "source": [
    "# The total number of travels per company per city considering all evaluated years\n",
    "g1 = df.groupby([\"Company\", \"City\"]).count()[\"Transaction ID\"].reset_index()\n",
    "\n",
    "# Plotting\n",
    "fig = plt.figure(figsize=[14,8])\n",
    "\n",
    "barWidth = 0.35\n",
    " \n",
    "bars1 = list(g1[g1[\"Company\"] == \"Yellow Cab\"][\"Transaction ID\"])\n",
    "bars2 = list(g1[g1[\"Company\"] == \"Pink Cab\"][\"Transaction ID\"])\n",
    " \n",
    "r1 = np.arange(len(bars1))\n",
    "r2 = [x + barWidth for x in r1]\n",
    " \n",
    "plt.barh(r1, bars1, color='#E6B400', height=barWidth, edgecolor='white', label='Yellow Cab', alpha=0.6)\n",
    "plt.barh(r2, bars2, color='#F8C8DC', height=barWidth, edgecolor='white', label='Pink Cab')\n",
    " \n",
    "plt.ylabel('City', fontweight='bold')\n",
    "plt.yticks([r + barWidth for r in range(len(bars1))], list(g1[\"City\"].unique()))\n",
    "\n",
    "plt.legend()\n",
    "plt.show()"
   ]
  },
  {
   "cell_type": "markdown",
   "id": "6e7903f0",
   "metadata": {},
   "source": [
    "When comparing the number of travels per company per city, it was observed that the Yellow Cab company presented a higher number of travels in nearly all cities, with exception to 4 out of 19 cities, which include Nashville TN, Pittsburgh PA, Sacramento CA and San Diego CA."
   ]
  },
  {
   "cell_type": "code",
   "execution_count": 80,
   "id": "7e7b6056",
   "metadata": {},
   "outputs": [
    {
     "data": {
      "image/png": "[encoded data removed]",
      "text/plain": [
       "<Figure size 1008x576 with 1 Axes>"
      ]
     },
     "metadata": {
      "needs_background": "light"
     },
     "output_type": "display_data"
    }
   ],
   "source": [
    "# The total number of travels per company per customer's gender considering all evaluated years\n",
    "g2 = df.groupby([\"Company\", \"Gender\"]).count()[\"Transaction ID\"].reset_index()\n",
    "\n",
    "# Plotting\n",
    "fig = plt.figure(figsize=[14,8])\n",
    "\n",
    "barWidth = 0.25\n",
    " \n",
    "bars1 = list(g2[g2[\"Company\"] == \"Yellow Cab\"][\"Transaction ID\"])\n",
    "bars2 = list(g2[g2[\"Company\"] == \"Pink Cab\"][\"Transaction ID\"])\n",
    " \n",
    "r1 = np.arange(len(bars1))\n",
    "r2 = [x + barWidth for x in r1]\n",
    " \n",
    "plt.bar(r1, bars1, color='#E6B400', width=barWidth, edgecolor='white', label='Yellow Cab', alpha=0.6)\n",
    "plt.bar(r2, bars2, color='#F8C8DC', width=barWidth, edgecolor='white', label='Pink Cab')\n",
    " \n",
    "plt.xlabel('Gender', fontweight='bold')\n",
    "plt.xticks([r + barWidth for r in range(len(bars1))], list(g2[\"Gender\"].unique()))\n",
    "\n",
    "plt.legend()\n",
    "plt.show()"
   ]
  },
  {
   "cell_type": "code",
   "execution_count": 81,
   "id": "d24f7a11",
   "metadata": {},
   "outputs": [
    {
     "data": {
      "text/html": [
       "<div>\n",
       "<style scoped>\n",
       "    .dataframe tbody tr th:only-of-type {\n",
       "        vertical-align: middle;\n",
       "    }\n",
       "\n",
       "    .dataframe tbody tr th {\n",
       "        vertical-align: top;\n",
       "    }\n",
       "\n",
       "    .dataframe thead th {\n",
       "        text-align: right;\n",
       "    }\n",
       "</style>\n",
       "<table border=\"1\" class=\"dataframe\">\n",
       "  <thead>\n",
       "    <tr style=\"text-align: right;\">\n",
       "      <th></th>\n",
       "      <th>Company</th>\n",
       "      <th>KM Travelled</th>\n",
       "    </tr>\n",
       "  </thead>\n",
       "  <tbody>\n",
       "    <tr>\n",
       "      <th>0</th>\n",
       "      <td>Pink Cab</td>\n",
       "      <td>22.559917</td>\n",
       "    </tr>\n",
       "    <tr>\n",
       "      <th>1</th>\n",
       "      <td>Yellow Cab</td>\n",
       "      <td>22.569517</td>\n",
       "    </tr>\n",
       "  </tbody>\n",
       "</table>\n",
       "</div>"
      ],
      "text/plain": [
       "      Company  KM Travelled\n",
       "0    Pink Cab     22.559917\n",
       "1  Yellow Cab     22.569517"
      ]
     },
     "execution_count": 81,
     "metadata": {},
     "output_type": "execute_result"
    }
   ],
   "source": [
    "# The mean travelled distance and the distribution of the travelled distance per company considering all evaluated years\n",
    "g3 = df.groupby([\"Company\"]).mean()[\"KM Travelled\"].reset_index()\n",
    "g3\n"
   ]
  },
  {
   "cell_type": "code",
   "execution_count": 82,
   "id": "9b5387d1",
   "metadata": {},
   "outputs": [
    {
     "data": {
      "image/png": "[encoded data removed]",
      "text/plain": [
       "<Figure size 1008x576 with 2 Axes>"
      ]
     },
     "metadata": {
      "needs_background": "light"
     },
     "output_type": "display_data"
    }
   ],
   "source": [
    "# Plotting\n",
    "fig = plt.figure(figsize=[14,8])\n",
    " \n",
    "hist1 = list(df[df[\"Company\"] == \"Yellow Cab\"][\"KM Travelled\"])\n",
    "hist2 = list(df[df[\"Company\"] == \"Pink Cab\"][\"KM Travelled\"])\n",
    "\n",
    "ax1 = plt.subplot(1,2,1)\n",
    "ax1.hist(hist1, color='#E6B400', label='Yellow Cab', alpha=0.6)\n",
    "ax1.vlines(x=df[df[\"Company\"] == \"Yellow Cab\"][\"KM Travelled\"].mean(), ymin=0, ymax=3.1e4, color=\"black\")\n",
    "ax1.annotate(\"Mean KM Travelled = {} km\".format(round(g3[\"KM Travelled\"].iloc[1], 2)), xy=(15, 3.2e4))\n",
    "\n",
    "ax2 = plt.subplot(1,2,2)\n",
    "ax2.hist(hist2, color='#F8C8DC', label='Pink Cab')\n",
    "ax2.vlines(x=df[df[\"Company\"] == \"Pink Cab\"][\"KM Travelled\"].mean(), ymin=0, ymax=0.95e4, color=\"black\")\n",
    "ax2.annotate(\"Mean KM Travelled = {} km\".format(round(g3[\"KM Travelled\"].iloc[0], 2)), xy=(15, 0.96e4))\n",
    "\n",
    "plt.show()"
   ]
  },
  {
   "cell_type": "markdown",
   "id": "cd381d5e",
   "metadata": {},
   "source": [
    "The distribution of the distance travelled by both companies as well as the mean are very similar when considering all the years evaluated (2016, 2017 and 2018)"
   ]
  },
  {
   "cell_type": "code",
   "execution_count": 83,
   "id": "9edeb7e1",
   "metadata": {},
   "outputs": [
    {
     "data": {
      "text/html": [
       "<div>\n",
       "<style scoped>\n",
       "    .dataframe tbody tr th:only-of-type {\n",
       "        vertical-align: middle;\n",
       "    }\n",
       "\n",
       "    .dataframe tbody tr th {\n",
       "        vertical-align: top;\n",
       "    }\n",
       "\n",
       "    .dataframe thead th {\n",
       "        text-align: right;\n",
       "    }\n",
       "</style>\n",
       "<table border=\"1\" class=\"dataframe\">\n",
       "  <thead>\n",
       "    <tr style=\"text-align: right;\">\n",
       "      <th></th>\n",
       "      <th>Company</th>\n",
       "      <th>Age</th>\n",
       "    </tr>\n",
       "  </thead>\n",
       "  <tbody>\n",
       "    <tr>\n",
       "      <th>0</th>\n",
       "      <td>Pink Cab</td>\n",
       "      <td>35.322414</td>\n",
       "    </tr>\n",
       "    <tr>\n",
       "      <th>1</th>\n",
       "      <td>Yellow Cab</td>\n",
       "      <td>35.341112</td>\n",
       "    </tr>\n",
       "  </tbody>\n",
       "</table>\n",
       "</div>"
      ],
      "text/plain": [
       "      Company        Age\n",
       "0    Pink Cab  35.322414\n",
       "1  Yellow Cab  35.341112"
      ]
     },
     "execution_count": 83,
     "metadata": {},
     "output_type": "execute_result"
    }
   ],
   "source": [
    "# The mean customer's age and distribution of the customer's age that uses one or another cab service considering all evaluated years\n",
    "g4 = df.groupby([\"Company\"]).mean()[\"Age\"].reset_index()\n",
    "g4"
   ]
  },
  {
   "cell_type": "code",
   "execution_count": 84,
   "id": "603c1453",
   "metadata": {},
   "outputs": [
    {
     "data": {
      "image/png": "[encoded data removed]",
      "text/plain": [
       "<Figure size 1008x576 with 2 Axes>"
      ]
     },
     "metadata": {
      "needs_background": "light"
     },
     "output_type": "display_data"
    }
   ],
   "source": [
    "# Plotting\n",
    "fig = plt.figure(figsize=[14,8])\n",
    " \n",
    "hist1 = list(df[df[\"Company\"] == \"Yellow Cab\"][\"Age\"])\n",
    "hist2 = list(df[df[\"Company\"] == \"Pink Cab\"][\"Age\"])\n",
    "\n",
    "ax1 = plt.subplot(1,2,1)\n",
    "ax1.hist(hist1, color='#E6B400', label='Yellow Cab', alpha=0.6)\n",
    "ax1.vlines(x=df[df[\"Company\"] == \"Yellow Cab\"][\"Age\"].mean(), ymin=0, ymax=4.3e4, color=\"black\")\n",
    "ax1.annotate(\"Mean Age = {}\".format(round(g4[\"Age\"].iloc[1])), xy=(28, 4.37e4))\n",
    "\n",
    "ax2 = plt.subplot(1,2,2)\n",
    "ax2.hist(hist2, color='#F8C8DC', label='Pink Cab')\n",
    "ax2.vlines(x=df[df[\"Company\"] == \"Pink Cab\"][\"Age\"].mean(), ymin=0, ymax=1.35e4, color=\"black\")\n",
    "ax2.annotate(\"Mean Age = {}\".format(round(g4[\"Age\"].iloc[0])), xy=(28, 1.37e4))\n",
    "\n",
    "plt.show()"
   ]
  },
  {
   "cell_type": "markdown",
   "id": "8730edb7",
   "metadata": {},
   "source": [
    "The distribution of the customer's age that uses both company services as well as the mean are very similar when considering all the years evaluated (2016, 2017 and 2018)"
   ]
  },
  {
   "cell_type": "code",
   "execution_count": 85,
   "id": "335ac42d",
   "metadata": {},
   "outputs": [
    {
     "data": {
      "text/html": [
       "<div>\n",
       "<style scoped>\n",
       "    .dataframe tbody tr th:only-of-type {\n",
       "        vertical-align: middle;\n",
       "    }\n",
       "\n",
       "    .dataframe tbody tr th {\n",
       "        vertical-align: top;\n",
       "    }\n",
       "\n",
       "    .dataframe thead th {\n",
       "        text-align: right;\n",
       "    }\n",
       "</style>\n",
       "<table border=\"1\" class=\"dataframe\">\n",
       "  <thead>\n",
       "    <tr style=\"text-align: right;\">\n",
       "      <th></th>\n",
       "      <th>Company</th>\n",
       "      <th>Income (USD/Month)</th>\n",
       "    </tr>\n",
       "  </thead>\n",
       "  <tbody>\n",
       "    <tr>\n",
       "      <th>0</th>\n",
       "      <td>Pink Cab</td>\n",
       "      <td>15059.047137</td>\n",
       "    </tr>\n",
       "    <tr>\n",
       "      <th>1</th>\n",
       "      <td>Yellow Cab</td>\n",
       "      <td>15045.669817</td>\n",
       "    </tr>\n",
       "  </tbody>\n",
       "</table>\n",
       "</div>"
      ],
      "text/plain": [
       "      Company  Income (USD/Month)\n",
       "0    Pink Cab        15059.047137\n",
       "1  Yellow Cab        15045.669817"
      ]
     },
     "execution_count": 85,
     "metadata": {},
     "output_type": "execute_result"
    }
   ],
   "source": [
    "# The mean income of customers and the distribution of customers that uses one or another cab service considering all evaluated years\n",
    "g5 = df.groupby([\"Company\"]).mean()[\"Income (USD/Month)\"].reset_index()\n",
    "g5"
   ]
  },
  {
   "cell_type": "code",
   "execution_count": 86,
   "id": "1169b57f",
   "metadata": {},
   "outputs": [
    {
     "data": {
      "image/png": "[encoded data removed]",
      "text/plain": [
       "<Figure size 1008x576 with 2 Axes>"
      ]
     },
     "metadata": {
      "needs_background": "light"
     },
     "output_type": "display_data"
    }
   ],
   "source": [
    "# Plotting\n",
    "fig = plt.figure(figsize=[14,8])\n",
    " \n",
    "hist1 = list(df[df[\"Company\"] == \"Yellow Cab\"][\"Income (USD/Month)\"])\n",
    "hist2 = list(df[df[\"Company\"] == \"Pink Cab\"][\"Income (USD/Month)\"])\n",
    "\n",
    "ax1 = plt.subplot(1,2,1)\n",
    "ax1.hist(hist1, color='#E6B400', label='Yellow Cab', alpha=0.6)\n",
    "ax1.vlines(x=df[df[\"Company\"] == \"Yellow Cab\"][\"Income (USD/Month)\"].mean(), ymin=0, ymax=3.68e4, color=\"black\")\n",
    "ax1.annotate(\"Mean Income = USD {}\".format(round(g5[\"Income (USD/Month)\"].iloc[1], 2)), xy=(1.2e4, 3.70e4))\n",
    "\n",
    "ax2 = plt.subplot(1,2,2)\n",
    "ax2.hist(hist2, color='#F8C8DC', label='Pink Cab')\n",
    "ax2.vlines(x=df[df[\"Company\"] == \"Pink Cab\"][\"Income (USD/Month)\"].mean(), ymin=0, ymax=1.14e4, color=\"black\")\n",
    "ax2.annotate(\"Mean Income = USD {}\".format(round(g5[\"Income (USD/Month)\"].iloc[0], 2)), xy=(1.2e4, 1.15e4))\n",
    "\n",
    "plt.show()"
   ]
  },
  {
   "cell_type": "code",
   "execution_count": 87,
   "id": "ef926e78",
   "metadata": {},
   "outputs": [
    {
     "data": {
      "text/html": [
       "<div>\n",
       "<style scoped>\n",
       "    .dataframe tbody tr th:only-of-type {\n",
       "        vertical-align: middle;\n",
       "    }\n",
       "\n",
       "    .dataframe tbody tr th {\n",
       "        vertical-align: top;\n",
       "    }\n",
       "\n",
       "    .dataframe thead th {\n",
       "        text-align: right;\n",
       "    }\n",
       "</style>\n",
       "<table border=\"1\" class=\"dataframe\">\n",
       "  <thead>\n",
       "    <tr style=\"text-align: right;\">\n",
       "      <th></th>\n",
       "      <th>Company</th>\n",
       "      <th>Payment_Mode</th>\n",
       "      <th>Transaction ID</th>\n",
       "      <th>Proportion</th>\n",
       "    </tr>\n",
       "  </thead>\n",
       "  <tbody>\n",
       "    <tr>\n",
       "      <th>0</th>\n",
       "      <td>Pink Cab</td>\n",
       "      <td>Card</td>\n",
       "      <td>50719</td>\n",
       "      <td>59.9</td>\n",
       "    </tr>\n",
       "    <tr>\n",
       "      <th>1</th>\n",
       "      <td>Pink Cab</td>\n",
       "      <td>Cash</td>\n",
       "      <td>33992</td>\n",
       "      <td>40.1</td>\n",
       "    </tr>\n",
       "    <tr>\n",
       "      <th>2</th>\n",
       "      <td>Yellow Cab</td>\n",
       "      <td>Card</td>\n",
       "      <td>164785</td>\n",
       "      <td>60.0</td>\n",
       "    </tr>\n",
       "    <tr>\n",
       "      <th>3</th>\n",
       "      <td>Yellow Cab</td>\n",
       "      <td>Cash</td>\n",
       "      <td>109896</td>\n",
       "      <td>40.0</td>\n",
       "    </tr>\n",
       "  </tbody>\n",
       "</table>\n",
       "</div>"
      ],
      "text/plain": [
       "      Company Payment_Mode  Transaction ID  Proportion\n",
       "0    Pink Cab         Card           50719        59.9\n",
       "1    Pink Cab         Cash           33992        40.1\n",
       "2  Yellow Cab         Card          164785        60.0\n",
       "3  Yellow Cab         Cash          109896        40.0"
      ]
     },
     "execution_count": 87,
     "metadata": {},
     "output_type": "execute_result"
    }
   ],
   "source": [
    "# The number of transactions that were made using one or another payment method per company considering all evaluated years\n",
    "g6 = df.groupby([\"Company\", \"Payment_Mode\"]).count()[\"Transaction ID\"].reset_index()\n",
    "g6[\"Proportion\"] = [\n",
    "    round((g6[\"Transaction ID\"].iloc[0] / sum(g6[\"Transaction ID\"].iloc[0:2]) * 100), 1),\n",
    "    round((g6[\"Transaction ID\"].iloc[1] / sum(g6[\"Transaction ID\"].iloc[0:2]) * 100), 1),\n",
    "    round((g6[\"Transaction ID\"].iloc[2] / sum(g6[\"Transaction ID\"].iloc[2:4]) * 100), 1),\n",
    "    round((g6[\"Transaction ID\"].iloc[3] / sum(g6[\"Transaction ID\"].iloc[2:4]) * 100), 1)\n",
    "]\n",
    "g6"
   ]
  },
  {
   "cell_type": "code",
   "execution_count": 88,
   "id": "62e806f1",
   "metadata": {},
   "outputs": [
    {
     "data": {
      "image/png": "[encoded data removed]",
      "text/plain": [
       "<Figure size 1008x576 with 1 Axes>"
      ]
     },
     "metadata": {
      "needs_background": "light"
     },
     "output_type": "display_data"
    }
   ],
   "source": [
    "# Plotting\n",
    "fig = plt.figure(figsize=[14,8])\n",
    "\n",
    "barWidth = 0.25\n",
    " \n",
    "bars1 = list(g6[g6[\"Company\"] == \"Yellow Cab\"][\"Proportion\"])\n",
    "bars2 = list(g6[g6[\"Company\"] == \"Pink Cab\"][\"Proportion\"])\n",
    " \n",
    "r1 = np.arange(len(bars1))\n",
    "r2 = [x + barWidth for x in r1]\n",
    " \n",
    "plt.bar(r1, bars1, color='#E6B400', width=barWidth, edgecolor='white', label='Yellow Cab', alpha=0.6)\n",
    "plt.bar(r2, bars2, color='#F8C8DC', width=barWidth, edgecolor='white', label='Pink Cab')\n",
    " \n",
    "plt.xlabel('Payment Mode', fontweight='bold')\n",
    "plt.xticks([r + barWidth for r in range(len(bars1))], list(g6[\"Payment_Mode\"].unique()))\n",
    "\n",
    "plt.legend()\n",
    "plt.show()"
   ]
  },
  {
   "cell_type": "markdown",
   "id": "00dbf32c",
   "metadata": {},
   "source": [
    "Most of payments were done by card, but both companies presented very similar number of payments by card (60%) and cash (40%)"
   ]
  },
  {
   "cell_type": "code",
   "execution_count": 89,
   "id": "d0fcb53b",
   "metadata": {},
   "outputs": [],
   "source": [
    "# The mean number of travels per day during Holidays compared to non-holidays per company considering all evaluated years\n",
    "df_no_Hol = df[df[\"Holiday\"] == \"No\"]\n",
    "df_Hol = df[df[\"Holiday\"] != \"No\"]"
   ]
  },
  {
   "cell_type": "code",
   "execution_count": 90,
   "id": "64f52ada",
   "metadata": {},
   "outputs": [
    {
     "data": {
      "text/plain": [
       "Company\n",
       "Pink Cab       77.776735\n",
       "Yellow Cab    252.737336\n",
       "Name: Profit, dtype: float64"
      ]
     },
     "execution_count": 90,
     "metadata": {},
     "output_type": "execute_result"
    }
   ],
   "source": [
    "# Mean of travels per day for non-Holidays\n",
    "df_no_Hol.groupby(\"Company\").count()[\"Profit\"] / (len(cab_data[\"Date of Travel\"].unique()) - holiday.count()[0])"
   ]
  },
  {
   "cell_type": "code",
   "execution_count": 91,
   "id": "67cdff84",
   "metadata": {},
   "outputs": [
    {
     "data": {
      "text/plain": [
       "Company\n",
       "Pink Cab       62.103448\n",
       "Yellow Cab    181.482759\n",
       "Name: Profit, dtype: float64"
      ]
     },
     "execution_count": 91,
     "metadata": {},
     "output_type": "execute_result"
    }
   ],
   "source": [
    "# Mean number of travels per day for Holidays\n",
    "df_Hol.groupby(\"Company\").count()[\"Profit\"] / holiday.count()[0]"
   ]
  },
  {
   "cell_type": "markdown",
   "id": "fbc022c3",
   "metadata": {},
   "source": [
    "Both companies presented higher mean number of travels per day for non-holidays compared to holidays"
   ]
  },
  {
   "cell_type": "code",
   "execution_count": 92,
   "id": "8caf8c43",
   "metadata": {},
   "outputs": [],
   "source": [
    "# The mean price charged per travel during Holidays compared to non-holidays per company considering all evaluated years"
   ]
  },
  {
   "cell_type": "code",
   "execution_count": 93,
   "id": "1fc73c3a",
   "metadata": {},
   "outputs": [
    {
     "data": {
      "text/plain": [
       "Company\n",
       "Pink Cab      310.679486\n",
       "Yellow Cab    458.574277\n",
       "Name: Price Charged, dtype: float64"
      ]
     },
     "execution_count": 93,
     "metadata": {},
     "output_type": "execute_result"
    }
   ],
   "source": [
    "# Mean price charged per travel for non-Holidays\n",
    "df_no_Hol.groupby(\"Company\").mean()[\"Price Charged\"]"
   ]
  },
  {
   "cell_type": "code",
   "execution_count": 94,
   "id": "a9456e14",
   "metadata": {},
   "outputs": [
    {
     "data": {
      "text/plain": [
       "Company\n",
       "Pink Cab      316.388207\n",
       "Yellow Cab    438.100462\n",
       "Name: Price Charged, dtype: float64"
      ]
     },
     "execution_count": 94,
     "metadata": {},
     "output_type": "execute_result"
    }
   ],
   "source": [
    "# Mean price charged per travel for Holidays\n",
    "df_Hol.groupby(\"Company\").mean()[\"Price Charged\"]"
   ]
  },
  {
   "cell_type": "markdown",
   "id": "ec59acc7",
   "metadata": {},
   "source": [
    "According to the previously analysis, for both holidays and non-holidays, the Yellow Cab charges a higher mean price, however, it could be related to the fact that this company makes not only more travels, but with higher distances.\n",
    "\n",
    "Moreover, it was observed that the Yellow company has a lower charged price for holidays compared to non-holidays, whereas the Pink cab company presents a higher charged price for holidays compared to non-holidays."
   ]
  },
  {
   "cell_type": "code",
   "execution_count": 95,
   "id": "35dca59a",
   "metadata": {},
   "outputs": [
    {
     "data": {
      "text/plain": [
       "Company\n",
       "Pink Cab       62.652174\n",
       "Yellow Cab    160.259986\n",
       "Name: Profit, dtype: float64"
      ]
     },
     "execution_count": 95,
     "metadata": {},
     "output_type": "execute_result"
    }
   ],
   "source": [
    "# The mean profit (price charged - cost of trip) per travel per company considering all evaluated years\n",
    "df.groupby(\"Company\").mean()[\"Profit\"]"
   ]
  },
  {
   "cell_type": "markdown",
   "id": "4c292f1e",
   "metadata": {},
   "source": [
    "In general, the mean profit per travel for the Yellow Cab is higher compared to the Pink Cab, however, as mentioned above it could be associated with the fact that the Yellow Cab performs longer distance travels compared to the Pink Cab. Let's check the mean distance per travel for both companies next."
   ]
  },
  {
   "cell_type": "code",
   "execution_count": 96,
   "id": "04fdac5a",
   "metadata": {},
   "outputs": [
    {
     "data": {
      "text/plain": [
       "Company\n",
       "Pink Cab      22.559917\n",
       "Yellow Cab    22.569517\n",
       "Name: KM Travelled, dtype: float64"
      ]
     },
     "execution_count": 96,
     "metadata": {},
     "output_type": "execute_result"
    }
   ],
   "source": [
    "# The mean distance per travel per company considering all evaluated years\n",
    "df.groupby(\"Company\").mean()[\"KM Travelled\"]"
   ]
  },
  {
   "cell_type": "markdown",
   "id": "9a037873",
   "metadata": {},
   "source": [
    "In fact, the mean distance per travel for both companies are nearly the same, and therefore, the Yellow Company is making a higher profit compared to the Pink Company. Let's do some further analysis to confirm this information."
   ]
  },
  {
   "cell_type": "markdown",
   "id": "93221853",
   "metadata": {},
   "source": [
    "#### Now that we have a better understanding of the Dataset, let's perform a bit of feature engineering to select the features that we will perform the exploratory analysis to form the final analysis before modelling"
   ]
  },
  {
   "cell_type": "markdown",
   "id": "5dcd23fd",
   "metadata": {},
   "source": [
    "## Exploratory Data Analysis - part 3\n",
    "#### Now, the analysis will be foccused on helping the customer to find the best company to invest in"
   ]
  },
  {
   "cell_type": "code",
   "execution_count": 97,
   "id": "e0fd03fe",
   "metadata": {},
   "outputs": [],
   "source": [
    "# Removing the features population and users from the dataset\n",
    "df = df[[\"Transaction ID\", \"Date of Travel\", \"Holiday\", \"Company\", \"KM Travelled\", \"Price Charged\", \"Cost of Trip\",\n",
    "         \"Profit\", \"City\", \"User_prop\", \"Customer ID\", \"Gender\", \"Age\", \"Income (USD/Month)\", \"Payment_Mode\"]]"
   ]
  },
  {
   "cell_type": "markdown",
   "id": "592409ed",
   "metadata": {},
   "source": [
    "#### Let's answer a few questions to support our client to decide which company is better to invest"
   ]
  },
  {
   "cell_type": "markdown",
   "id": "862dab66",
   "metadata": {},
   "source": [
    "* Is there a correlation between the travel distance, the price charged, cost of trip and profit?\n",
    "* Is there any difference on the profit per distance for the companies assessed?\n",
    "* What are the top 5 cities that most contribute for the profit of the companies?\n",
    "* How many transaction have happened for the Yellow and Pink cab companies in the years 2016, 2017 and 2018?\n",
    "* How much profit the Yellow and Pink cab companies made in the years 2016, 2017 and 2018?\n",
    "* Is there a correlation between users income and the total amount spend with cab?\n",
    "* Which days of the week are more rides for both companies?\n",
    "* Which days of the week are more profitable for both companies?\n",
    "* What is the monthly mean number of travels per company?\n",
    "* What is the monthly profit for both companies?\n",
    "* What is the yearly profit for both companies?\n",
    "* What are the attributes of these customer segments?\n",
    "* Is there any seasonality in number of customers using the cab service?\n",
    "* Do customers present fiedelity to one or another company or they use both companies in general?"
   ]
  },
  {
   "cell_type": "markdown",
   "id": "b9ed26bc",
   "metadata": {},
   "source": [
    "#### Is there a correlation between the travel distance, the price charged, cost of trip and profit?"
   ]
  },
  {
   "cell_type": "code",
   "execution_count": 98,
   "id": "a2b417ea",
   "metadata": {},
   "outputs": [
    {
     "data": {
      "image/png": "[encoded data removed]",
      "text/plain": [
       "<Figure size 1008x576 with 1 Axes>"
      ]
     },
     "metadata": {
      "needs_background": "light"
     },
     "output_type": "display_data"
    }
   ],
   "source": [
    "# Ploting a scatterplot to visualize the correlation between distance and cost of trip\n",
    "fig = plt.figure(figsize=[14,8])\n",
    "plt.scatter(df[\"KM Travelled\"], df[\"Cost of Trip\"])\n",
    "\n",
    "m, b = np.polyfit(df[\"KM Travelled\"], df[\"Cost of Trip\"], 1)\n",
    "plt.plot(df[\"KM Travelled\"], m*df[\"KM Travelled\"]+b, color=\"black\")\n",
    "\n",
    "plt.show()"
   ]
  },
  {
   "cell_type": "code",
   "execution_count": 99,
   "id": "4b888335",
   "metadata": {},
   "outputs": [
    {
     "data": {
      "image/png": "[encoded data removed]",
      "text/plain": [
       "<Figure size 1008x576 with 1 Axes>"
      ]
     },
     "metadata": {
      "needs_background": "light"
     },
     "output_type": "display_data"
    }
   ],
   "source": [
    "# Ploting a scatterplot to visualize the correlation between distance and price charged\n",
    "fig = plt.figure(figsize=[14,8])\n",
    "plt.scatter(df[\"KM Travelled\"], df[\"Price Charged\"], )\n",
    "\n",
    "m, b = np.polyfit(df[\"KM Travelled\"], df[\"Price Charged\"], 1)\n",
    "plt.plot(df[\"KM Travelled\"], m*df[\"KM Travelled\"]+b, color=\"black\")\n",
    "\n",
    "plt.show()"
   ]
  },
  {
   "cell_type": "code",
   "execution_count": 100,
   "id": "2333f662",
   "metadata": {},
   "outputs": [
    {
     "data": {
      "image/png": "[encoded data removed]",
      "text/plain": [
       "<Figure size 1008x576 with 1 Axes>"
      ]
     },
     "metadata": {
      "needs_background": "light"
     },
     "output_type": "display_data"
    }
   ],
   "source": [
    "# Ploting a scatterplot to visualize the correlation between distance and profit\n",
    "fig = plt.figure(figsize=[14,8])\n",
    "plt.scatter(df[\"KM Travelled\"], df[\"Profit\"], )\n",
    "\n",
    "m, b = np.polyfit(df[\"KM Travelled\"], df[\"Profit\"], 1)\n",
    "plt.plot(df[\"KM Travelled\"], m*df[\"KM Travelled\"]+b, color=\"black\")\n",
    "\n",
    "plt.show()"
   ]
  },
  {
   "cell_type": "code",
   "execution_count": 101,
   "id": "774fd409",
   "metadata": {
    "scrolled": true
   },
   "outputs": [
    {
     "data": {
      "text/plain": [
       "<AxesSubplot:>"
      ]
     },
     "execution_count": 101,
     "metadata": {},
     "output_type": "execute_result"
    },
    {
     "data": {
      "image/png": "[encoded data removed]",
      "text/plain": [
       "<Figure size 432x288 with 2 Axes>"
      ]
     },
     "metadata": {
      "needs_background": "light"
     },
     "output_type": "display_data"
    }
   ],
   "source": [
    "# Calculating the correlation among the variables \"KM Travelled\", \"Price Charged\", \"Cost of Trip\", \"Profit\"\n",
    "corr1 = df[[\"KM Travelled\", \"Price Charged\", \"Cost of Trip\", \"Profit\"]].corr()\n",
    "\n",
    "# Ploting the correlation between \n",
    "sns.heatmap(corr1)"
   ]
  },
  {
   "cell_type": "code",
   "execution_count": 102,
   "id": "383df9ca",
   "metadata": {},
   "outputs": [
    {
     "data": {
      "text/plain": [
       "(0.9818483823189953, 0.0)"
      ]
     },
     "execution_count": 102,
     "metadata": {},
     "output_type": "execute_result"
    }
   ],
   "source": [
    "#calculation correlation coefficient and p-value between distance and cost of trip\n",
    "pearsonr(df[\"KM Travelled\"], df[\"Cost of Trip\"])"
   ]
  },
  {
   "cell_type": "code",
   "execution_count": 103,
   "id": "a6bb4fbe",
   "metadata": {},
   "outputs": [
    {
     "data": {
      "text/plain": [
       "(0.8357531580209399, 0.0)"
      ]
     },
     "execution_count": 103,
     "metadata": {},
     "output_type": "execute_result"
    }
   ],
   "source": [
    "#calculation correlation coefficient and p-value between distance and charged price\n",
    "pearsonr(df[\"KM Travelled\"], df[\"Price Charged\"])"
   ]
  },
  {
   "cell_type": "code",
   "execution_count": 104,
   "id": "123e6471",
   "metadata": {},
   "outputs": [
    {
     "data": {
      "text/plain": [
       "(0.4627681978971104, 0.0)"
      ]
     },
     "execution_count": 104,
     "metadata": {},
     "output_type": "execute_result"
    }
   ],
   "source": [
    "#calculation correlation coefficient and p-value between distance and profit\n",
    "pearsonr(df[\"KM Travelled\"], df[\"Profit\"])"
   ]
  },
  {
   "cell_type": "markdown",
   "id": "7eaeebe9",
   "metadata": {},
   "source": [
    "According the the previous analysis, it is clear that the distance travelled has a very strong positive correlation (0.98, p-value = 0) with the cost of trip, meaning that the longest the travel distance is, the higher the cost of the trip is.\n",
    "Moreover, there is a strong correlation between the distance travelled (0.84, p-value = 0) and the price charged, although this correlation is slightly weaker compared to the previous one.\n",
    "Finally, there is a moderate to weak correlation between the distance travelled and the profit (margin) (0.46, p-value = 0). This might have been caused because some travels may not be profitable due to some reason."
   ]
  },
  {
   "cell_type": "code",
   "execution_count": 105,
   "id": "603d1e9c",
   "metadata": {},
   "outputs": [],
   "source": [
    "# Checking the variable profit to better understand the proportion of profitable travels\n",
    "total_trips_per_company = df.groupby(\"Company\").count()[\"Profit\"]\n",
    "profit_trips_per_company = df[df[\"Profit\"] > 0].groupby(\"Company\").count()[\"Profit\"]\n",
    "unprofit_trips_per_company = df[df[\"Profit\"] <= 0].groupby(\"Company\").count()[\"Profit\"]"
   ]
  },
  {
   "cell_type": "code",
   "execution_count": 106,
   "id": "dcb9f19e",
   "metadata": {},
   "outputs": [
    {
     "name": "stdout",
     "output_type": "stream",
     "text": [
      "Proportion of profitable rides for both companies: Company\n",
      "Pink Cab      86.9\n",
      "Yellow Cab    95.0\n",
      "Name: Profit, dtype: float64\n",
      "Proportion of non-profitable rides for both companies: Company\n",
      "Pink Cab      13.1\n",
      "Yellow Cab     5.0\n",
      "Name: Profit, dtype: float64\n"
     ]
    }
   ],
   "source": [
    "# Proportion of profitable and non-profitable trips for both companies\n",
    "print (\"Proportion of profitable rides for both companies: {}\".format(round(profit_trips_per_company/total_trips_per_company*100,1)))\n",
    "print (\"Proportion of non-profitable rides for both companies: {}\".format(round(unprofit_trips_per_company/total_trips_per_company*100,1)))\n"
   ]
  },
  {
   "cell_type": "markdown",
   "id": "60e891e6",
   "metadata": {},
   "source": [
    "As previously shown, the Yellow Cab company (95%) seems to present a higher number of profitable rides compared to the Pink Cab company (87%). Let's re-do the correlation between the distance travelled and the profit for each company separately."
   ]
  },
  {
   "cell_type": "code",
   "execution_count": 107,
   "id": "b379f72f",
   "metadata": {},
   "outputs": [
    {
     "data": {
      "text/plain": [
       "(0.44263250048084624, 0.0)"
      ]
     },
     "execution_count": 107,
     "metadata": {},
     "output_type": "execute_result"
    }
   ],
   "source": [
    "#calculation correlation coefficient and p-value between distance and profit for Pink Cab\n",
    "pearsonr(df[df[\"Company\"] == \"Pink Cab\"][\"KM Travelled\"], df[df[\"Company\"] == \"Pink Cab\"][\"Profit\"])"
   ]
  },
  {
   "cell_type": "code",
   "execution_count": 108,
   "id": "96fa6364",
   "metadata": {},
   "outputs": [
    {
     "data": {
      "text/plain": [
       "(0.5031522082950751, 0.0)"
      ]
     },
     "execution_count": 108,
     "metadata": {},
     "output_type": "execute_result"
    }
   ],
   "source": [
    "#calculation correlation coefficient and p-value between distance and profit for Pink Cab\n",
    "pearsonr(df[df[\"Company\"] == \"Yellow Cab\"][\"KM Travelled\"], df[df[\"Company\"] == \"Yellow Cab\"][\"Profit\"])"
   ]
  },
  {
   "cell_type": "markdown",
   "id": "d7789ad6",
   "metadata": {},
   "source": [
    "As suspected, there is a stronger correlation (but still moderate-weak) between the distance travelled and profit for the Yellow Cab (0.50) compared to the PinK Cab company (0.44)"
   ]
  },
  {
   "cell_type": "code",
   "execution_count": 109,
   "id": "b451ab60",
   "metadata": {},
   "outputs": [],
   "source": [
    "# Now, let's check if there is any difference in the profit made by both companies considering different cities\n",
    "total_trips_per_company_city = df.groupby([\"Company\", \"City\"]).count()[\"Profit\"]\n",
    "profit_trips_per_company_city = df[df[\"Profit\"] > 0].groupby([\"Company\", \"City\"]).count()[\"Profit\"]\n",
    "profit_trips_per_company_city_prop = round(profit_trips_per_company_city/total_trips_per_company_city*100,1).reset_index()"
   ]
  },
  {
   "cell_type": "code",
   "execution_count": 110,
   "id": "80724cf4",
   "metadata": {},
   "outputs": [
    {
     "name": "stdout",
     "output_type": "stream",
     "text": [
      "Proportion of profitable rides for both companies for different cities:        Company            City  Profit\n",
      "0     Pink Cab      ATLANTA GA    84.3\n",
      "1     Pink Cab       AUSTIN TX    92.0\n",
      "2     Pink Cab       BOSTON MA    85.8\n",
      "3     Pink Cab      CHICAGO IL    76.4\n",
      "4     Pink Cab       DALLAS TX    60.8\n",
      "5     Pink Cab       DENVER CO    66.4\n",
      "6     Pink Cab  LOS ANGELES CA    88.1\n",
      "7     Pink Cab        MIAMI FL    86.4\n",
      "8     Pink Cab    NASHVILLE TN    70.1\n",
      "9     Pink Cab     NEW YORK NY    96.7\n",
      "10    Pink Cab   ORANGE COUNTY    89.0\n",
      "11    Pink Cab      PHOENIX AZ    74.7\n",
      "12    Pink Cab   PITTSBURGH PA    60.6\n",
      "13    Pink Cab   SACRAMENTO CA    76.9\n",
      "14    Pink Cab    SAN DIEGO CA    91.4\n",
      "15    Pink Cab      SEATTLE WA    79.0\n",
      "16    Pink Cab  SILICON VALLEY    96.9\n",
      "17    Pink Cab       TUCSON AZ    86.5\n",
      "18    Pink Cab   WASHINGTON DC    88.4\n",
      "19  Yellow Cab      ATLANTA GA    98.5\n",
      "20  Yellow Cab       AUSTIN TX    97.0\n",
      "21  Yellow Cab       BOSTON MA    87.7\n",
      "22  Yellow Cab      CHICAGO IL    88.0\n",
      "23  Yellow Cab       DALLAS TX   100.0\n",
      "24  Yellow Cab       DENVER CO    98.7\n",
      "25  Yellow Cab  LOS ANGELES CA    97.6\n",
      "26  Yellow Cab        MIAMI FL    98.5\n",
      "27  Yellow Cab    NASHVILLE TN    87.8\n",
      "28  Yellow Cab     NEW YORK NY   100.0\n",
      "29  Yellow Cab   ORANGE COUNTY    97.4\n",
      "30  Yellow Cab      PHOENIX AZ    97.5\n",
      "31  Yellow Cab   PITTSBURGH PA    89.4\n",
      "32  Yellow Cab   SACRAMENTO CA    79.8\n",
      "33  Yellow Cab    SAN DIEGO CA    96.5\n",
      "34  Yellow Cab      SEATTLE WA    95.2\n",
      "35  Yellow Cab  SILICON VALLEY   100.0\n",
      "36  Yellow Cab       TUCSON AZ    85.1\n",
      "37  Yellow Cab   WASHINGTON DC    93.1\n"
     ]
    }
   ],
   "source": [
    "# Proportion of profitable trips for both companies considering different cities\n",
    "print (\"Proportion of profitable rides for both companies for different cities: {}\".format(profit_trips_per_company_city_prop))\n"
   ]
  },
  {
   "cell_type": "code",
   "execution_count": 111,
   "id": "d8d71a1b",
   "metadata": {},
   "outputs": [
    {
     "data": {
      "image/png": "[encoded data removed]",
      "text/plain": [
       "<Figure size 1008x576 with 1 Axes>"
      ]
     },
     "metadata": {
      "needs_background": "light"
     },
     "output_type": "display_data"
    }
   ],
   "source": [
    "# Plotting the proportion of profitable trips for both companies considering different cities\n",
    "fig = plt.figure(figsize=[14,8])\n",
    "\n",
    "barWidth = 0.35\n",
    " \n",
    "bars1 = list(profit_trips_per_company_city_prop[profit_trips_per_company_city_prop[\"Company\"] == \"Yellow Cab\"][\"Profit\"])\n",
    "bars2 = list(profit_trips_per_company_city_prop[profit_trips_per_company_city_prop[\"Company\"] == \"Pink Cab\"][\"Profit\"])\n",
    " \n",
    "r1 = np.arange(len(bars1))\n",
    "r2 = [x + barWidth for x in r1]\n",
    " \n",
    "plt.barh(r1, bars1, color='#E6B400', height=barWidth, edgecolor='white', label='Yellow Cab', alpha=0.6)\n",
    "plt.barh(r2, bars2, color='#F8C8DC', height=barWidth, edgecolor='white', label='Pink Cab')\n",
    " \n",
    "plt.ylabel('City', fontweight='bold')\n",
    "plt.yticks([r + barWidth for r in range(len(bars1))], list(profit_trips_per_company_city_prop[\"City\"].unique()))\n",
    "\n",
    "plt.legend()\n",
    "plt.show()"
   ]
  },
  {
   "cell_type": "markdown",
   "id": "34b988d4",
   "metadata": {},
   "source": [
    "According to the analysis shown above, it was observed the the Yellow cab presented a higher proportion of profitable rides compared to the Pink cab company for all cities, with exception to 1 city (Tucson AZ)"
   ]
  },
  {
   "cell_type": "markdown",
   "id": "b922a715",
   "metadata": {},
   "source": [
    "#### Is there any difference on the profit per distance for the companies assessed?"
   ]
  },
  {
   "cell_type": "code",
   "execution_count": 112,
   "id": "b1867da7",
   "metadata": {},
   "outputs": [
    {
     "data": {
      "text/plain": [
       "Company\n",
       "Pink Cab      2.769908\n",
       "Yellow Cab    7.105508\n",
       "Name: Profit_dist, dtype: float64"
      ]
     },
     "execution_count": 112,
     "metadata": {},
     "output_type": "execute_result"
    }
   ],
   "source": [
    "# Creating a new feature \"Profit_dist\" (profit per distance) and calculating the profit per km for both companies\n",
    "df[\"Profit_dist\"] = df[\"Profit\"] / df[\"KM Travelled\"]\n",
    "df.groupby(\"Company\").mean()[\"Profit_dist\"]"
   ]
  },
  {
   "cell_type": "code",
   "execution_count": 113,
   "id": "a7224162",
   "metadata": {},
   "outputs": [
    {
     "name": "stdout",
     "output_type": "stream",
     "text": [
      "T-statistic value:  -210.96861574553898\n",
      "P-Value:  0.0\n"
     ]
    }
   ],
   "source": [
    "# Let's perform a hypothesis test to check if there is significant difference between the profit per\n",
    "# distance for the Yellow and Pink Cab companies\n",
    "\n",
    "# H0: There is no significant difference between the profit per KM for the Yellow and Pink cab companies\n",
    "# H1: There is significant difference bewteen the profit per KM for the Yellow and Pink cab companies\n",
    "# Adopted significance level: 0.05\n",
    "\n",
    "from scipy import stats\n",
    "from scipy.stats import ttest_ind\n",
    "\n",
    "sample1 = df[df[\"Company\"] == \"Pink Cab\"][\"Profit_dist\"]\n",
    "sample2 = df[df[\"Company\"] == \"Yellow Cab\"][\"Profit_dist\"]\n",
    "\n",
    "t_stat, p_value = ttest_ind(sample1, sample2)\n",
    "print(\"T-statistic value: \", t_stat)  \n",
    "print(\"P-Value: \", p_value)"
   ]
  },
  {
   "cell_type": "markdown",
   "id": "5bb2f803",
   "metadata": {},
   "source": [
    "According to the statistical test presented above, the profit per KM for the Yellow cab was significantly higher than the profit per KM for the Pink cab, considering a significance level of 0.05."
   ]
  },
  {
   "cell_type": "markdown",
   "id": "b99cd19a",
   "metadata": {},
   "source": [
    "#### What are the top 5 cities that most contribute for the profit of the companies?"
   ]
  },
  {
   "cell_type": "code",
   "execution_count": 114,
   "id": "5b318b71",
   "metadata": {},
   "outputs": [
    {
     "data": {
      "text/plain": [
       "Company\n",
       "Pink Cab      5.307328e+06\n",
       "Yellow Cab    4.402037e+07\n",
       "Name: Profit, dtype: float64"
      ]
     },
     "execution_count": 114,
     "metadata": {},
     "output_type": "execute_result"
    }
   ],
   "source": [
    "# total profit per company considering all years\n",
    "total_profit_per_company = df.groupby(\"Company\").sum()[\"Profit\"]\n",
    "total_profit_per_company"
   ]
  },
  {
   "cell_type": "code",
   "execution_count": 115,
   "id": "8152190c",
   "metadata": {},
   "outputs": [],
   "source": [
    "# total profit per company per city considering all years\n",
    "total_profit_per_company_city = df.groupby([\"Company\", \"City\"]).sum()[\"Profit\"].reset_index()"
   ]
  },
  {
   "cell_type": "code",
   "execution_count": 116,
   "id": "6d3e7f70",
   "metadata": {},
   "outputs": [],
   "source": [
    "# proportion of the total profit per city for the pink and yellow cab companies\n",
    "total_profit_pink_per_city_prop = round(total_profit_per_company_city[total_profit_per_company_city[\"Company\"] == \"Pink Cab\"][\"Profit\"] / total_profit_per_company[0] * 100,1)\n",
    "total_profit_yellow_per_city_prop = round(total_profit_per_company_city[total_profit_per_company_city[\"Company\"] == \"Yellow Cab\"][\"Profit\"] / total_profit_per_company[1] * 100,1)"
   ]
  },
  {
   "cell_type": "code",
   "execution_count": 117,
   "id": "24ee699e",
   "metadata": {},
   "outputs": [],
   "source": [
    "# Selecting the top 5 cities according to the proportion of profit related to the total profit\n",
    "top5_cities_pink_profit = total_profit_pink_per_city_prop.sort_values(ascending=False)[:5]\n",
    "top5_cities_yellow_profit = total_profit_yellow_per_city_prop.sort_values(ascending=False)[:5]"
   ]
  },
  {
   "cell_type": "code",
   "execution_count": 118,
   "id": "f4ad453c",
   "metadata": {},
   "outputs": [
    {
     "name": "stdout",
     "output_type": "stream",
     "text": [
      "9     28.5\n",
      "6     21.2\n",
      "14    12.0\n",
      "16     6.4\n",
      "3      6.0\n",
      "Name: Profit, dtype: float64\n",
      "9        NEW YORK NY\n",
      "6     LOS ANGELES CA\n",
      "14      SAN DIEGO CA\n",
      "16    SILICON VALLEY\n",
      "3         CHICAGO IL\n",
      "Name: City, dtype: object\n"
     ]
    }
   ],
   "source": [
    "# Top 5 cities that provided highest profits for the Pink cab company\n",
    "print(top5_cities_pink_profit)\n",
    "print(total_profit_per_company_city[\"City\"].iloc[list(top5_cities_pink_profit.index)])"
   ]
  },
  {
   "cell_type": "code",
   "execution_count": 119,
   "id": "39c64ac8",
   "metadata": {},
   "outputs": [
    {
     "name": "stdout",
     "output_type": "stream",
     "text": [
      "28    60.1\n",
      "25     7.5\n",
      "37     7.5\n",
      "22     7.0\n",
      "21     3.4\n",
      "Name: Profit, dtype: float64\n",
      "28       NEW YORK NY\n",
      "25    LOS ANGELES CA\n",
      "37     WASHINGTON DC\n",
      "22        CHICAGO IL\n",
      "21         BOSTON MA\n",
      "Name: City, dtype: object\n"
     ]
    }
   ],
   "source": [
    "# Top 5 cities that provided highest profits for the Yellow cab company\n",
    "print(top5_cities_yellow_profit)\n",
    "print(total_profit_per_company_city[\"City\"].iloc[list(top5_cities_yellow_profit.index)])"
   ]
  },
  {
   "cell_type": "markdown",
   "id": "4c441f29",
   "metadata": {},
   "source": [
    "According to the analysis shown above (considering the years 2016, 2017 and 2018), for the yellow cab company, most of its profit came from New York NY (60%), followed by Los Angeles CA, Washington DC, and Chicago IL (about 7% for each). Boston MA provided about 3.5% of the companies profit.\n",
    "\n",
    "On the other hand, the pink cab company presented the highest profits for the cities New York NY (28.5%), Los Angeles CA (21.2%), San Diego CA (12%), Silicon Valley (6.4%), Chicago IL (6%). The top 5 cities (region) were responsible for about 74% of the total profit for the years 2016, 2017, 2018."
   ]
  },
  {
   "cell_type": "markdown",
   "id": "7b1596cb",
   "metadata": {},
   "source": [
    "#### How many transaction have happened for the Yellow and Pink cab companies in the years 2016, 2017 and 2018?"
   ]
  },
  {
   "cell_type": "code",
   "execution_count": 120,
   "id": "909736e6",
   "metadata": {},
   "outputs": [],
   "source": [
    "# Creating 4 new features with the year, month, day and day of week for each date in the dataset\n",
    "df['year'] = pd.DatetimeIndex(df['Date of Travel']).year\n",
    "df['month'] = pd.DatetimeIndex(df['Date of Travel']).month\n",
    "df['day'] = pd.DatetimeIndex(df['Date of Travel']).day\n",
    "df['day_of_week'] = df['Date of Travel'].dt.day_name()"
   ]
  },
  {
   "cell_type": "code",
   "execution_count": 121,
   "id": "b90f5078",
   "metadata": {},
   "outputs": [
    {
     "data": {
      "text/html": [
       "<div>\n",
       "<style scoped>\n",
       "    .dataframe tbody tr th:only-of-type {\n",
       "        vertical-align: middle;\n",
       "    }\n",
       "\n",
       "    .dataframe tbody tr th {\n",
       "        vertical-align: top;\n",
       "    }\n",
       "\n",
       "    .dataframe thead th {\n",
       "        text-align: right;\n",
       "    }\n",
       "</style>\n",
       "<table border=\"1\" class=\"dataframe\">\n",
       "  <thead>\n",
       "    <tr style=\"text-align: right;\">\n",
       "      <th></th>\n",
       "      <th>Company</th>\n",
       "      <th>year</th>\n",
       "      <th>Transaction ID</th>\n",
       "    </tr>\n",
       "  </thead>\n",
       "  <tbody>\n",
       "    <tr>\n",
       "      <th>0</th>\n",
       "      <td>Pink Cab</td>\n",
       "      <td>2016</td>\n",
       "      <td>25080</td>\n",
       "    </tr>\n",
       "    <tr>\n",
       "      <th>1</th>\n",
       "      <td>Pink Cab</td>\n",
       "      <td>2017</td>\n",
       "      <td>30321</td>\n",
       "    </tr>\n",
       "    <tr>\n",
       "      <th>2</th>\n",
       "      <td>Pink Cab</td>\n",
       "      <td>2018</td>\n",
       "      <td>29310</td>\n",
       "    </tr>\n",
       "    <tr>\n",
       "      <th>3</th>\n",
       "      <td>Yellow Cab</td>\n",
       "      <td>2016</td>\n",
       "      <td>82239</td>\n",
       "    </tr>\n",
       "    <tr>\n",
       "      <th>4</th>\n",
       "      <td>Yellow Cab</td>\n",
       "      <td>2017</td>\n",
       "      <td>98189</td>\n",
       "    </tr>\n",
       "    <tr>\n",
       "      <th>5</th>\n",
       "      <td>Yellow Cab</td>\n",
       "      <td>2018</td>\n",
       "      <td>94253</td>\n",
       "    </tr>\n",
       "  </tbody>\n",
       "</table>\n",
       "</div>"
      ],
      "text/plain": [
       "      Company  year  Transaction ID\n",
       "0    Pink Cab  2016           25080\n",
       "1    Pink Cab  2017           30321\n",
       "2    Pink Cab  2018           29310\n",
       "3  Yellow Cab  2016           82239\n",
       "4  Yellow Cab  2017           98189\n",
       "5  Yellow Cab  2018           94253"
      ]
     },
     "execution_count": 121,
     "metadata": {},
     "output_type": "execute_result"
    }
   ],
   "source": [
    "# Grouping the data by company and year and calculating the number of transactions per company per year\n",
    "total_rides_company_year = df.groupby([\"Company\", \"year\"]).count()[\"Transaction ID\"].reset_index()\n",
    "total_rides_company_year"
   ]
  },
  {
   "cell_type": "markdown",
   "id": "ed915506",
   "metadata": {},
   "source": [
    "#### How much profit the Yellow and Pink cab companies made in the years 2016, 2017 and 2018?"
   ]
  },
  {
   "cell_type": "code",
   "execution_count": 122,
   "id": "73bfe1a4",
   "metadata": {},
   "outputs": [
    {
     "data": {
      "text/html": [
       "<div>\n",
       "<style scoped>\n",
       "    .dataframe tbody tr th:only-of-type {\n",
       "        vertical-align: middle;\n",
       "    }\n",
       "\n",
       "    .dataframe tbody tr th {\n",
       "        vertical-align: top;\n",
       "    }\n",
       "\n",
       "    .dataframe thead th {\n",
       "        text-align: right;\n",
       "    }\n",
       "</style>\n",
       "<table border=\"1\" class=\"dataframe\">\n",
       "  <thead>\n",
       "    <tr style=\"text-align: right;\">\n",
       "      <th></th>\n",
       "      <th>Company</th>\n",
       "      <th>year</th>\n",
       "      <th>Profit</th>\n",
       "    </tr>\n",
       "  </thead>\n",
       "  <tbody>\n",
       "    <tr>\n",
       "      <th>0</th>\n",
       "      <td>Pink Cab</td>\n",
       "      <td>2016</td>\n",
       "      <td>1.713511e+06</td>\n",
       "    </tr>\n",
       "    <tr>\n",
       "      <th>1</th>\n",
       "      <td>Pink Cab</td>\n",
       "      <td>2017</td>\n",
       "      <td>2.033655e+06</td>\n",
       "    </tr>\n",
       "    <tr>\n",
       "      <th>2</th>\n",
       "      <td>Pink Cab</td>\n",
       "      <td>2018</td>\n",
       "      <td>1.560162e+06</td>\n",
       "    </tr>\n",
       "    <tr>\n",
       "      <th>3</th>\n",
       "      <td>Yellow Cab</td>\n",
       "      <td>2016</td>\n",
       "      <td>1.392700e+07</td>\n",
       "    </tr>\n",
       "    <tr>\n",
       "      <th>4</th>\n",
       "      <td>Yellow Cab</td>\n",
       "      <td>2017</td>\n",
       "      <td>1.657598e+07</td>\n",
       "    </tr>\n",
       "    <tr>\n",
       "      <th>5</th>\n",
       "      <td>Yellow Cab</td>\n",
       "      <td>2018</td>\n",
       "      <td>1.351740e+07</td>\n",
       "    </tr>\n",
       "  </tbody>\n",
       "</table>\n",
       "</div>"
      ],
      "text/plain": [
       "      Company  year        Profit\n",
       "0    Pink Cab  2016  1.713511e+06\n",
       "1    Pink Cab  2017  2.033655e+06\n",
       "2    Pink Cab  2018  1.560162e+06\n",
       "3  Yellow Cab  2016  1.392700e+07\n",
       "4  Yellow Cab  2017  1.657598e+07\n",
       "5  Yellow Cab  2018  1.351740e+07"
      ]
     },
     "execution_count": 122,
     "metadata": {},
     "output_type": "execute_result"
    }
   ],
   "source": [
    "# Grouping the data by company and year and calculating the total profit per company per year\n",
    "total_profit_company_year = df.groupby([\"Company\", \"year\"]).sum()[\"Profit\"].reset_index()\n",
    "total_profit_company_year"
   ]
  },
  {
   "cell_type": "code",
   "execution_count": 123,
   "id": "eb031626",
   "metadata": {},
   "outputs": [],
   "source": [
    "# Merging the previous created dataframes and renaming the columns\n",
    "total_profit_per_ride_company_year = total_rides_company_year.merge(total_profit_company_year, on=[\"Company\", \"year\"])\n",
    "total_profit_per_ride_company_year.columns = [\"Company\", \"year\", \"Number_of_rides\", \"Profit\"]"
   ]
  },
  {
   "cell_type": "markdown",
   "id": "9fcd2a18",
   "metadata": {},
   "source": [
    "#### Profit per ride for the Yellow and Pink cab companies made in the years 2016, 2017 and 2018?"
   ]
  },
  {
   "cell_type": "code",
   "execution_count": 124,
   "id": "803933fd",
   "metadata": {},
   "outputs": [
    {
     "data": {
      "text/html": [
       "<div>\n",
       "<style scoped>\n",
       "    .dataframe tbody tr th:only-of-type {\n",
       "        vertical-align: middle;\n",
       "    }\n",
       "\n",
       "    .dataframe tbody tr th {\n",
       "        vertical-align: top;\n",
       "    }\n",
       "\n",
       "    .dataframe thead th {\n",
       "        text-align: right;\n",
       "    }\n",
       "</style>\n",
       "<table border=\"1\" class=\"dataframe\">\n",
       "  <thead>\n",
       "    <tr style=\"text-align: right;\">\n",
       "      <th></th>\n",
       "      <th>Company</th>\n",
       "      <th>year</th>\n",
       "      <th>Number_of_rides</th>\n",
       "      <th>Profit</th>\n",
       "      <th>Profit_per_ride</th>\n",
       "    </tr>\n",
       "  </thead>\n",
       "  <tbody>\n",
       "    <tr>\n",
       "      <th>0</th>\n",
       "      <td>Pink Cab</td>\n",
       "      <td>2016</td>\n",
       "      <td>25080</td>\n",
       "      <td>1.713511e+06</td>\n",
       "      <td>68.321819</td>\n",
       "    </tr>\n",
       "    <tr>\n",
       "      <th>1</th>\n",
       "      <td>Pink Cab</td>\n",
       "      <td>2017</td>\n",
       "      <td>30321</td>\n",
       "      <td>2.033655e+06</td>\n",
       "      <td>67.070839</td>\n",
       "    </tr>\n",
       "    <tr>\n",
       "      <th>2</th>\n",
       "      <td>Pink Cab</td>\n",
       "      <td>2018</td>\n",
       "      <td>29310</td>\n",
       "      <td>1.560162e+06</td>\n",
       "      <td>53.229689</td>\n",
       "    </tr>\n",
       "    <tr>\n",
       "      <th>3</th>\n",
       "      <td>Yellow Cab</td>\n",
       "      <td>2016</td>\n",
       "      <td>82239</td>\n",
       "      <td>1.392700e+07</td>\n",
       "      <td>169.347821</td>\n",
       "    </tr>\n",
       "    <tr>\n",
       "      <th>4</th>\n",
       "      <td>Yellow Cab</td>\n",
       "      <td>2017</td>\n",
       "      <td>98189</td>\n",
       "      <td>1.657598e+07</td>\n",
       "      <td>168.817057</td>\n",
       "    </tr>\n",
       "    <tr>\n",
       "      <th>5</th>\n",
       "      <td>Yellow Cab</td>\n",
       "      <td>2018</td>\n",
       "      <td>94253</td>\n",
       "      <td>1.351740e+07</td>\n",
       "      <td>143.416122</td>\n",
       "    </tr>\n",
       "  </tbody>\n",
       "</table>\n",
       "</div>"
      ],
      "text/plain": [
       "      Company  year  Number_of_rides        Profit  Profit_per_ride\n",
       "0    Pink Cab  2016            25080  1.713511e+06        68.321819\n",
       "1    Pink Cab  2017            30321  2.033655e+06        67.070839\n",
       "2    Pink Cab  2018            29310  1.560162e+06        53.229689\n",
       "3  Yellow Cab  2016            82239  1.392700e+07       169.347821\n",
       "4  Yellow Cab  2017            98189  1.657598e+07       168.817057\n",
       "5  Yellow Cab  2018            94253  1.351740e+07       143.416122"
      ]
     },
     "execution_count": 124,
     "metadata": {},
     "output_type": "execute_result"
    }
   ],
   "source": [
    "# Calculating the profit per ride for both companies considering the years 2016, 2017, 2018\n",
    "total_profit_per_ride_company_year[\"Profit_per_ride\"] = total_profit_per_ride_company_year[\"Profit\"] / total_profit_per_ride_company_year[\"Number_of_rides\"]\n",
    "total_profit_per_ride_company_year"
   ]
  },
  {
   "cell_type": "markdown",
   "id": "d184e82c",
   "metadata": {},
   "source": [
    "According to the previous analysis, it is clear that both companies increased their profit from 2016 to 2017, however there was a decrease from 2017 to 2018, reaching a lower profit amount in 2018 compared to 2016 as well."
   ]
  },
  {
   "cell_type": "markdown",
   "id": "35f0b9d4",
   "metadata": {},
   "source": [
    "#### Is there a correlation between users income and the total amount spend with cab?"
   ]
  },
  {
   "cell_type": "code",
   "execution_count": 125,
   "id": "b44fc6fd",
   "metadata": {},
   "outputs": [
    {
     "data": {
      "text/plain": [
       "Index(['Transaction ID', 'Date of Travel', 'Holiday', 'Company',\n",
       "       'KM Travelled', 'Price Charged', 'Cost of Trip', 'Profit', 'City',\n",
       "       'User_prop', 'Customer ID', 'Gender', 'Age', 'Income (USD/Month)',\n",
       "       'Payment_Mode', 'Profit_dist', 'year', 'month', 'day', 'day_of_week'],\n",
       "      dtype='object')"
      ]
     },
     "execution_count": 125,
     "metadata": {},
     "output_type": "execute_result"
    }
   ],
   "source": [
    "df.columns"
   ]
  },
  {
   "cell_type": "code",
   "execution_count": 126,
   "id": "53606af9",
   "metadata": {},
   "outputs": [],
   "source": [
    "# Calculating customer income and customer total spend with cab\n",
    "customer_income = df.groupby(\"Customer ID\").mean()[[\"Income (USD/Month)\"]]\n",
    "customer_total_spend = df.groupby(\"Customer ID\").sum()[[\"Price Charged\"]]"
   ]
  },
  {
   "cell_type": "code",
   "execution_count": 127,
   "id": "ea2509f8",
   "metadata": {},
   "outputs": [
    {
     "data": {
      "text/plain": [
       "Customer ID\n",
       "1        16359.0\n",
       "10       12768.0\n",
       "100      15913.0\n",
       "1000     24953.0\n",
       "10000    12592.0\n",
       "          ...   \n",
       "9994     32961.0\n",
       "9996     21618.0\n",
       "9997      5371.0\n",
       "9998      7634.0\n",
       "9999     19950.0\n",
       "Name: Income (USD/Month), Length: 46148, dtype: float64"
      ]
     },
     "execution_count": 127,
     "metadata": {},
     "output_type": "execute_result"
    }
   ],
   "source": [
    "customer_income[\"Income (USD/Month)\"]"
   ]
  },
  {
   "cell_type": "code",
   "execution_count": 128,
   "id": "7f0e7f2a",
   "metadata": {},
   "outputs": [
    {
     "data": {
      "text/plain": [
       "Customer ID\n",
       "1        17490.13\n",
       "10       12907.73\n",
       "100      23595.49\n",
       "1000     16894.92\n",
       "10000      963.07\n",
       "           ...   \n",
       "9994       778.05\n",
       "9996      1589.24\n",
       "9997       930.09\n",
       "9998      1494.41\n",
       "9999       412.90\n",
       "Name: Price Charged, Length: 46148, dtype: float64"
      ]
     },
     "execution_count": 128,
     "metadata": {},
     "output_type": "execute_result"
    }
   ],
   "source": [
    "customer_total_spend[\"Price Charged\"]"
   ]
  },
  {
   "cell_type": "code",
   "execution_count": 129,
   "id": "a50f880f",
   "metadata": {},
   "outputs": [
    {
     "data": {
      "image/png": "[encoded data removed]",
      "text/plain": [
       "<Figure size 1008x576 with 1 Axes>"
      ]
     },
     "metadata": {
      "needs_background": "light"
     },
     "output_type": "display_data"
    }
   ],
   "source": [
    "# Ploting a scatterplot to visualize the correlation between user's income and total amount spend\n",
    "fig = plt.figure(figsize=[14,8])\n",
    "plt.scatter(customer_income[\"Income (USD/Month)\"], customer_total_spend[\"Price Charged\"])\n",
    "\n",
    "m, b = np.polyfit(customer_income[\"Income (USD/Month)\"], customer_total_spend[\"Price Charged\"], 1)\n",
    "plt.plot(customer_income[\"Income (USD/Month)\"].values, m*customer_income[\"Income (USD/Month)\"]+b, color=\"black\")\n",
    "\n",
    "plt.show()"
   ]
  },
  {
   "cell_type": "code",
   "execution_count": 130,
   "id": "91600faf",
   "metadata": {},
   "outputs": [
    {
     "data": {
      "text/plain": [
       "(0.005799635532300993, 0.21281601900560698)"
      ]
     },
     "execution_count": 130,
     "metadata": {},
     "output_type": "execute_result"
    }
   ],
   "source": [
    "# calculation correlation coefficient and p-value between distance and cost of trip\n",
    "pearsonr(customer_income[\"Income (USD/Month)\"], customer_total_spend[\"Price Charged\"])"
   ]
  },
  {
   "cell_type": "markdown",
   "id": "ef5ec932",
   "metadata": {},
   "source": [
    "According to the scatter plot and the hypothesis test, there is no correlation between the customer's income and the total amount spend per customer."
   ]
  },
  {
   "cell_type": "markdown",
   "id": "991bd327",
   "metadata": {},
   "source": [
    "#### Which days of the week are more rides for both companies?"
   ]
  },
  {
   "cell_type": "code",
   "execution_count": 131,
   "id": "484991d3",
   "metadata": {},
   "outputs": [],
   "source": [
    "# Creating a new dataframe for the number of rides per weekday with the grouped company\n",
    "df_weekday = df.groupby([\"Company\", \"day_of_week\"]).count()[\"day\"].reset_index()"
   ]
  },
  {
   "cell_type": "code",
   "execution_count": 132,
   "id": "b2b4059b",
   "metadata": {},
   "outputs": [],
   "source": [
    "# Creating a new column to help ordering the weekdays from Monday to Sunday and ordering the dataframe accordingly\n",
    "df_weekday[\"order\"] = [5,1,6,7,4,2,3,12,8,13,14,11,9,10]\n",
    "df_weekday = df_weekday.sort_values(\"order\")"
   ]
  },
  {
   "cell_type": "code",
   "execution_count": 133,
   "id": "abb718f4",
   "metadata": {},
   "outputs": [
    {
     "data": {
      "image/png": "[encoded data removed]",
      "text/plain": [
       "<Figure size 1008x576 with 1 Axes>"
      ]
     },
     "metadata": {
      "needs_background": "light"
     },
     "output_type": "display_data"
    }
   ],
   "source": [
    "# Plotting the number of rides per week days starting from Monday to Sunday\n",
    "fig = plt.figure(figsize=[14,8])\n",
    "\n",
    "barWidth = 0.25\n",
    " \n",
    "bars1 = list(df_weekday[df_weekday[\"Company\"] == \"Yellow Cab\"][\"day\"])\n",
    "bars2 = list(df_weekday[df_weekday[\"Company\"] == \"Pink Cab\"][\"day\"])\n",
    " \n",
    "r1 = np.arange(len(bars1))\n",
    "r2 = [x + barWidth for x in r1]\n",
    " \n",
    "plt.bar(r1, bars1, color='#E6B400', width=barWidth, edgecolor='white', label='Yellow Cab', alpha=0.6)\n",
    "plt.bar(r2, bars2, color='#F8C8DC', width=barWidth, edgecolor='white', label='Pink Cab')\n",
    " \n",
    "plt.xlabel('Week days', fontweight='bold')\n",
    "plt.xticks([r + barWidth for r in range(len(bars1))], list(df_weekday[df_weekday[\"Company\"] == \"Pink Cab\"][\"day_of_week\"]))\n",
    "\n",
    "plt.legend()\n",
    "plt.show()"
   ]
  },
  {
   "cell_type": "markdown",
   "id": "4a802927",
   "metadata": {},
   "source": [
    "#### Which days of the week are more profitable for both companies?"
   ]
  },
  {
   "cell_type": "code",
   "execution_count": 134,
   "id": "4937ad75",
   "metadata": {},
   "outputs": [],
   "source": [
    "# Creating a new dataframe for the profit per weekday with the grouped company\n",
    "total_profit_weekdays = df.groupby([\"Company\", \"day_of_week\"]).sum()[[\"Profit\"]].reset_index()"
   ]
  },
  {
   "cell_type": "code",
   "execution_count": 135,
   "id": "f752d1a2",
   "metadata": {},
   "outputs": [],
   "source": [
    "# Creating a new column to help ordering the weekdays from Monday to Sunday and ordering the dataframe accordingly\n",
    "total_profit_weekdays[\"order\"] = [5,1,6,7,4,2,3,12,8,13,14,11,9,10]\n",
    "total_profit_weekdays = total_profit_weekdays.sort_values(\"order\")"
   ]
  },
  {
   "cell_type": "code",
   "execution_count": 136,
   "id": "defc8685",
   "metadata": {},
   "outputs": [
    {
     "data": {
      "image/png": "[encoded data removed]",
      "text/plain": [
       "<Figure size 1008x576 with 1 Axes>"
      ]
     },
     "metadata": {
      "needs_background": "light"
     },
     "output_type": "display_data"
    }
   ],
   "source": [
    "# Plotting the profit per week days starting from Monday to Sunday\n",
    "fig = plt.figure(figsize=[14,8])\n",
    "\n",
    "barWidth = 0.25\n",
    " \n",
    "bars1 = list(total_profit_weekdays[total_profit_weekdays[\"Company\"] == \"Yellow Cab\"][\"Profit\"])\n",
    "bars2 = list(total_profit_weekdays[total_profit_weekdays[\"Company\"] == \"Pink Cab\"][\"Profit\"])\n",
    " \n",
    "r1 = np.arange(len(bars1))\n",
    "r2 = [x + barWidth for x in r1]\n",
    " \n",
    "plt.bar(r1, bars1, color='#E6B400', width=barWidth, edgecolor='white', label='Yellow Cab', alpha=0.6)\n",
    "plt.bar(r2, bars2, color='#F8C8DC', width=barWidth, edgecolor='white', label='Pink Cab')\n",
    " \n",
    "plt.xlabel('Week days', fontweight='bold')\n",
    "plt.xticks([r + barWidth for r in range(len(bars1))], list(total_profit_weekdays[total_profit_weekdays[\"Company\"] == \"Pink Cab\"][\"day_of_week\"]))\n",
    "\n",
    "plt.legend()\n",
    "plt.show()"
   ]
  },
  {
   "cell_type": "markdown",
   "id": "998bd4a4",
   "metadata": {},
   "source": [
    "In both analysis carried out above, a similar pattern was presented for the number of rides and the profit made by each company during the weekdays along the years 2016, 2017, 2018.Most of the trips happened at Friday, followed by Saturday and Sunday for both companies. However, the Yellow Cab company did much more rides than the Pink Cab, and therefore, the profit for the Yellow Cab company was much higher than the Pink Cab profit as well."
   ]
  },
  {
   "cell_type": "markdown",
   "id": "e0b602c0",
   "metadata": {},
   "source": [
    "#### What is the monthly mean number of travels per company?"
   ]
  },
  {
   "cell_type": "code",
   "execution_count": 212,
   "id": "29fcb117",
   "metadata": {},
   "outputs": [
    {
     "data": {
      "text/plain": [
       "11568"
      ]
     },
     "execution_count": 212,
     "metadata": {},
     "output_type": "execute_result"
    }
   ],
   "source": [
    "number_trips_per_month[number_trips_per_month[\"Company\"] == \"Pink Cab\"][\"day\"].max()"
   ]
  },
  {
   "cell_type": "code",
   "execution_count": 137,
   "id": "d8923acf",
   "metadata": {},
   "outputs": [],
   "source": [
    "# Creatingn a dataframe for the number of trips per month\n",
    "number_trips_per_month = df.groupby([\"Company\", \"month\"]).count()[[\"day\"]].reset_index()"
   ]
  },
  {
   "cell_type": "code",
   "execution_count": 138,
   "id": "686a75bc",
   "metadata": {},
   "outputs": [
    {
     "data": {
      "image/png": "[encoded data removed]",
      "text/plain": [
       "<Figure size 1008x576 with 1 Axes>"
      ]
     },
     "metadata": {
      "needs_background": "light"
     },
     "output_type": "display_data"
    }
   ],
   "source": [
    "# Plotting the number of rides per month\n",
    "fig = plt.figure(figsize=[14,8])\n",
    "\n",
    "barWidth = 0.25\n",
    " \n",
    "bars1 = list(number_trips_per_month[number_trips_per_month[\"Company\"] == \"Yellow Cab\"][\"day\"])\n",
    "bars2 = list(number_trips_per_month[number_trips_per_month[\"Company\"] == \"Pink Cab\"][\"day\"])\n",
    " \n",
    "r1 = np.arange(len(bars1))\n",
    "r2 = [x + barWidth for x in r1]\n",
    " \n",
    "plt.bar(r1, bars1, color='#E6B400', width=barWidth, edgecolor='white', label='Yellow Cab', alpha=0.6)\n",
    "plt.bar(r2, bars2, color='#F8C8DC', width=barWidth, edgecolor='white', label='Pink Cab')\n",
    " \n",
    "plt.xlabel('Month', fontweight='bold')\n",
    "plt.xticks([r + barWidth for r in range(len(bars1))], list(number_trips_per_month[number_trips_per_month[\"Company\"] == \"Pink Cab\"][\"month\"]))\n",
    "\n",
    "plt.legend()\n",
    "plt.show()"
   ]
  },
  {
   "cell_type": "markdown",
   "id": "a8e5d8ee",
   "metadata": {},
   "source": [
    "The graph above shows that most of the rides happened in the last months of the year for both companies with an increase in the number of rides from July to December. The number of rides for the Yellow Cab company was always much higher compared to the Pink Cab."
   ]
  },
  {
   "cell_type": "markdown",
   "id": "bb05cc5e",
   "metadata": {},
   "source": [
    "#### What is the monthly profit for both companies?"
   ]
  },
  {
   "cell_type": "code",
   "execution_count": 139,
   "id": "975bf565",
   "metadata": {},
   "outputs": [],
   "source": [
    "# Creatingn a dataframe for the total profit per month\n",
    "total_profit_per_month = df.groupby([\"Company\", \"month\"]).sum()[[\"Profit\"]].reset_index()"
   ]
  },
  {
   "cell_type": "code",
   "execution_count": 140,
   "id": "c254ad66",
   "metadata": {},
   "outputs": [
    {
     "data": {
      "image/png": "[encoded data removed]",
      "text/plain": [
       "<Figure size 1008x576 with 1 Axes>"
      ]
     },
     "metadata": {
      "needs_background": "light"
     },
     "output_type": "display_data"
    }
   ],
   "source": [
    "# Plotting the profit per month for both companies\n",
    "fig = plt.figure(figsize=[14,8])\n",
    "\n",
    "barWidth = 0.25\n",
    " \n",
    "bars1 = list(total_profit_per_month[total_profit_per_month[\"Company\"] == \"Yellow Cab\"][\"Profit\"])\n",
    "bars2 = list(total_profit_per_month[total_profit_per_month[\"Company\"] == \"Pink Cab\"][\"Profit\"])\n",
    " \n",
    "r1 = np.arange(len(bars1))\n",
    "r2 = [x + barWidth for x in r1]\n",
    " \n",
    "plt.bar(r1, bars1, color='#E6B400', width=barWidth, edgecolor='white', label='Yellow Cab', alpha=0.6)\n",
    "plt.bar(r2, bars2, color='#F8C8DC', width=barWidth, edgecolor='white', label='Pink Cab')\n",
    " \n",
    "plt.xlabel('Month', fontweight='bold')\n",
    "plt.xticks([r + barWidth for r in range(len(bars1))], list(total_profit_per_month[total_profit_per_month[\"Company\"] == \"Pink Cab\"][\"month\"]))\n",
    "\n",
    "plt.legend()\n",
    "plt.show()"
   ]
  },
  {
   "cell_type": "markdown",
   "id": "b241d591",
   "metadata": {},
   "source": [
    "Although the pattern of the number of rides did not exactly reflected the profit pather for these companies, it is clear that in the last months of the year, the profit of these companies were much higher compared to other months, especially for the Pink Cab company. The Yellow cab presented a very high profit in the months of May and June, and in fact, the Yellow Cab kept a good average in all the months throught the year."
   ]
  },
  {
   "cell_type": "markdown",
   "id": "7d0ea234",
   "metadata": {},
   "source": [
    "#### What is the yearly profit for both companies?"
   ]
  },
  {
   "cell_type": "code",
   "execution_count": 141,
   "id": "a7fa5347",
   "metadata": {},
   "outputs": [],
   "source": [
    "# Creating a new dataframe for the total annual profit for both companies\n",
    "total_profit_annual = df.groupby([\"Company\", \"year\"]).sum()[\"Profit\"].reset_index()"
   ]
  },
  {
   "cell_type": "code",
   "execution_count": 142,
   "id": "2d8eda6e",
   "metadata": {},
   "outputs": [
    {
     "data": {
      "image/png": "[encoded data removed]",
      "text/plain": [
       "<Figure size 1008x576 with 1 Axes>"
      ]
     },
     "metadata": {
      "needs_background": "light"
     },
     "output_type": "display_data"
    }
   ],
   "source": [
    "# Plotting the profit per month for both companies\n",
    "fig = plt.figure(figsize=[14,8])\n",
    "\n",
    "barWidth = 0.25\n",
    " \n",
    "bars1 = list(total_profit_annual[total_profit_annual[\"Company\"] == \"Yellow Cab\"][\"Profit\"])\n",
    "bars2 = list(total_profit_annual[total_profit_annual[\"Company\"] == \"Pink Cab\"][\"Profit\"])\n",
    " \n",
    "r1 = np.arange(len(bars1))\n",
    "r2 = [x + barWidth for x in r1]\n",
    " \n",
    "plt.bar(r1, bars1, color='#E6B400', width=barWidth, edgecolor='white', label='Yellow Cab', alpha=0.6)\n",
    "plt.bar(r2, bars2, color='#F8C8DC', width=barWidth, edgecolor='white', label='Pink Cab')\n",
    " \n",
    "plt.xlabel('Year', fontweight='bold')\n",
    "plt.xticks([r + barWidth for r in range(len(bars1))], list(total_profit_annual[total_profit_annual[\"Company\"] == \"Pink Cab\"][\"year\"]))\n",
    "\n",
    "plt.legend()\n",
    "plt.show()"
   ]
  },
  {
   "cell_type": "markdown",
   "id": "63d4d4de",
   "metadata": {},
   "source": [
    "In the yearly analysis, it was observed that the profit increased from 2016 to 2017 for both companies, but it decreased from 2017 to 2018."
   ]
  },
  {
   "cell_type": "markdown",
   "id": "10c4f08f",
   "metadata": {},
   "source": [
    "#### What are the attributes of these customer segments?"
   ]
  },
  {
   "cell_type": "code",
   "execution_count": 143,
   "id": "0ba5344e",
   "metadata": {},
   "outputs": [
    {
     "data": {
      "text/html": [
       "<div>\n",
       "<style scoped>\n",
       "    .dataframe tbody tr th:only-of-type {\n",
       "        vertical-align: middle;\n",
       "    }\n",
       "\n",
       "    .dataframe tbody tr th {\n",
       "        vertical-align: top;\n",
       "    }\n",
       "\n",
       "    .dataframe thead th {\n",
       "        text-align: right;\n",
       "    }\n",
       "</style>\n",
       "<table border=\"1\" class=\"dataframe\">\n",
       "  <thead>\n",
       "    <tr style=\"text-align: right;\">\n",
       "      <th></th>\n",
       "      <th>index</th>\n",
       "      <th>Customer ID</th>\n",
       "      <th>Gender</th>\n",
       "      <th>Age</th>\n",
       "      <th>Income (USD/Month)</th>\n",
       "    </tr>\n",
       "  </thead>\n",
       "  <tbody>\n",
       "    <tr>\n",
       "      <th>0</th>\n",
       "      <td>0</td>\n",
       "      <td>29290</td>\n",
       "      <td>Male</td>\n",
       "      <td>28</td>\n",
       "      <td>10813.0</td>\n",
       "    </tr>\n",
       "    <tr>\n",
       "      <th>1</th>\n",
       "      <td>1</td>\n",
       "      <td>29009</td>\n",
       "      <td>Male</td>\n",
       "      <td>28</td>\n",
       "      <td>15771.0</td>\n",
       "    </tr>\n",
       "    <tr>\n",
       "      <th>2</th>\n",
       "      <td>2</td>\n",
       "      <td>59372</td>\n",
       "      <td>Male</td>\n",
       "      <td>53</td>\n",
       "      <td>4912.0</td>\n",
       "    </tr>\n",
       "    <tr>\n",
       "      <th>3</th>\n",
       "      <td>3</td>\n",
       "      <td>58346</td>\n",
       "      <td>Male</td>\n",
       "      <td>27</td>\n",
       "      <td>21650.0</td>\n",
       "    </tr>\n",
       "    <tr>\n",
       "      <th>4</th>\n",
       "      <td>4</td>\n",
       "      <td>57102</td>\n",
       "      <td>Male</td>\n",
       "      <td>32</td>\n",
       "      <td>17384.0</td>\n",
       "    </tr>\n",
       "  </tbody>\n",
       "</table>\n",
       "</div>"
      ],
      "text/plain": [
       "   index Customer ID Gender  Age  Income (USD/Month)\n",
       "0      0       29290   Male   28             10813.0\n",
       "1      1       29009   Male   28             15771.0\n",
       "2      2       59372   Male   53              4912.0\n",
       "3      3       58346   Male   27             21650.0\n",
       "4      4       57102   Male   32             17384.0"
      ]
     },
     "execution_count": 143,
     "metadata": {},
     "output_type": "execute_result"
    }
   ],
   "source": [
    "# Creating a new dataframe to hold only the customers attributes and remove duplicates\n",
    "customers_att = df[[\"Customer ID\", \"Gender\", \"Age\", \"Income (USD/Month)\"]]\n",
    "customers_att = customers_att[customers_att.duplicated() == False].reset_index()\n",
    "customers_att.head()"
   ]
  },
  {
   "cell_type": "code",
   "execution_count": 144,
   "id": "6f448e29",
   "metadata": {},
   "outputs": [
    {
     "data": {
      "text/html": [
       "<div>\n",
       "<style scoped>\n",
       "    .dataframe tbody tr th:only-of-type {\n",
       "        vertical-align: middle;\n",
       "    }\n",
       "\n",
       "    .dataframe tbody tr th {\n",
       "        vertical-align: top;\n",
       "    }\n",
       "\n",
       "    .dataframe thead th {\n",
       "        text-align: right;\n",
       "    }\n",
       "</style>\n",
       "<table border=\"1\" class=\"dataframe\">\n",
       "  <thead>\n",
       "    <tr style=\"text-align: right;\">\n",
       "      <th></th>\n",
       "      <th>Gender</th>\n",
       "      <th>Customer ID</th>\n",
       "    </tr>\n",
       "  </thead>\n",
       "  <tbody>\n",
       "    <tr>\n",
       "      <th>0</th>\n",
       "      <td>Female</td>\n",
       "      <td>21473</td>\n",
       "    </tr>\n",
       "    <tr>\n",
       "      <th>1</th>\n",
       "      <td>Male</td>\n",
       "      <td>24675</td>\n",
       "    </tr>\n",
       "  </tbody>\n",
       "</table>\n",
       "</div>"
      ],
      "text/plain": [
       "   Gender  Customer ID\n",
       "0  Female        21473\n",
       "1    Male        24675"
      ]
     },
     "execution_count": 144,
     "metadata": {},
     "output_type": "execute_result"
    }
   ],
   "source": [
    "# Counting the number of male and female customers\n",
    "customers_att.groupby(\"Gender\").count()[[\"Customer ID\"]].reset_index()"
   ]
  },
  {
   "cell_type": "code",
   "execution_count": 145,
   "id": "f42bddc1",
   "metadata": {},
   "outputs": [
    {
     "data": {
      "text/html": [
       "<div>\n",
       "<style scoped>\n",
       "    .dataframe tbody tr th:only-of-type {\n",
       "        vertical-align: middle;\n",
       "    }\n",
       "\n",
       "    .dataframe tbody tr th {\n",
       "        vertical-align: top;\n",
       "    }\n",
       "\n",
       "    .dataframe thead th {\n",
       "        text-align: right;\n",
       "    }\n",
       "</style>\n",
       "<table border=\"1\" class=\"dataframe\">\n",
       "  <thead>\n",
       "    <tr style=\"text-align: right;\">\n",
       "      <th></th>\n",
       "      <th>Gender</th>\n",
       "      <th>Age</th>\n",
       "    </tr>\n",
       "  </thead>\n",
       "  <tbody>\n",
       "    <tr>\n",
       "      <th>0</th>\n",
       "      <td>Female</td>\n",
       "      <td>35.290551</td>\n",
       "    </tr>\n",
       "    <tr>\n",
       "      <th>1</th>\n",
       "      <td>Male</td>\n",
       "      <td>35.417629</td>\n",
       "    </tr>\n",
       "  </tbody>\n",
       "</table>\n",
       "</div>"
      ],
      "text/plain": [
       "   Gender        Age\n",
       "0  Female  35.290551\n",
       "1    Male  35.417629"
      ]
     },
     "execution_count": 145,
     "metadata": {},
     "output_type": "execute_result"
    }
   ],
   "source": [
    "# Calculating the mean age for both genders\n",
    "customers_att.groupby(\"Gender\").mean()[[\"Age\"]].reset_index()"
   ]
  },
  {
   "cell_type": "code",
   "execution_count": 146,
   "id": "335ad6a9",
   "metadata": {
    "scrolled": true
   },
   "outputs": [
    {
     "name": "stdout",
     "output_type": "stream",
     "text": [
      "Minimum age: 18\n",
      "Maximum age: 65\n"
     ]
    }
   ],
   "source": [
    "# checking the max and min for the ages of customers\n",
    "print(\"Minimum age:\", customers_att[\"Age\"].min())\n",
    "print(\"Maximum age:\", customers_att[\"Age\"].max())"
   ]
  },
  {
   "cell_type": "code",
   "execution_count": 147,
   "id": "ab875d26",
   "metadata": {},
   "outputs": [
    {
     "name": "stderr",
     "output_type": "stream",
     "text": [
      "/var/folders/58/kj5bg3yx2rx5gs82k21jmk180000gn/T/ipykernel_64703/3033151277.py:7: SettingWithCopyWarning: \n",
      "A value is trying to be set on a copy of a slice from a DataFrame\n",
      "\n",
      "See the caveats in the documentation: https://pandas.pydata.org/pandas-docs/stable/user_guide/indexing.html#returning-a-view-versus-a-copy\n",
      "  customers_att[\"Age_groups\"].iloc[i] = \"26-35\"\n"
     ]
    }
   ],
   "source": [
    "# Creating a categorical variable for different ranges of age\n",
    "customers_att[\"Age_groups\"] = 0\n",
    "for i in range(len(customers_att[\"Age\"])):\n",
    "    if customers_att[\"Age\"].iloc[i] >= 18 and customers_att[\"Age\"].iloc[i] <= 25:\n",
    "        customers_att[\"Age_groups\"].iloc[i] = \"18-25\"\n",
    "    elif customers_att[\"Age\"].iloc[i] > 25 and customers_att[\"Age\"].iloc[i] <= 35:\n",
    "        customers_att[\"Age_groups\"].iloc[i] = \"26-35\"\n",
    "    elif customers_att[\"Age\"].iloc[i] > 35 and customers_att[\"Age\"].iloc[i] <= 45:\n",
    "        customers_att[\"Age_groups\"].iloc[i] = \"36-45\"\n",
    "    elif customers_att[\"Age\"].iloc[i] > 45 and customers_att[\"Age\"].iloc[i] <= 55:\n",
    "        customers_att[\"Age_groups\"].iloc[i] = \"46-55\"\n",
    "    elif customers_att[\"Age\"].iloc[i] > 55:\n",
    "        customers_att[\"Age_groups\"].iloc[i] = \"56-65\""
   ]
  },
  {
   "cell_type": "code",
   "execution_count": 148,
   "id": "e233ee05",
   "metadata": {},
   "outputs": [],
   "source": [
    "# Creating a new data-set for the groups of age\n",
    "plot_data_age_group = customers_att.groupby(\"Age_groups\").count()[\"Age\"]"
   ]
  },
  {
   "cell_type": "code",
   "execution_count": 149,
   "id": "2053fee7",
   "metadata": {},
   "outputs": [
    {
     "data": {
      "image/png": "[encoded data removed]",
      "text/plain": [
       "<Figure size 1008x576 with 1 Axes>"
      ]
     },
     "metadata": {
      "needs_background": "light"
     },
     "output_type": "display_data"
    }
   ],
   "source": [
    "# Ploting the age_group variable\n",
    "fig = plt.figure(figsize=[14,8])\n",
    "\n",
    "plt.bar(plot_data_age_group.index, plot_data_age_group.values)\n",
    "plt.show()"
   ]
  },
  {
   "cell_type": "code",
   "execution_count": 150,
   "id": "938df338",
   "metadata": {},
   "outputs": [
    {
     "data": {
      "text/html": [
       "<div>\n",
       "<style scoped>\n",
       "    .dataframe tbody tr th:only-of-type {\n",
       "        vertical-align: middle;\n",
       "    }\n",
       "\n",
       "    .dataframe tbody tr th {\n",
       "        vertical-align: top;\n",
       "    }\n",
       "\n",
       "    .dataframe thead th {\n",
       "        text-align: right;\n",
       "    }\n",
       "</style>\n",
       "<table border=\"1\" class=\"dataframe\">\n",
       "  <thead>\n",
       "    <tr style=\"text-align: right;\">\n",
       "      <th></th>\n",
       "      <th>Gender</th>\n",
       "      <th>Income (USD/Month)</th>\n",
       "    </tr>\n",
       "  </thead>\n",
       "  <tbody>\n",
       "    <tr>\n",
       "      <th>0</th>\n",
       "      <td>Female</td>\n",
       "      <td>14956.258138</td>\n",
       "    </tr>\n",
       "    <tr>\n",
       "      <th>1</th>\n",
       "      <td>Male</td>\n",
       "      <td>15034.070355</td>\n",
       "    </tr>\n",
       "  </tbody>\n",
       "</table>\n",
       "</div>"
      ],
      "text/plain": [
       "   Gender  Income (USD/Month)\n",
       "0  Female        14956.258138\n",
       "1    Male        15034.070355"
      ]
     },
     "execution_count": 150,
     "metadata": {},
     "output_type": "execute_result"
    }
   ],
   "source": [
    "# Calculating the mean income for both genders\n",
    "customers_att.groupby(\"Gender\").mean()[[\"Income (USD/Month)\"]].reset_index()"
   ]
  },
  {
   "cell_type": "code",
   "execution_count": 151,
   "id": "25a0d812",
   "metadata": {
    "scrolled": true
   },
   "outputs": [
    {
     "name": "stdout",
     "output_type": "stream",
     "text": [
      "Minimum income: 2000.0\n",
      "Maximum income: 35000.0\n"
     ]
    }
   ],
   "source": [
    "# Checking the min and max for the customers' income\n",
    "print(\"Minimum income:\", customers_att[\"Income (USD/Month)\"].min())\n",
    "print(\"Maximum income:\", customers_att[\"Income (USD/Month)\"].max())"
   ]
  },
  {
   "cell_type": "code",
   "execution_count": 152,
   "id": "ad9f0ffa",
   "metadata": {},
   "outputs": [
    {
     "name": "stderr",
     "output_type": "stream",
     "text": [
      "/var/folders/58/kj5bg3yx2rx5gs82k21jmk180000gn/T/ipykernel_64703/3209475143.py:7: SettingWithCopyWarning: \n",
      "A value is trying to be set on a copy of a slice from a DataFrame\n",
      "\n",
      "See the caveats in the documentation: https://pandas.pydata.org/pandas-docs/stable/user_guide/indexing.html#returning-a-view-versus-a-copy\n",
      "  customers_att[\"Income_groups\"].iloc[i] = \"7,001-12,000\"\n"
     ]
    }
   ],
   "source": [
    "# Creating a categorical variable for different ranges of income\n",
    "customers_att[\"Income_groups\"] = 0\n",
    "for i in range(len(customers_att[\"Income (USD/Month)\"])):\n",
    "    if customers_att[\"Income (USD/Month)\"].iloc[i] >= 2000 and customers_att[\"Income (USD/Month)\"].iloc[i] <= 7000:\n",
    "        customers_att[\"Income_groups\"].iloc[i] = \"2,000-7,000\"\n",
    "    elif customers_att[\"Income (USD/Month)\"].iloc[i] > 7000 and customers_att[\"Income (USD/Month)\"].iloc[i] <= 12000:\n",
    "        customers_att[\"Income_groups\"].iloc[i] = \"7,001-12,000\"\n",
    "    elif customers_att[\"Income (USD/Month)\"].iloc[i] > 12000 and customers_att[\"Income (USD/Month)\"].iloc[i] <= 17000:\n",
    "        customers_att[\"Income_groups\"].iloc[i] = \"12,001-17,000\"\n",
    "    elif customers_att[\"Income (USD/Month)\"].iloc[i] > 17000 and customers_att[\"Income (USD/Month)\"].iloc[i] <= 22000:\n",
    "        customers_att[\"Income_groups\"].iloc[i] = \"17,001-22,000\"\n",
    "    elif customers_att[\"Income (USD/Month)\"].iloc[i] > 22000 and customers_att[\"Income (USD/Month)\"].iloc[i] <= 27000:\n",
    "        customers_att[\"Income_groups\"].iloc[i] = \"22,001-27,000\"\n",
    "    elif customers_att[\"Income (USD/Month)\"].iloc[i] > 27000:\n",
    "        customers_att[\"Income_groups\"].iloc[i] = \"27,001-35,000\""
   ]
  },
  {
   "cell_type": "code",
   "execution_count": 153,
   "id": "e1d1de3a",
   "metadata": {},
   "outputs": [],
   "source": [
    "# Creating a new dataframe for the groups of income and ordering it\n",
    "plot_data_income_group = customers_att.groupby(\"Income_groups\").count()[[\"Age\"]]\n",
    "plot_data_income_group[\"order\"] = [3, 4, 1, 5, 6, 2]\n",
    "plot_data_income_group = plot_data_income_group.sort_values(\"order\")"
   ]
  },
  {
   "cell_type": "code",
   "execution_count": 154,
   "id": "ea413511",
   "metadata": {},
   "outputs": [
    {
     "data": {
      "image/png": "[encoded data removed]",
      "text/plain": [
       "<Figure size 1008x576 with 1 Axes>"
      ]
     },
     "metadata": {
      "needs_background": "light"
     },
     "output_type": "display_data"
    }
   ],
   "source": [
    "# Ploting the income_group variable\n",
    "fig = plt.figure(figsize=[14,8])\n",
    "\n",
    "plt.bar(plot_data_income_group.index, plot_data_income_group[\"Age\"])\n",
    "plt.show()"
   ]
  },
  {
   "cell_type": "markdown",
   "id": "70429d4e",
   "metadata": {},
   "source": [
    "As presented in the analysis above, there are slightly higher number of customers that belongs to the male gender compared to the female. Moreover, it was also observed that the mean age and the mean income for both gender seem to be very similar, not showing any visual difference.\n",
    "\n",
    "In general (not considering gender differences), most of customers were aged between 18 and 45, with a slightly higher amount of customers in the age range between 26 and 35. With respect to the income, it was not observed a visual difference for all customers that presented an income between USD 2,000 to 22,000 per month. However, there is a decrease in the number of customers with an income higher than USD 22,000 per month, and even less customers with income higher than USD 27,000 per month."
   ]
  },
  {
   "cell_type": "markdown",
   "id": "b2ddc410",
   "metadata": {},
   "source": [
    "#### Is there any seasonality in number of customers using the cab service?"
   ]
  },
  {
   "cell_type": "markdown",
   "id": "cc24bdc0",
   "metadata": {},
   "source": [
    "This question was answered in previous analysis, where we checked the seasonality of transactions per month, year and day of week."
   ]
  },
  {
   "cell_type": "markdown",
   "id": "d4866304",
   "metadata": {},
   "source": [
    "#### Do customers present loyality to one or another company or they use both companies in general?"
   ]
  },
  {
   "cell_type": "code",
   "execution_count": 155,
   "id": "d3a48e8f",
   "metadata": {},
   "outputs": [],
   "source": [
    "Unique_customers_ride = df.groupby(\"Customer ID\").count()[[\"Transaction ID\"]]"
   ]
  },
  {
   "cell_type": "code",
   "execution_count": 156,
   "id": "8d2a75bc",
   "metadata": {},
   "outputs": [
    {
     "data": {
      "text/plain": [
       "46148"
      ]
     },
     "execution_count": 156,
     "metadata": {},
     "output_type": "execute_result"
    }
   ],
   "source": [
    "len(Unique_customers_ride)"
   ]
  },
  {
   "cell_type": "code",
   "execution_count": 157,
   "id": "31f829a2",
   "metadata": {},
   "outputs": [
    {
     "data": {
      "text/plain": [
       "11442"
      ]
     },
     "execution_count": 157,
     "metadata": {},
     "output_type": "execute_result"
    }
   ],
   "source": [
    "sum(Unique_customers_ride[\"Transaction ID\"] < 2)"
   ]
  },
  {
   "cell_type": "code",
   "execution_count": 158,
   "id": "ba1ae9ea",
   "metadata": {},
   "outputs": [
    {
     "data": {
      "text/plain": [
       "34706"
      ]
     },
     "execution_count": 158,
     "metadata": {},
     "output_type": "execute_result"
    }
   ],
   "source": [
    "sum(Unique_customers_ride[\"Transaction ID\"] > 1)"
   ]
  },
  {
   "cell_type": "markdown",
   "id": "8af1c9b6",
   "metadata": {},
   "source": [
    "11,442 (approximately 25%) customers out of 46,148 had only 1 ride, whereas 34,706 customers had more than a ride. Now, let's check if how many customers has been loyal to one or another company among the customers with more than 2 rides"
   ]
  },
  {
   "cell_type": "code",
   "execution_count": 159,
   "id": "92c0fa21",
   "metadata": {},
   "outputs": [],
   "source": [
    "a = df[[\"Company\", \"Customer ID\", \"Transaction ID\"]].groupby([\"Company\", \"Customer ID\"]).count().reset_index()"
   ]
  },
  {
   "cell_type": "code",
   "execution_count": 160,
   "id": "dd440f73",
   "metadata": {},
   "outputs": [
    {
     "data": {
      "text/plain": [
       "46148"
      ]
     },
     "execution_count": 160,
     "metadata": {},
     "output_type": "execute_result"
    }
   ],
   "source": [
    "len(a[\"Customer ID\"].unique())"
   ]
  },
  {
   "cell_type": "code",
   "execution_count": 161,
   "id": "97946860",
   "metadata": {},
   "outputs": [],
   "source": [
    "b = a[a[\"Company\"] == \"Pink Cab\"][[\"Customer ID\"]]\n",
    "c = a[a[\"Company\"] == \"Yellow Cab\"][[\"Customer ID\"]]\n",
    "\n",
    "d = b[\"Customer ID\"].unique()\n",
    "e = c[\"Customer ID\"].unique()"
   ]
  },
  {
   "cell_type": "code",
   "execution_count": 162,
   "id": "c986567a",
   "metadata": {},
   "outputs": [],
   "source": [
    "count = 0\n",
    "for i in e:\n",
    "    if i in d:\n",
    "        count += 1"
   ]
  },
  {
   "cell_type": "code",
   "execution_count": 163,
   "id": "3f4b052a",
   "metadata": {},
   "outputs": [
    {
     "name": "stdout",
     "output_type": "stream",
     "text": [
      "Number of customers that used both services (Pink and Yellow Cab): 26078\n",
      "Number of customers that only used the Pink Cab service: 6252\n",
      "Number of customers that only used the Yellow Cab service: 13818\n"
     ]
    }
   ],
   "source": [
    "print(\"Number of customers that used both services (Pink and Yellow Cab):\", count)\n",
    "print(\"Number of customers that only used the Pink Cab service:\", len(d)-count)\n",
    "print(\"Number of customers that only used the Yellow Cab service:\", len(e)-count)"
   ]
  },
  {
   "cell_type": "code",
   "execution_count": 164,
   "id": "b42432f4",
   "metadata": {},
   "outputs": [
    {
     "data": {
      "text/plain": [
       "46148"
      ]
     },
     "execution_count": 164,
     "metadata": {},
     "output_type": "execute_result"
    }
   ],
   "source": [
    "len(d)-count + len(e)-count + count"
   ]
  },
  {
   "cell_type": "markdown",
   "id": "8a5673b7",
   "metadata": {},
   "source": [
    "From 34,706 customers that had at least 2 rides, 26,078 used both services (approximately 75%), whereas the remaining 8,628 customers were loyal to one or another company"
   ]
  },
  {
   "cell_type": "markdown",
   "id": "5cf5eb1d",
   "metadata": {},
   "source": [
    "## Hyphotesis Test"
   ]
  },
  {
   "cell_type": "markdown",
   "id": "3aee0ec6",
   "metadata": {},
   "source": [
    "#### Test1 - Is there any difference in the mean profit per km for these companies?"
   ]
  },
  {
   "cell_type": "code",
   "execution_count": 165,
   "id": "2545b5b8",
   "metadata": {},
   "outputs": [
    {
     "data": {
      "text/plain": [
       "Company\n",
       "Pink Cab      2.769908\n",
       "Yellow Cab    7.105508\n",
       "Name: Profit_dist, dtype: float64"
      ]
     },
     "execution_count": 165,
     "metadata": {},
     "output_type": "execute_result"
    }
   ],
   "source": [
    "# The mean profit per km for both companies\n",
    "df.groupby(\"Company\").mean()[\"Profit_dist\"]"
   ]
  },
  {
   "cell_type": "markdown",
   "id": "7aa1f5c9",
   "metadata": {},
   "source": [
    "H0: There is no difference in the mean profit per km for companies Yellow Cab and Pink Cab.\n",
    "\n",
    "H1: The mean profit per km for company Yellow Cab is higher than the mean profit per km for Pink Cab."
   ]
  },
  {
   "cell_type": "code",
   "execution_count": 166,
   "id": "03f8ab58",
   "metadata": {},
   "outputs": [
    {
     "name": "stdout",
     "output_type": "stream",
     "text": [
      "T-statistic value:  -210.96861574553898\n",
      "P-Value:  0.0\n"
     ]
    }
   ],
   "source": [
    "from scipy import stats\n",
    "from scipy.stats import ttest_ind\n",
    "\n",
    "sample1 = df[df[\"Company\"] == \"Pink Cab\"][\"Profit_dist\"]\n",
    "sample2 = df[df[\"Company\"] == \"Yellow Cab\"][\"Profit_dist\"]\n",
    "\n",
    "t_stat, p_value = ttest_ind(sample1, sample2)\n",
    "print(\"T-statistic value: \", t_stat)  \n",
    "print(\"P-Value: \", p_value)"
   ]
  },
  {
   "cell_type": "markdown",
   "id": "f5fb9f2b",
   "metadata": {},
   "source": [
    "According to the 2-sample t-test results, considering a 0.05 significance level, we concluded that the mean profit per km for the Yellow Cab company is higher compared to the Pink Cab."
   ]
  },
  {
   "cell_type": "markdown",
   "id": "7f460402",
   "metadata": {},
   "source": [
    "#### Test2 - Is there any difference in the mean profit per customer for these companies?"
   ]
  },
  {
   "cell_type": "code",
   "execution_count": 167,
   "id": "fcd0b324",
   "metadata": {},
   "outputs": [
    {
     "data": {
      "text/html": [
       "<div>\n",
       "<style scoped>\n",
       "    .dataframe tbody tr th:only-of-type {\n",
       "        vertical-align: middle;\n",
       "    }\n",
       "\n",
       "    .dataframe tbody tr th {\n",
       "        vertical-align: top;\n",
       "    }\n",
       "\n",
       "    .dataframe thead th {\n",
       "        text-align: right;\n",
       "    }\n",
       "</style>\n",
       "<table border=\"1\" class=\"dataframe\">\n",
       "  <thead>\n",
       "    <tr style=\"text-align: right;\">\n",
       "      <th></th>\n",
       "      <th>Company</th>\n",
       "      <th>Customer ID</th>\n",
       "      <th>Profit</th>\n",
       "    </tr>\n",
       "  </thead>\n",
       "  <tbody>\n",
       "    <tr>\n",
       "      <th>0</th>\n",
       "      <td>Pink Cab</td>\n",
       "      <td>1</td>\n",
       "      <td>218.291000</td>\n",
       "    </tr>\n",
       "    <tr>\n",
       "      <th>1</th>\n",
       "      <td>Pink Cab</td>\n",
       "      <td>10</td>\n",
       "      <td>66.470000</td>\n",
       "    </tr>\n",
       "    <tr>\n",
       "      <th>2</th>\n",
       "      <td>Pink Cab</td>\n",
       "      <td>100</td>\n",
       "      <td>188.273750</td>\n",
       "    </tr>\n",
       "    <tr>\n",
       "      <th>3</th>\n",
       "      <td>Pink Cab</td>\n",
       "      <td>1000</td>\n",
       "      <td>154.964667</td>\n",
       "    </tr>\n",
       "    <tr>\n",
       "      <th>4</th>\n",
       "      <td>Pink Cab</td>\n",
       "      <td>10001</td>\n",
       "      <td>6.822000</td>\n",
       "    </tr>\n",
       "    <tr>\n",
       "      <th>...</th>\n",
       "      <td>...</td>\n",
       "      <td>...</td>\n",
       "      <td>...</td>\n",
       "    </tr>\n",
       "    <tr>\n",
       "      <th>72221</th>\n",
       "      <td>Yellow Cab</td>\n",
       "      <td>9994</td>\n",
       "      <td>84.971600</td>\n",
       "    </tr>\n",
       "    <tr>\n",
       "      <th>72222</th>\n",
       "      <td>Yellow Cab</td>\n",
       "      <td>9996</td>\n",
       "      <td>63.018700</td>\n",
       "    </tr>\n",
       "    <tr>\n",
       "      <th>72223</th>\n",
       "      <td>Yellow Cab</td>\n",
       "      <td>9997</td>\n",
       "      <td>81.553800</td>\n",
       "    </tr>\n",
       "    <tr>\n",
       "      <th>72224</th>\n",
       "      <td>Yellow Cab</td>\n",
       "      <td>9998</td>\n",
       "      <td>92.264667</td>\n",
       "    </tr>\n",
       "    <tr>\n",
       "      <th>72225</th>\n",
       "      <td>Yellow Cab</td>\n",
       "      <td>9999</td>\n",
       "      <td>132.848800</td>\n",
       "    </tr>\n",
       "  </tbody>\n",
       "</table>\n",
       "<p>72226 rows × 3 columns</p>\n",
       "</div>"
      ],
      "text/plain": [
       "          Company Customer ID      Profit\n",
       "0        Pink Cab           1  218.291000\n",
       "1        Pink Cab          10   66.470000\n",
       "2        Pink Cab         100  188.273750\n",
       "3        Pink Cab        1000  154.964667\n",
       "4        Pink Cab       10001    6.822000\n",
       "...           ...         ...         ...\n",
       "72221  Yellow Cab        9994   84.971600\n",
       "72222  Yellow Cab        9996   63.018700\n",
       "72223  Yellow Cab        9997   81.553800\n",
       "72224  Yellow Cab        9998   92.264667\n",
       "72225  Yellow Cab        9999  132.848800\n",
       "\n",
       "[72226 rows x 3 columns]"
      ]
     },
     "execution_count": 167,
     "metadata": {},
     "output_type": "execute_result"
    }
   ],
   "source": [
    "# The mean profit per km for both companies\n",
    "df2 = df.groupby([\"Company\", \"Customer ID\"]).mean()[\"Profit\"].reset_index()\n",
    "df2"
   ]
  },
  {
   "cell_type": "code",
   "execution_count": 168,
   "id": "bc8645a7",
   "metadata": {},
   "outputs": [
    {
     "data": {
      "text/html": [
       "<div>\n",
       "<style scoped>\n",
       "    .dataframe tbody tr th:only-of-type {\n",
       "        vertical-align: middle;\n",
       "    }\n",
       "\n",
       "    .dataframe tbody tr th {\n",
       "        vertical-align: top;\n",
       "    }\n",
       "\n",
       "    .dataframe thead th {\n",
       "        text-align: right;\n",
       "    }\n",
       "</style>\n",
       "<table border=\"1\" class=\"dataframe\">\n",
       "  <thead>\n",
       "    <tr style=\"text-align: right;\">\n",
       "      <th></th>\n",
       "      <th>Profit</th>\n",
       "    </tr>\n",
       "    <tr>\n",
       "      <th>Company</th>\n",
       "      <th></th>\n",
       "    </tr>\n",
       "  </thead>\n",
       "  <tbody>\n",
       "    <tr>\n",
       "      <th>Pink Cab</th>\n",
       "      <td>58.507889</td>\n",
       "    </tr>\n",
       "    <tr>\n",
       "      <th>Yellow Cab</th>\n",
       "      <td>129.373032</td>\n",
       "    </tr>\n",
       "  </tbody>\n",
       "</table>\n",
       "</div>"
      ],
      "text/plain": [
       "                Profit\n",
       "Company               \n",
       "Pink Cab     58.507889\n",
       "Yellow Cab  129.373032"
      ]
     },
     "execution_count": 168,
     "metadata": {},
     "output_type": "execute_result"
    }
   ],
   "source": [
    "df2.groupby(\"Company\").mean(\"Profit\")"
   ]
  },
  {
   "cell_type": "markdown",
   "id": "194df778",
   "metadata": {},
   "source": [
    "H0: There is no difference in the mean profit per customer for companies Yellow Cab and Pink Cab.\n",
    "\n",
    "H1: The mean profit per customer for company Yellow Cab is higher than the mean profit per km for Pink Cab."
   ]
  },
  {
   "cell_type": "code",
   "execution_count": 169,
   "id": "3cc86432",
   "metadata": {},
   "outputs": [
    {
     "name": "stdout",
     "output_type": "stream",
     "text": [
      "T-statistic value:  -106.54408808351249\n",
      "P-Value:  0.0\n"
     ]
    }
   ],
   "source": [
    "from scipy import stats\n",
    "from scipy.stats import ttest_ind\n",
    "\n",
    "sample1 = df2[df2[\"Company\"] == \"Pink Cab\"][\"Profit\"]\n",
    "sample2 = df2[df2[\"Company\"] == \"Yellow Cab\"][\"Profit\"]\n",
    "\n",
    "t_stat, p_value = ttest_ind(sample1, sample2)\n",
    "print(\"T-statistic value: \", t_stat)  \n",
    "print(\"P-Value: \", p_value)"
   ]
  },
  {
   "cell_type": "markdown",
   "id": "0a21c5db",
   "metadata": {},
   "source": [
    "According to the 2-sample t-test results, considering a 0.05 significance level, we concluded that the mean profit per customer for the Yellow Cab company is higher compared to the Pink Cab."
   ]
  },
  {
   "cell_type": "markdown",
   "id": "b9972ada",
   "metadata": {},
   "source": [
    "#### Test3 - Is there any difference in the mean charged price per km for these companies?"
   ]
  },
  {
   "cell_type": "code",
   "execution_count": 215,
   "id": "c5adc7f7",
   "metadata": {},
   "outputs": [],
   "source": [
    "df[\"PriceCharged_km\"] = df[\"Price Charged\"] / df[\"KM Travelled\"]"
   ]
  },
  {
   "cell_type": "code",
   "execution_count": 216,
   "id": "bee8d7f1",
   "metadata": {},
   "outputs": [
    {
     "data": {
      "text/plain": [
       "Company\n",
       "Pink Cab      13.768510\n",
       "Yellow Cab    20.306073\n",
       "Name: PriceCharged_km, dtype: float64"
      ]
     },
     "execution_count": 216,
     "metadata": {},
     "output_type": "execute_result"
    }
   ],
   "source": [
    "# The mean profit per km for both companies\n",
    "df.groupby(\"Company\").mean()[\"PriceCharged_km\"]"
   ]
  },
  {
   "cell_type": "markdown",
   "id": "3bb18c3c",
   "metadata": {},
   "source": [
    "H0: There is no difference in the mean charged price per km for companies Yellow Cab and Pink Cab.\n",
    "\n",
    "H1: The mean charged price per km for company Yellow Cab is higher than the mean profit per km for Pink Cab."
   ]
  },
  {
   "cell_type": "code",
   "execution_count": 172,
   "id": "c40c3815",
   "metadata": {},
   "outputs": [
    {
     "name": "stdout",
     "output_type": "stream",
     "text": [
      "T-statistic value:  -320.9807762543473\n",
      "P-Value:  0.0\n"
     ]
    }
   ],
   "source": [
    "from scipy import stats\n",
    "from scipy.stats import ttest_ind\n",
    "\n",
    "sample1 = df[df[\"Company\"] == \"Pink Cab\"][\"PriceCharged_km\"]\n",
    "sample2 = df[df[\"Company\"] == \"Yellow Cab\"][\"PriceCharged_km\"]\n",
    "\n",
    "t_stat, p_value = ttest_ind(sample1, sample2)\n",
    "print(\"T-statistic value: \", t_stat)  \n",
    "print(\"P-Value: \", p_value)"
   ]
  },
  {
   "cell_type": "markdown",
   "id": "7a5642e8",
   "metadata": {},
   "source": [
    "According to the 2-sample t-test results, considering a 0.05 significance level, we concluded that the mean charged price per km for the Yellow Cab company is higher compared to the Pink Cab."
   ]
  },
  {
   "cell_type": "markdown",
   "id": "c4e6390d",
   "metadata": {},
   "source": [
    "#### Test4 - Is there any difference in the mean profit of these companies considering the top5 cities with higher profits?"
   ]
  },
  {
   "cell_type": "code",
   "execution_count": 173,
   "id": "0214596e",
   "metadata": {},
   "outputs": [
    {
     "data": {
      "text/plain": [
       "Index(['NEW YORK NY', 'LOS ANGELES CA', 'WASHINGTON DC', 'CHICAGO IL',\n",
       "       'BOSTON MA'],\n",
       "      dtype='object', name='City')"
      ]
     },
     "execution_count": 173,
     "metadata": {},
     "output_type": "execute_result"
    }
   ],
   "source": [
    "df.groupby(\"City\").sum()[\"Profit\"].sort_values(ascending=False)[:5].index"
   ]
  },
  {
   "cell_type": "code",
   "execution_count": 174,
   "id": "3f7c8124",
   "metadata": {},
   "outputs": [],
   "source": [
    "# Creating an index list to select the top 5 cities\n",
    "index_list = list(df[df[\"City\"] == \"NEW YORK NY\"].index) + list(df[df[\"City\"] == \"LOS ANGELES CA\"].index) + \\\n",
    "             list(df[df[\"City\"] == \"WASHINGTON DC\"].index) + list(df[df[\"City\"] == \"CHICAGO IL\"].index) + \\\n",
    "             list(df[df[\"City\"] == \"BOSTON MA\"].index)\n",
    "\n"
   ]
  },
  {
   "cell_type": "code",
   "execution_count": 175,
   "id": "d3b1c24b",
   "metadata": {},
   "outputs": [],
   "source": [
    "# Creating a new dataframe with the top 5 cities\n",
    "df3 = df.iloc[index_list]"
   ]
  },
  {
   "cell_type": "code",
   "execution_count": 176,
   "id": "e0586953",
   "metadata": {},
   "outputs": [
    {
     "data": {
      "text/plain": [
       "Company     City          \n",
       "Pink Cab    BOSTON MA          50.520960\n",
       "            CHICAGO IL         34.047910\n",
       "            LOS ANGELES CA     56.669120\n",
       "            NEW YORK NY       108.217540\n",
       "            WASHINGTON DC      52.482761\n",
       "Yellow Cab  BOSTON MA          61.483619\n",
       "            CHICAGO IL         64.924486\n",
       "            LOS ANGELES CA    116.656368\n",
       "            NEW YORK NY       307.864252\n",
       "            WASHINGTON DC      82.384912\n",
       "Name: Profit, dtype: float64"
      ]
     },
     "execution_count": 176,
     "metadata": {},
     "output_type": "execute_result"
    }
   ],
   "source": [
    "# The mean profit per km for both companies\n",
    "df3.groupby([\"Company\", \"City\"]).mean()[\"Profit\"]"
   ]
  },
  {
   "cell_type": "markdown",
   "id": "1a3840e3",
   "metadata": {},
   "source": [
    "H0: There is no difference in the mean profit per km for companies Yellow Cab and Pink Cab, considering the top5 profitable cities.\n",
    "\n",
    "H1: The mean profit per km for company Yellow Cab is higher than the mean profit per km for Pink Cab, considering the top 5 cities."
   ]
  },
  {
   "cell_type": "code",
   "execution_count": 177,
   "id": "7a7997c7",
   "metadata": {},
   "outputs": [
    {
     "name": "stdout",
     "output_type": "stream",
     "text": [
      "T-statistic value:  -125.54270120924046\n",
      "P-Value:  0.0\n"
     ]
    }
   ],
   "source": [
    "from scipy import stats\n",
    "from scipy.stats import ttest_ind\n",
    "\n",
    "sample1 = df3[df3[\"Company\"] == \"Pink Cab\"][\"Profit\"]\n",
    "sample2 = df3[df3[\"Company\"] == \"Yellow Cab\"][\"Profit\"]\n",
    "\n",
    "t_stat, p_value = ttest_ind(sample1, sample2)\n",
    "print(\"T-statistic value: \", t_stat)  \n",
    "print(\"P-Value: \", p_value)"
   ]
  },
  {
   "cell_type": "markdown",
   "id": "4426b23f",
   "metadata": {},
   "source": [
    "According to the 2-sample t-test results, considering a 0.05 significance level, we concluded that the mean profit per km for the Yellow Cab company is higher compared to the Pink Cab, considering the top 5 cities."
   ]
  },
  {
   "cell_type": "markdown",
   "id": "6268d17d",
   "metadata": {},
   "source": [
    "#### Test5 - Is there any difference in the mean customer's income that uses the service of one or another company?"
   ]
  },
  {
   "cell_type": "code",
   "execution_count": 178,
   "id": "68d4868d",
   "metadata": {},
   "outputs": [
    {
     "data": {
      "text/plain": [
       "14983.896831762582"
      ]
     },
     "execution_count": 178,
     "metadata": {},
     "output_type": "execute_result"
    }
   ],
   "source": [
    "df[df[\"Company\"] == \"Yellow Cab\"].groupby(\"Customer ID\").mean()[\"Income (USD/Month)\"].mean()"
   ]
  },
  {
   "cell_type": "code",
   "execution_count": 179,
   "id": "a791d6b7",
   "metadata": {},
   "outputs": [
    {
     "data": {
      "text/plain": [
       "15034.097618311165"
      ]
     },
     "execution_count": 179,
     "metadata": {},
     "output_type": "execute_result"
    }
   ],
   "source": [
    "df[df[\"Company\"] == \"Pink Cab\"].groupby(\"Customer ID\").mean()[\"Income (USD/Month)\"].mean()"
   ]
  },
  {
   "cell_type": "markdown",
   "id": "d9651dc4",
   "metadata": {},
   "source": [
    "H0: There is no difference in the mean customer's income for costumers that uses the Yellow Cab and Pink Cab services.\n",
    "\n",
    "H1: There is a difference in the mean customer's income for costumers that uses the Yellow Cab and Pink Cab services."
   ]
  },
  {
   "cell_type": "code",
   "execution_count": 180,
   "id": "2dab5a21",
   "metadata": {},
   "outputs": [
    {
     "name": "stdout",
     "output_type": "stream",
     "text": [
      "T-statistic value:  0.838939895792237\n",
      "P-Value:  0.40150581507996785\n"
     ]
    }
   ],
   "source": [
    "from scipy import stats\n",
    "from scipy.stats import ttest_ind\n",
    "\n",
    "sample1 = df[df[\"Company\"] == \"Pink Cab\"].groupby(\"Customer ID\").mean()[\"Income (USD/Month)\"]\n",
    "sample2 = df[df[\"Company\"] == \"Yellow Cab\"].groupby(\"Customer ID\").mean()[\"Income (USD/Month)\"]\n",
    "\n",
    "t_stat, p_value = ttest_ind(sample1, sample2)\n",
    "print(\"T-statistic value: \", t_stat)  \n",
    "print(\"P-Value: \", p_value)"
   ]
  },
  {
   "cell_type": "markdown",
   "id": "8af2f116",
   "metadata": {},
   "source": [
    "There is not significant statistical difference in the mean customer's income for the users of Yellow Cab and Pink Cab. It is important to notice that all the customers that uses both services, were included in both samples of the test."
   ]
  },
  {
   "cell_type": "markdown",
   "id": "c9b93c33",
   "metadata": {},
   "source": [
    "#### Test6 - Is there any difference in the mean profit for different payment methods?"
   ]
  },
  {
   "cell_type": "code",
   "execution_count": 181,
   "id": "7007667f",
   "metadata": {},
   "outputs": [
    {
     "data": {
      "text/plain": [
       "Payment_Mode\n",
       "Card    137.086461\n",
       "Cash    137.502924\n",
       "Name: Profit, dtype: float64"
      ]
     },
     "execution_count": 181,
     "metadata": {},
     "output_type": "execute_result"
    }
   ],
   "source": [
    "# The mean profit per payment method\n",
    "df.groupby(\"Payment_Mode\").mean()[\"Profit\"]"
   ]
  },
  {
   "cell_type": "markdown",
   "id": "d04c9e17",
   "metadata": {},
   "source": [
    "H0: There is no difference in the mean profit for both payment methods.\n",
    "\n",
    "H1: There is difference in the mean profit for both payment methods."
   ]
  },
  {
   "cell_type": "code",
   "execution_count": 182,
   "id": "77fabe59",
   "metadata": {},
   "outputs": [
    {
     "name": "stdout",
     "output_type": "stream",
     "text": [
      "T-statistic value:  -0.7630743349933286\n",
      "P-Value:  0.4454195660215009\n"
     ]
    }
   ],
   "source": [
    "from scipy import stats\n",
    "from scipy.stats import ttest_ind\n",
    "\n",
    "sample1 = df[df[\"Payment_Mode\"] == \"Card\"][\"Profit\"]\n",
    "sample2 = df[df[\"Payment_Mode\"] == \"Cash\"][\"Profit\"]\n",
    "\n",
    "t_stat, p_value = ttest_ind(sample1, sample2)\n",
    "print(\"T-statistic value: \", t_stat)  \n",
    "print(\"P-Value: \", p_value)"
   ]
  },
  {
   "cell_type": "markdown",
   "id": "b3f36c35",
   "metadata": {},
   "source": [
    "No signifcant difference in the mean profit for the payment methods by card or cash."
   ]
  },
  {
   "cell_type": "markdown",
   "id": "51b1118d",
   "metadata": {},
   "source": [
    "#### Test7 - Is there any difference in the mean profit for holidays and non-holidays?"
   ]
  },
  {
   "cell_type": "code",
   "execution_count": 183,
   "id": "812ca176",
   "metadata": {},
   "outputs": [
    {
     "data": {
      "text/plain": [
       "137.55501953350472"
      ]
     },
     "execution_count": 183,
     "metadata": {},
     "output_type": "execute_result"
    }
   ],
   "source": [
    "df[df[\"Holiday\"] == \"No\"][\"Profit\"].mean()"
   ]
  },
  {
   "cell_type": "code",
   "execution_count": 184,
   "id": "c5cf0f27",
   "metadata": {},
   "outputs": [
    {
     "data": {
      "text/plain": [
       "122.19940113250196"
      ]
     },
     "execution_count": 184,
     "metadata": {},
     "output_type": "execute_result"
    }
   ],
   "source": [
    "df[df[\"Holiday\"] != \"No\"][\"Profit\"].mean()"
   ]
  },
  {
   "cell_type": "markdown",
   "id": "143d1376",
   "metadata": {},
   "source": [
    "H0: There is no difference in the mean profit for holidays or non-holidays.\n",
    "\n",
    "H1: There is a difference in the mean profit for hoildays or non-holidays."
   ]
  },
  {
   "cell_type": "code",
   "execution_count": 185,
   "id": "f3d72a84",
   "metadata": {},
   "outputs": [
    {
     "name": "stdout",
     "output_type": "stream",
     "text": [
      "T-statistic value:  7.971760168134794\n",
      "P-Value:  1.5688395014131125e-15\n"
     ]
    }
   ],
   "source": [
    "from scipy import stats\n",
    "from scipy.stats import ttest_ind\n",
    "\n",
    "sample1 = df[df[\"Holiday\"] == \"No\"][\"Profit\"]\n",
    "sample2 = df[df[\"Holiday\"] != \"No\"][\"Profit\"]\n",
    "\n",
    "t_stat, p_value = ttest_ind(sample1, sample2)\n",
    "print(\"T-statistic value: \", t_stat)  \n",
    "print(\"P-Value: \", p_value)"
   ]
  },
  {
   "cell_type": "markdown",
   "id": "40ef1fc3",
   "metadata": {},
   "source": [
    "The mean profit for holidays is significantly lower compared to non-holidays with a significance level of 0.05."
   ]
  },
  {
   "cell_type": "markdown",
   "id": "36e2292a",
   "metadata": {},
   "source": [
    "#### Test8 - Is there any difference in the mean profit for weekdays and weekends?\n",
    "* Weekends were considered to be Friday, Saturday and Sunday in this analysis"
   ]
  },
  {
   "cell_type": "code",
   "execution_count": 186,
   "id": "270a645f",
   "metadata": {},
   "outputs": [],
   "source": [
    "df4 = pd.concat([df[df[\"day_of_week\"] == \"Friday\"], df[df[\"day_of_week\"] == \"Saturday\"], df[df[\"day_of_week\"] == \"Sunday\"]])\n",
    "df5 = pd.concat([df[df[\"day_of_week\"] == \"Monday\"], df[df[\"day_of_week\"] == \"Tuesday\"], df[df[\"day_of_week\"] == \"Wednesday\"], df[df[\"day_of_week\"] == \"Thursday\"]])\n"
   ]
  },
  {
   "cell_type": "code",
   "execution_count": 187,
   "id": "bd8bb146",
   "metadata": {},
   "outputs": [
    {
     "data": {
      "text/plain": [
       "148.73054734067915"
      ]
     },
     "execution_count": 187,
     "metadata": {},
     "output_type": "execute_result"
    }
   ],
   "source": [
    "df4[\"Profit\"].mean()"
   ]
  },
  {
   "cell_type": "code",
   "execution_count": 188,
   "id": "9add6153",
   "metadata": {},
   "outputs": [
    {
     "data": {
      "text/plain": [
       "116.86500203173533"
      ]
     },
     "execution_count": 188,
     "metadata": {},
     "output_type": "execute_result"
    }
   ],
   "source": [
    "df5[\"Profit\"].mean()"
   ]
  },
  {
   "cell_type": "markdown",
   "id": "597dab39",
   "metadata": {},
   "source": [
    "H0: There is no difference in the mean profit for weekends and weekdays.\n",
    "\n",
    "H1: There is a difference in the mean profit for weekends and weekdays."
   ]
  },
  {
   "cell_type": "code",
   "execution_count": 189,
   "id": "2453cb57",
   "metadata": {},
   "outputs": [
    {
     "name": "stdout",
     "output_type": "stream",
     "text": [
      "T-statistic value:  57.46645759462659\n",
      "P-Value:  0.0\n"
     ]
    }
   ],
   "source": [
    "from scipy import stats\n",
    "from scipy.stats import ttest_ind\n",
    "\n",
    "sample1 = df4[\"Profit\"]\n",
    "sample2 = df5[\"Profit\"]\n",
    "\n",
    "t_stat, p_value = ttest_ind(sample1, sample2)\n",
    "print(\"T-statistic value: \", t_stat)  \n",
    "print(\"P-Value: \", p_value)"
   ]
  },
  {
   "cell_type": "markdown",
   "id": "2c559627",
   "metadata": {},
   "source": [
    "The mean profit for weekends is significantly higher compared to weekdays with a significance level of 0.05."
   ]
  },
  {
   "cell_type": "markdown",
   "id": "75724f3f",
   "metadata": {},
   "source": [
    "#### Test9 - Is there any correlation between the distance, cost of trip, price charged and profit.\n",
    "\n",
    "According the the previous analysis, it is clear that the distance travelled has a very strong positive correlation (0.98, p-value = 0) with the cost of trip, meaning that the longest the travel distance is, the higher the cost of the trip is.\n",
    "Moreover, there is a strong correlation between the distance travelled (0.84, p-value = 0) and the price charged, although this correlation is slightly weaker compared to the previous one.\n",
    "Finally, there is a moderate to weak correlation between the distance travelled and the profit (margin) (0.46, p-value = 0). This might have been caused because some travels may not be profitable due to some reason."
   ]
  },
  {
   "cell_type": "markdown",
   "id": "e9df5b0a",
   "metadata": {},
   "source": [
    "#### Test10 - Is there a difference in the profit along the years for Yellow Cab company?"
   ]
  },
  {
   "cell_type": "code",
   "execution_count": 190,
   "id": "0a411a7f",
   "metadata": {},
   "outputs": [],
   "source": [
    "df6 = df[df[\"Company\"] == \"Yellow Cab\"]\n",
    "df7 = df[df[\"Company\"] == \"Pink Cab\"]"
   ]
  },
  {
   "cell_type": "code",
   "execution_count": 191,
   "id": "c283f57c",
   "metadata": {},
   "outputs": [
    {
     "data": {
      "text/plain": [
       "year\n",
       "2016    169.347821\n",
       "2017    168.817057\n",
       "2018    143.416122\n",
       "Name: Profit, dtype: float64"
      ]
     },
     "execution_count": 191,
     "metadata": {},
     "output_type": "execute_result"
    }
   ],
   "source": [
    "df6.groupby(\"year\").mean()[\"Profit\"]"
   ]
  },
  {
   "cell_type": "markdown",
   "id": "96dbd654",
   "metadata": {},
   "source": [
    "H0: There is no difference in the mean profit of Yellow Cab company for the years 2016, 2017 and 2018.\n",
    "\n",
    "H1: At least one of the years presented a mean profit of Yellow Cab company higher than the other years."
   ]
  },
  {
   "cell_type": "code",
   "execution_count": 192,
   "id": "8131f858",
   "metadata": {},
   "outputs": [
    {
     "name": "stdout",
     "output_type": "stream",
     "text": [
      "T-statistic value:  57.46645759462659\n",
      "P-Value:  5.3455921384708516e-301\n",
      "\n",
      "\n",
      " Multiple Comparison of Means - Tukey HSD, FWER=0.05  \n",
      "======================================================\n",
      "group1 group2 meandiff p-adj   lower    upper   reject\n",
      "------------------------------------------------------\n",
      "  2016   2017  -0.5308 0.7895  -2.4295    1.368  False\n",
      "  2016   2018 -25.9317   -0.0 -27.8485 -24.0149   True\n",
      "  2017   2018 -25.4009   -0.0 -27.2327 -23.5692   True\n",
      "------------------------------------------------------\n"
     ]
    }
   ],
   "source": [
    "from scipy import stats\n",
    "from scipy.stats import f_oneway\n",
    "from statsmodels.stats.multicomp import pairwise_tukeyhsd\n",
    "\n",
    "sample1 = df6[df6[\"year\"] == 2016][\"Profit\"]\n",
    "sample2 = df6[df6[\"year\"] == 2017][\"Profit\"]\n",
    "sample3 = df6[df6[\"year\"] == 2018][\"Profit\"]\n",
    "\n",
    "f_stat, p_value = f_oneway(sample1, sample2, sample3)\n",
    "print(\"T-statistic value: \", t_stat)  \n",
    "print(\"P-Value: \", p_value)\n",
    "\n",
    "tukey = pairwise_tukeyhsd(endog=df6['Profit'],\n",
    "                          groups=df6['year'],\n",
    "                          alpha=0.05)\n",
    "\n",
    "print(\"\\n\")\n",
    "print(tukey)"
   ]
  },
  {
   "cell_type": "markdown",
   "id": "aca8063b",
   "metadata": {},
   "source": [
    "According to the Anova and Tukey tests, the mean profit for the year 2018 was significantly lower compared to the previous years 2016 and 2017 for the Yellow Cab company."
   ]
  },
  {
   "cell_type": "markdown",
   "id": "4f9ee734",
   "metadata": {},
   "source": [
    "#### Test11 - Is there a difference in the profit along the years for Pink Cab company?"
   ]
  },
  {
   "cell_type": "code",
   "execution_count": 193,
   "id": "d5622e3d",
   "metadata": {},
   "outputs": [
    {
     "data": {
      "text/plain": [
       "year\n",
       "2016    68.321819\n",
       "2017    67.070839\n",
       "2018    53.229689\n",
       "Name: Profit, dtype: float64"
      ]
     },
     "execution_count": 193,
     "metadata": {},
     "output_type": "execute_result"
    }
   ],
   "source": [
    "df7.groupby(\"year\").mean()[\"Profit\"]"
   ]
  },
  {
   "cell_type": "markdown",
   "id": "5264da86",
   "metadata": {},
   "source": [
    "H0: There is no difference in the mean profit of Pink Cab company for the years 2016, 2017 and 2018.\n",
    "\n",
    "H1: At least one of the years presented a mean profit of Pink Cab company higher than the other years."
   ]
  },
  {
   "cell_type": "code",
   "execution_count": 194,
   "id": "3711dcee",
   "metadata": {},
   "outputs": [
    {
     "name": "stdout",
     "output_type": "stream",
     "text": [
      "T-statistic value:  57.46645759462659\n",
      "P-Value:  1.3845866439321786e-145\n",
      "\n",
      "\n",
      " Multiple Comparison of Means - Tukey HSD, FWER=0.05  \n",
      "======================================================\n",
      "group1 group2 meandiff p-adj   lower    upper   reject\n",
      "------------------------------------------------------\n",
      "  2016   2017   -1.251 0.1397  -2.7971   0.2951  False\n",
      "  2016   2018 -15.0921    0.0 -16.6502  -13.534   True\n",
      "  2017   2018 -13.8411    0.0 -15.3249 -12.3574   True\n",
      "------------------------------------------------------\n"
     ]
    }
   ],
   "source": [
    "from scipy import stats\n",
    "from scipy.stats import f_oneway\n",
    "from statsmodels.stats.multicomp import pairwise_tukeyhsd\n",
    "\n",
    "sample1 = df7[df7[\"year\"] == 2016][\"Profit\"]\n",
    "sample2 = df7[df7[\"year\"] == 2017][\"Profit\"]\n",
    "sample3 = df7[df7[\"year\"] == 2018][\"Profit\"]\n",
    "\n",
    "f_stat, p_value = f_oneway(sample1, sample2, sample3)\n",
    "print(\"T-statistic value: \", t_stat)  \n",
    "print(\"P-Value: \", p_value)\n",
    "\n",
    "tukey = pairwise_tukeyhsd(endog=df7['Profit'],\n",
    "                          groups=df7['year'],\n",
    "                          alpha=0.05)\n",
    "\n",
    "print(\"\\n\")\n",
    "print(tukey)"
   ]
  },
  {
   "cell_type": "markdown",
   "id": "9230454f",
   "metadata": {},
   "source": [
    "According to the Anova and Tukey tests, the mean profit for the year 2018 was significantly lower compared to the previous years 2016 and 2017 for the Pink Cab as well."
   ]
  },
  {
   "cell_type": "markdown",
   "id": "4b2ba962",
   "metadata": {},
   "source": [
    "#### Test12 - Is there a difference in the profit per km along the years for Yellow Cab company?"
   ]
  },
  {
   "cell_type": "code",
   "execution_count": 195,
   "id": "2b78b265",
   "metadata": {},
   "outputs": [
    {
     "data": {
      "text/plain": [
       "year\n",
       "2016    7.489847\n",
       "2017    7.494612\n",
       "2018    6.364805\n",
       "Name: Profit_dist, dtype: float64"
      ]
     },
     "execution_count": 195,
     "metadata": {},
     "output_type": "execute_result"
    }
   ],
   "source": [
    "df6.groupby(\"year\").mean()[\"Profit_dist\"]"
   ]
  },
  {
   "cell_type": "markdown",
   "id": "08fddedc",
   "metadata": {},
   "source": [
    "H0: There is no difference in the mean profit per km of Yellow Cab company for the years 2016, 2017 and 2018.\n",
    "\n",
    "H1: At least one of the years presented a mean profit per km of Yellow Cab company higher than the other years."
   ]
  },
  {
   "cell_type": "code",
   "execution_count": 196,
   "id": "5211b62a",
   "metadata": {},
   "outputs": [
    {
     "name": "stdout",
     "output_type": "stream",
     "text": [
      "T-statistic value:  57.46645759462659\n",
      "P-Value:  0.0\n",
      "\n",
      "\n",
      "Multiple Comparison of Means - Tukey HSD, FWER=0.05 \n",
      "====================================================\n",
      "group1 group2 meandiff p-adj   lower   upper  reject\n",
      "----------------------------------------------------\n",
      "  2016   2017   0.0048 0.9833 -0.0591  0.0686  False\n",
      "  2016   2018   -1.125   -0.0 -1.1895 -1.0606   True\n",
      "  2017   2018  -1.1298   -0.0 -1.1914 -1.0682   True\n",
      "----------------------------------------------------\n"
     ]
    }
   ],
   "source": [
    "from scipy import stats\n",
    "from scipy.stats import f_oneway\n",
    "from statsmodels.stats.multicomp import pairwise_tukeyhsd\n",
    "\n",
    "sample1 = df6[df6[\"year\"] == 2016][\"Profit_dist\"]\n",
    "sample2 = df6[df6[\"year\"] == 2017][\"Profit_dist\"]\n",
    "sample3 = df6[df6[\"year\"] == 2018][\"Profit_dist\"]\n",
    "\n",
    "f_stat, p_value = f_oneway(sample1, sample2, sample3)\n",
    "print(\"T-statistic value: \", t_stat)  \n",
    "print(\"P-Value: \", p_value)\n",
    "\n",
    "tukey = pairwise_tukeyhsd(endog=df6['Profit_dist'],\n",
    "                          groups=df6['year'],\n",
    "                          alpha=0.05)\n",
    "\n",
    "print(\"\\n\")\n",
    "print(tukey)"
   ]
  },
  {
   "cell_type": "markdown",
   "id": "a0ef3f12",
   "metadata": {},
   "source": [
    "A similar pattern was observed for the profit per km for the Yellow Cab company. This means that the profit per km for the year 2018 was lower compared to the previous years assessed in this analysis."
   ]
  },
  {
   "cell_type": "markdown",
   "id": "3beaa3cf",
   "metadata": {},
   "source": [
    "#### Test13 - Is there a difference in the profit per km along the years for Pink Cab company?"
   ]
  },
  {
   "cell_type": "code",
   "execution_count": 197,
   "id": "3c5b4823",
   "metadata": {},
   "outputs": [
    {
     "data": {
      "text/plain": [
       "year\n",
       "2016    3.026813\n",
       "2017    2.962883\n",
       "2018    2.350447\n",
       "Name: Profit_dist, dtype: float64"
      ]
     },
     "execution_count": 197,
     "metadata": {},
     "output_type": "execute_result"
    }
   ],
   "source": [
    "df7.groupby(\"year\").mean()[\"Profit_dist\"]"
   ]
  },
  {
   "cell_type": "markdown",
   "id": "5f73f999",
   "metadata": {},
   "source": [
    "H0: There is no difference in the mean profit per km of Yellow Cab company for the years 2016, 2017 and 2018.\n",
    "\n",
    "H1: At least one of the years presented a mean profit per km of Yellow Cab company higher than the other years."
   ]
  },
  {
   "cell_type": "code",
   "execution_count": 198,
   "id": "992ebe99",
   "metadata": {},
   "outputs": [
    {
     "name": "stdout",
     "output_type": "stream",
     "text": [
      "T-statistic value:  57.46645759462659\n",
      "P-Value:  2.6571847629273957e-239\n",
      "\n",
      "\n",
      "Multiple Comparison of Means - Tukey HSD, FWER=0.05 \n",
      "====================================================\n",
      "group1 group2 meandiff p-adj   lower   upper  reject\n",
      "----------------------------------------------------\n",
      "  2016   2017  -0.0639 0.0144 -0.1175 -0.0103   True\n",
      "  2016   2018  -0.6764    0.0 -0.7304 -0.6223   True\n",
      "  2017   2018  -0.6124    0.0 -0.6639  -0.561   True\n",
      "----------------------------------------------------\n"
     ]
    }
   ],
   "source": [
    "from scipy import stats\n",
    "from scipy.stats import f_oneway\n",
    "from statsmodels.stats.multicomp import pairwise_tukeyhsd\n",
    "\n",
    "sample1 = df7[df7[\"year\"] == 2016][\"Profit_dist\"]\n",
    "sample2 = df7[df7[\"year\"] == 2017][\"Profit_dist\"]\n",
    "sample3 = df7[df7[\"year\"] == 2018][\"Profit_dist\"]\n",
    "\n",
    "f_stat, p_value = f_oneway(sample1, sample2, sample3)\n",
    "print(\"T-statistic value: \", t_stat)  \n",
    "print(\"P-Value: \", p_value)\n",
    "\n",
    "tukey = pairwise_tukeyhsd(endog=df7['Profit_dist'],\n",
    "                          groups=df7['year'],\n",
    "                          alpha=0.05)\n",
    "\n",
    "print(\"\\n\")\n",
    "print(tukey)"
   ]
  },
  {
   "cell_type": "markdown",
   "id": "b33d2da8",
   "metadata": {},
   "source": [
    "In the case of the Pink Cab company, it was observed that the profit per km significantly decreased year by year from 2016 to 2018."
   ]
  },
  {
   "cell_type": "markdown",
   "id": "f85cd58d",
   "metadata": {},
   "source": [
    "#### Does margin proportionally increase with increase in number of customers?"
   ]
  },
  {
   "cell_type": "code",
   "execution_count": 199,
   "id": "b17f3131",
   "metadata": {},
   "outputs": [
    {
     "data": {
      "text/plain": [
       "Index(['Transaction ID', 'Date of Travel', 'Holiday', 'Company',\n",
       "       'KM Travelled', 'Price Charged', 'Cost of Trip', 'Profit', 'City',\n",
       "       'User_prop', 'Customer ID', 'Gender', 'Age', 'Income (USD/Month)',\n",
       "       'Payment_Mode', 'Profit_dist', 'year', 'month', 'day', 'day_of_week',\n",
       "       'PriceCharged_km'],\n",
       "      dtype='object')"
      ]
     },
     "execution_count": 199,
     "metadata": {},
     "output_type": "execute_result"
    }
   ],
   "source": [
    "df.columns"
   ]
  },
  {
   "cell_type": "code",
   "execution_count": 200,
   "id": "c6b7d1f4",
   "metadata": {},
   "outputs": [
    {
     "data": {
      "text/html": [
       "<div>\n",
       "<style scoped>\n",
       "    .dataframe tbody tr th:only-of-type {\n",
       "        vertical-align: middle;\n",
       "    }\n",
       "\n",
       "    .dataframe tbody tr th {\n",
       "        vertical-align: top;\n",
       "    }\n",
       "\n",
       "    .dataframe thead th {\n",
       "        text-align: right;\n",
       "    }\n",
       "</style>\n",
       "<table border=\"1\" class=\"dataframe\">\n",
       "  <thead>\n",
       "    <tr style=\"text-align: right;\">\n",
       "      <th></th>\n",
       "      <th>Date of Travel</th>\n",
       "      <th>Profit</th>\n",
       "    </tr>\n",
       "  </thead>\n",
       "  <tbody>\n",
       "    <tr>\n",
       "      <th>0</th>\n",
       "      <td>2016-01-02</td>\n",
       "      <td>50105.0622</td>\n",
       "    </tr>\n",
       "    <tr>\n",
       "      <th>1</th>\n",
       "      <td>2016-01-03</td>\n",
       "      <td>49070.1108</td>\n",
       "    </tr>\n",
       "    <tr>\n",
       "      <th>2</th>\n",
       "      <td>2016-01-04</td>\n",
       "      <td>4078.7922</td>\n",
       "    </tr>\n",
       "    <tr>\n",
       "      <th>3</th>\n",
       "      <td>2016-01-05</td>\n",
       "      <td>12083.4746</td>\n",
       "    </tr>\n",
       "    <tr>\n",
       "      <th>4</th>\n",
       "      <td>2016-01-06</td>\n",
       "      <td>21000.4274</td>\n",
       "    </tr>\n",
       "    <tr>\n",
       "      <th>...</th>\n",
       "      <td>...</td>\n",
       "      <td>...</td>\n",
       "    </tr>\n",
       "    <tr>\n",
       "      <th>1090</th>\n",
       "      <td>2018-12-27</td>\n",
       "      <td>32356.7824</td>\n",
       "    </tr>\n",
       "    <tr>\n",
       "      <th>1091</th>\n",
       "      <td>2018-12-28</td>\n",
       "      <td>118890.3156</td>\n",
       "    </tr>\n",
       "    <tr>\n",
       "      <th>1092</th>\n",
       "      <td>2018-12-29</td>\n",
       "      <td>118214.0754</td>\n",
       "    </tr>\n",
       "    <tr>\n",
       "      <th>1093</th>\n",
       "      <td>2018-12-30</td>\n",
       "      <td>23593.1276</td>\n",
       "    </tr>\n",
       "    <tr>\n",
       "      <th>1094</th>\n",
       "      <td>2018-12-31</td>\n",
       "      <td>22231.7628</td>\n",
       "    </tr>\n",
       "  </tbody>\n",
       "</table>\n",
       "<p>1095 rows × 2 columns</p>\n",
       "</div>"
      ],
      "text/plain": [
       "     Date of Travel       Profit\n",
       "0        2016-01-02   50105.0622\n",
       "1        2016-01-03   49070.1108\n",
       "2        2016-01-04    4078.7922\n",
       "3        2016-01-05   12083.4746\n",
       "4        2016-01-06   21000.4274\n",
       "...             ...          ...\n",
       "1090     2018-12-27   32356.7824\n",
       "1091     2018-12-28  118890.3156\n",
       "1092     2018-12-29  118214.0754\n",
       "1093     2018-12-30   23593.1276\n",
       "1094     2018-12-31   22231.7628\n",
       "\n",
       "[1095 rows x 2 columns]"
      ]
     },
     "execution_count": 200,
     "metadata": {},
     "output_type": "execute_result"
    }
   ],
   "source": [
    "df8 = df.groupby(\"Date of Travel\").sum()[\"Profit\"].reset_index()\n",
    "df8"
   ]
  },
  {
   "cell_type": "code",
   "execution_count": 201,
   "id": "d5f976b1",
   "metadata": {},
   "outputs": [
    {
     "data": {
      "text/html": [
       "<div>\n",
       "<style scoped>\n",
       "    .dataframe tbody tr th:only-of-type {\n",
       "        vertical-align: middle;\n",
       "    }\n",
       "\n",
       "    .dataframe tbody tr th {\n",
       "        vertical-align: top;\n",
       "    }\n",
       "\n",
       "    .dataframe thead th {\n",
       "        text-align: right;\n",
       "    }\n",
       "</style>\n",
       "<table border=\"1\" class=\"dataframe\">\n",
       "  <thead>\n",
       "    <tr style=\"text-align: right;\">\n",
       "      <th></th>\n",
       "      <th>Date of Travel</th>\n",
       "      <th>Profit</th>\n",
       "    </tr>\n",
       "  </thead>\n",
       "  <tbody>\n",
       "    <tr>\n",
       "      <th>0</th>\n",
       "      <td>2016-01-02</td>\n",
       "      <td>181</td>\n",
       "    </tr>\n",
       "    <tr>\n",
       "      <th>1</th>\n",
       "      <td>2016-01-03</td>\n",
       "      <td>178</td>\n",
       "    </tr>\n",
       "    <tr>\n",
       "      <th>2</th>\n",
       "      <td>2016-01-04</td>\n",
       "      <td>25</td>\n",
       "    </tr>\n",
       "    <tr>\n",
       "      <th>3</th>\n",
       "      <td>2016-01-05</td>\n",
       "      <td>47</td>\n",
       "    </tr>\n",
       "    <tr>\n",
       "      <th>4</th>\n",
       "      <td>2016-01-06</td>\n",
       "      <td>109</td>\n",
       "    </tr>\n",
       "    <tr>\n",
       "      <th>...</th>\n",
       "      <td>...</td>\n",
       "      <td>...</td>\n",
       "    </tr>\n",
       "    <tr>\n",
       "      <th>1090</th>\n",
       "      <td>2018-12-27</td>\n",
       "      <td>318</td>\n",
       "    </tr>\n",
       "    <tr>\n",
       "      <th>1091</th>\n",
       "      <td>2018-12-28</td>\n",
       "      <td>843</td>\n",
       "    </tr>\n",
       "    <tr>\n",
       "      <th>1092</th>\n",
       "      <td>2018-12-29</td>\n",
       "      <td>825</td>\n",
       "    </tr>\n",
       "    <tr>\n",
       "      <th>1093</th>\n",
       "      <td>2018-12-30</td>\n",
       "      <td>257</td>\n",
       "    </tr>\n",
       "    <tr>\n",
       "      <th>1094</th>\n",
       "      <td>2018-12-31</td>\n",
       "      <td>256</td>\n",
       "    </tr>\n",
       "  </tbody>\n",
       "</table>\n",
       "<p>1095 rows × 2 columns</p>\n",
       "</div>"
      ],
      "text/plain": [
       "     Date of Travel  Profit\n",
       "0        2016-01-02     181\n",
       "1        2016-01-03     178\n",
       "2        2016-01-04      25\n",
       "3        2016-01-05      47\n",
       "4        2016-01-06     109\n",
       "...             ...     ...\n",
       "1090     2018-12-27     318\n",
       "1091     2018-12-28     843\n",
       "1092     2018-12-29     825\n",
       "1093     2018-12-30     257\n",
       "1094     2018-12-31     256\n",
       "\n",
       "[1095 rows x 2 columns]"
      ]
     },
     "execution_count": 201,
     "metadata": {},
     "output_type": "execute_result"
    }
   ],
   "source": [
    "df9 = df.groupby(\"Date of Travel\").count()[\"Profit\"].reset_index()\n",
    "df9"
   ]
  },
  {
   "cell_type": "code",
   "execution_count": 202,
   "id": "4633a691",
   "metadata": {},
   "outputs": [
    {
     "data": {
      "text/html": [
       "<div>\n",
       "<style scoped>\n",
       "    .dataframe tbody tr th:only-of-type {\n",
       "        vertical-align: middle;\n",
       "    }\n",
       "\n",
       "    .dataframe tbody tr th {\n",
       "        vertical-align: top;\n",
       "    }\n",
       "\n",
       "    .dataframe thead th {\n",
       "        text-align: right;\n",
       "    }\n",
       "</style>\n",
       "<table border=\"1\" class=\"dataframe\">\n",
       "  <thead>\n",
       "    <tr style=\"text-align: right;\">\n",
       "      <th></th>\n",
       "      <th>Date of Travel</th>\n",
       "      <th>Profit_x</th>\n",
       "      <th>Profit_y</th>\n",
       "    </tr>\n",
       "  </thead>\n",
       "  <tbody>\n",
       "    <tr>\n",
       "      <th>0</th>\n",
       "      <td>2016-01-02</td>\n",
       "      <td>50105.0622</td>\n",
       "      <td>181</td>\n",
       "    </tr>\n",
       "    <tr>\n",
       "      <th>1</th>\n",
       "      <td>2016-01-03</td>\n",
       "      <td>49070.1108</td>\n",
       "      <td>178</td>\n",
       "    </tr>\n",
       "    <tr>\n",
       "      <th>2</th>\n",
       "      <td>2016-01-04</td>\n",
       "      <td>4078.7922</td>\n",
       "      <td>25</td>\n",
       "    </tr>\n",
       "    <tr>\n",
       "      <th>3</th>\n",
       "      <td>2016-01-05</td>\n",
       "      <td>12083.4746</td>\n",
       "      <td>47</td>\n",
       "    </tr>\n",
       "    <tr>\n",
       "      <th>4</th>\n",
       "      <td>2016-01-06</td>\n",
       "      <td>21000.4274</td>\n",
       "      <td>109</td>\n",
       "    </tr>\n",
       "  </tbody>\n",
       "</table>\n",
       "</div>"
      ],
      "text/plain": [
       "  Date of Travel    Profit_x  Profit_y\n",
       "0     2016-01-02  50105.0622       181\n",
       "1     2016-01-03  49070.1108       178\n",
       "2     2016-01-04   4078.7922        25\n",
       "3     2016-01-05  12083.4746        47\n",
       "4     2016-01-06  21000.4274       109"
      ]
     },
     "execution_count": 202,
     "metadata": {},
     "output_type": "execute_result"
    }
   ],
   "source": [
    "df10 = df8.merge(df9, on=\"Date of Travel\")\n",
    "df10.head()"
   ]
  },
  {
   "cell_type": "code",
   "execution_count": 203,
   "id": "7d2c2c20",
   "metadata": {},
   "outputs": [
    {
     "data": {
      "image/png": "[encoded data removed]",
      "text/plain": [
       "<Figure size 1008x576 with 1 Axes>"
      ]
     },
     "metadata": {
      "needs_background": "light"
     },
     "output_type": "display_data"
    }
   ],
   "source": [
    "# Ploting a scatterplot to visualize the correlation between distance and cost of trip\n",
    "fig = plt.figure(figsize=[14,8])\n",
    "plt.scatter(df10[\"Profit_y\"], df10[\"Profit_x\"])\n",
    "\n",
    "m, b = np.polyfit(df10[\"Profit_y\"], df10[\"Profit_x\"], 1)\n",
    "plt.plot(df10[\"Profit_y\"], m*df10[\"Profit_y\"]+b, color=\"black\")\n",
    "\n",
    "plt.show()"
   ]
  },
  {
   "cell_type": "code",
   "execution_count": 204,
   "id": "00593fdd",
   "metadata": {},
   "outputs": [
    {
     "data": {
      "text/plain": [
       "(0.9376528493867865, 0.0)"
      ]
     },
     "execution_count": 204,
     "metadata": {},
     "output_type": "execute_result"
    }
   ],
   "source": [
    "#calculation correlation coefficient and p-value between profit per day and number of rides per day.\n",
    "pearsonr(df10[\"Profit_y\"], df10[\"Profit_x\"])"
   ]
  },
  {
   "cell_type": "markdown",
   "id": "04f948e0",
   "metadata": {},
   "source": [
    "According to the previous analysis, there is a significantly strong correlation between the number of trips and the profit of the company considering every single day from our dataset. The more customers using the service (more transactions), the more profit the companies make."
   ]
  },
  {
   "cell_type": "code",
   "execution_count": 205,
   "id": "8f029ff4",
   "metadata": {},
   "outputs": [
    {
     "data": {
      "text/html": [
       "<div>\n",
       "<style scoped>\n",
       "    .dataframe tbody tr th:only-of-type {\n",
       "        vertical-align: middle;\n",
       "    }\n",
       "\n",
       "    .dataframe tbody tr th {\n",
       "        vertical-align: top;\n",
       "    }\n",
       "\n",
       "    .dataframe thead th {\n",
       "        text-align: right;\n",
       "    }\n",
       "</style>\n",
       "<table border=\"1\" class=\"dataframe\">\n",
       "  <thead>\n",
       "    <tr style=\"text-align: right;\">\n",
       "      <th></th>\n",
       "      <th>Transaction ID</th>\n",
       "      <th>Date of Travel</th>\n",
       "      <th>Holiday</th>\n",
       "      <th>Company</th>\n",
       "      <th>KM Travelled</th>\n",
       "      <th>Price Charged</th>\n",
       "      <th>Cost of Trip</th>\n",
       "      <th>Profit</th>\n",
       "      <th>City</th>\n",
       "      <th>User_prop</th>\n",
       "      <th>...</th>\n",
       "      <th>Gender</th>\n",
       "      <th>Age</th>\n",
       "      <th>Income (USD/Month)</th>\n",
       "      <th>Payment_Mode</th>\n",
       "      <th>Profit_dist</th>\n",
       "      <th>year</th>\n",
       "      <th>month</th>\n",
       "      <th>day</th>\n",
       "      <th>day_of_week</th>\n",
       "      <th>PriceCharged_km</th>\n",
       "    </tr>\n",
       "  </thead>\n",
       "  <tbody>\n",
       "    <tr>\n",
       "      <th>0</th>\n",
       "      <td>10000011</td>\n",
       "      <td>2016-01-08</td>\n",
       "      <td>No</td>\n",
       "      <td>Pink Cab</td>\n",
       "      <td>30.45</td>\n",
       "      <td>370.95</td>\n",
       "      <td>313.6350</td>\n",
       "      <td>57.3150</td>\n",
       "      <td>ATLANTA GA</td>\n",
       "      <td>0.030312</td>\n",
       "      <td>...</td>\n",
       "      <td>Male</td>\n",
       "      <td>28</td>\n",
       "      <td>10813.0</td>\n",
       "      <td>Card</td>\n",
       "      <td>1.882266</td>\n",
       "      <td>2016</td>\n",
       "      <td>1</td>\n",
       "      <td>8</td>\n",
       "      <td>Friday</td>\n",
       "      <td>12.182266</td>\n",
       "    </tr>\n",
       "    <tr>\n",
       "      <th>1</th>\n",
       "      <td>10000397</td>\n",
       "      <td>2016-01-08</td>\n",
       "      <td>No</td>\n",
       "      <td>Yellow Cab</td>\n",
       "      <td>18.90</td>\n",
       "      <td>609.50</td>\n",
       "      <td>267.6240</td>\n",
       "      <td>341.8760</td>\n",
       "      <td>ATLANTA GA</td>\n",
       "      <td>0.030312</td>\n",
       "      <td>...</td>\n",
       "      <td>Male</td>\n",
       "      <td>28</td>\n",
       "      <td>15771.0</td>\n",
       "      <td>Card</td>\n",
       "      <td>18.088677</td>\n",
       "      <td>2016</td>\n",
       "      <td>1</td>\n",
       "      <td>8</td>\n",
       "      <td>Friday</td>\n",
       "      <td>32.248677</td>\n",
       "    </tr>\n",
       "    <tr>\n",
       "      <th>2</th>\n",
       "      <td>10000025</td>\n",
       "      <td>2016-01-08</td>\n",
       "      <td>No</td>\n",
       "      <td>Pink Cab</td>\n",
       "      <td>25.52</td>\n",
       "      <td>360.79</td>\n",
       "      <td>298.5840</td>\n",
       "      <td>62.2060</td>\n",
       "      <td>BOSTON MA</td>\n",
       "      <td>0.321411</td>\n",
       "      <td>...</td>\n",
       "      <td>Male</td>\n",
       "      <td>53</td>\n",
       "      <td>4912.0</td>\n",
       "      <td>Cash</td>\n",
       "      <td>2.437539</td>\n",
       "      <td>2016</td>\n",
       "      <td>1</td>\n",
       "      <td>8</td>\n",
       "      <td>Friday</td>\n",
       "      <td>14.137539</td>\n",
       "    </tr>\n",
       "    <tr>\n",
       "      <th>3</th>\n",
       "      <td>10000028</td>\n",
       "      <td>2016-01-08</td>\n",
       "      <td>No</td>\n",
       "      <td>Pink Cab</td>\n",
       "      <td>34.22</td>\n",
       "      <td>498.02</td>\n",
       "      <td>407.2180</td>\n",
       "      <td>90.8020</td>\n",
       "      <td>BOSTON MA</td>\n",
       "      <td>0.321411</td>\n",
       "      <td>...</td>\n",
       "      <td>Male</td>\n",
       "      <td>27</td>\n",
       "      <td>21650.0</td>\n",
       "      <td>Cash</td>\n",
       "      <td>2.653477</td>\n",
       "      <td>2016</td>\n",
       "      <td>1</td>\n",
       "      <td>8</td>\n",
       "      <td>Friday</td>\n",
       "      <td>14.553477</td>\n",
       "    </tr>\n",
       "    <tr>\n",
       "      <th>4</th>\n",
       "      <td>10000419</td>\n",
       "      <td>2016-01-08</td>\n",
       "      <td>No</td>\n",
       "      <td>Yellow Cab</td>\n",
       "      <td>36.36</td>\n",
       "      <td>703.49</td>\n",
       "      <td>436.3200</td>\n",
       "      <td>267.1700</td>\n",
       "      <td>BOSTON MA</td>\n",
       "      <td>0.321411</td>\n",
       "      <td>...</td>\n",
       "      <td>Male</td>\n",
       "      <td>32</td>\n",
       "      <td>17384.0</td>\n",
       "      <td>Card</td>\n",
       "      <td>7.347910</td>\n",
       "      <td>2016</td>\n",
       "      <td>1</td>\n",
       "      <td>8</td>\n",
       "      <td>Friday</td>\n",
       "      <td>19.347910</td>\n",
       "    </tr>\n",
       "    <tr>\n",
       "      <th>...</th>\n",
       "      <td>...</td>\n",
       "      <td>...</td>\n",
       "      <td>...</td>\n",
       "      <td>...</td>\n",
       "      <td>...</td>\n",
       "      <td>...</td>\n",
       "      <td>...</td>\n",
       "      <td>...</td>\n",
       "      <td>...</td>\n",
       "      <td>...</td>\n",
       "      <td>...</td>\n",
       "      <td>...</td>\n",
       "      <td>...</td>\n",
       "      <td>...</td>\n",
       "      <td>...</td>\n",
       "      <td>...</td>\n",
       "      <td>...</td>\n",
       "      <td>...</td>\n",
       "      <td>...</td>\n",
       "      <td>...</td>\n",
       "      <td>...</td>\n",
       "    </tr>\n",
       "    <tr>\n",
       "      <th>359387</th>\n",
       "      <td>10035931</td>\n",
       "      <td>2016-05-18</td>\n",
       "      <td>No</td>\n",
       "      <td>Yellow Cab</td>\n",
       "      <td>42.55</td>\n",
       "      <td>668.78</td>\n",
       "      <td>520.8120</td>\n",
       "      <td>147.9680</td>\n",
       "      <td>WASHINGTON DC</td>\n",
       "      <td>0.303207</td>\n",
       "      <td>...</td>\n",
       "      <td>Female</td>\n",
       "      <td>34</td>\n",
       "      <td>23795.0</td>\n",
       "      <td>Cash</td>\n",
       "      <td>3.477509</td>\n",
       "      <td>2016</td>\n",
       "      <td>5</td>\n",
       "      <td>18</td>\n",
       "      <td>Wednesday</td>\n",
       "      <td>15.717509</td>\n",
       "    </tr>\n",
       "    <tr>\n",
       "      <th>359388</th>\n",
       "      <td>10035935</td>\n",
       "      <td>2016-05-18</td>\n",
       "      <td>No</td>\n",
       "      <td>Yellow Cab</td>\n",
       "      <td>4.24</td>\n",
       "      <td>71.35</td>\n",
       "      <td>55.4592</td>\n",
       "      <td>15.8908</td>\n",
       "      <td>WASHINGTON DC</td>\n",
       "      <td>0.303207</td>\n",
       "      <td>...</td>\n",
       "      <td>Female</td>\n",
       "      <td>19</td>\n",
       "      <td>19389.0</td>\n",
       "      <td>Card</td>\n",
       "      <td>3.747830</td>\n",
       "      <td>2016</td>\n",
       "      <td>5</td>\n",
       "      <td>18</td>\n",
       "      <td>Wednesday</td>\n",
       "      <td>16.827830</td>\n",
       "    </tr>\n",
       "    <tr>\n",
       "      <th>359389</th>\n",
       "      <td>10035980</td>\n",
       "      <td>2016-05-18</td>\n",
       "      <td>No</td>\n",
       "      <td>Yellow Cab</td>\n",
       "      <td>4.68</td>\n",
       "      <td>69.84</td>\n",
       "      <td>60.0912</td>\n",
       "      <td>9.7488</td>\n",
       "      <td>WASHINGTON DC</td>\n",
       "      <td>0.303207</td>\n",
       "      <td>...</td>\n",
       "      <td>Female</td>\n",
       "      <td>32</td>\n",
       "      <td>31058.0</td>\n",
       "      <td>Cash</td>\n",
       "      <td>2.083077</td>\n",
       "      <td>2016</td>\n",
       "      <td>5</td>\n",
       "      <td>18</td>\n",
       "      <td>Wednesday</td>\n",
       "      <td>14.923077</td>\n",
       "    </tr>\n",
       "    <tr>\n",
       "      <th>359390</th>\n",
       "      <td>10035990</td>\n",
       "      <td>2016-05-18</td>\n",
       "      <td>No</td>\n",
       "      <td>Yellow Cab</td>\n",
       "      <td>18.90</td>\n",
       "      <td>288.06</td>\n",
       "      <td>231.3360</td>\n",
       "      <td>56.7240</td>\n",
       "      <td>WASHINGTON DC</td>\n",
       "      <td>0.303207</td>\n",
       "      <td>...</td>\n",
       "      <td>Male</td>\n",
       "      <td>23</td>\n",
       "      <td>22554.0</td>\n",
       "      <td>Cash</td>\n",
       "      <td>3.001270</td>\n",
       "      <td>2016</td>\n",
       "      <td>5</td>\n",
       "      <td>18</td>\n",
       "      <td>Wednesday</td>\n",
       "      <td>15.241270</td>\n",
       "    </tr>\n",
       "    <tr>\n",
       "      <th>359391</th>\n",
       "      <td>10035995</td>\n",
       "      <td>2016-05-18</td>\n",
       "      <td>No</td>\n",
       "      <td>Yellow Cab</td>\n",
       "      <td>34.10</td>\n",
       "      <td>492.65</td>\n",
       "      <td>421.4760</td>\n",
       "      <td>71.1740</td>\n",
       "      <td>WASHINGTON DC</td>\n",
       "      <td>0.303207</td>\n",
       "      <td>...</td>\n",
       "      <td>Female</td>\n",
       "      <td>24</td>\n",
       "      <td>7955.0</td>\n",
       "      <td>Card</td>\n",
       "      <td>2.087214</td>\n",
       "      <td>2016</td>\n",
       "      <td>5</td>\n",
       "      <td>18</td>\n",
       "      <td>Wednesday</td>\n",
       "      <td>14.447214</td>\n",
       "    </tr>\n",
       "  </tbody>\n",
       "</table>\n",
       "<p>359392 rows × 21 columns</p>\n",
       "</div>"
      ],
      "text/plain": [
       "       Transaction ID Date of Travel Holiday     Company  KM Travelled  \\\n",
       "0            10000011     2016-01-08      No    Pink Cab         30.45   \n",
       "1            10000397     2016-01-08      No  Yellow Cab         18.90   \n",
       "2            10000025     2016-01-08      No    Pink Cab         25.52   \n",
       "3            10000028     2016-01-08      No    Pink Cab         34.22   \n",
       "4            10000419     2016-01-08      No  Yellow Cab         36.36   \n",
       "...               ...            ...     ...         ...           ...   \n",
       "359387       10035931     2016-05-18      No  Yellow Cab         42.55   \n",
       "359388       10035935     2016-05-18      No  Yellow Cab          4.24   \n",
       "359389       10035980     2016-05-18      No  Yellow Cab          4.68   \n",
       "359390       10035990     2016-05-18      No  Yellow Cab         18.90   \n",
       "359391       10035995     2016-05-18      No  Yellow Cab         34.10   \n",
       "\n",
       "        Price Charged  Cost of Trip    Profit           City  User_prop  ...  \\\n",
       "0              370.95      313.6350   57.3150     ATLANTA GA   0.030312  ...   \n",
       "1              609.50      267.6240  341.8760     ATLANTA GA   0.030312  ...   \n",
       "2              360.79      298.5840   62.2060      BOSTON MA   0.321411  ...   \n",
       "3              498.02      407.2180   90.8020      BOSTON MA   0.321411  ...   \n",
       "4              703.49      436.3200  267.1700      BOSTON MA   0.321411  ...   \n",
       "...               ...           ...       ...            ...        ...  ...   \n",
       "359387         668.78      520.8120  147.9680  WASHINGTON DC   0.303207  ...   \n",
       "359388          71.35       55.4592   15.8908  WASHINGTON DC   0.303207  ...   \n",
       "359389          69.84       60.0912    9.7488  WASHINGTON DC   0.303207  ...   \n",
       "359390         288.06      231.3360   56.7240  WASHINGTON DC   0.303207  ...   \n",
       "359391         492.65      421.4760   71.1740  WASHINGTON DC   0.303207  ...   \n",
       "\n",
       "        Gender Age  Income (USD/Month)  Payment_Mode Profit_dist  year  month  \\\n",
       "0         Male  28             10813.0          Card    1.882266  2016      1   \n",
       "1         Male  28             15771.0          Card   18.088677  2016      1   \n",
       "2         Male  53              4912.0          Cash    2.437539  2016      1   \n",
       "3         Male  27             21650.0          Cash    2.653477  2016      1   \n",
       "4         Male  32             17384.0          Card    7.347910  2016      1   \n",
       "...        ...  ..                 ...           ...         ...   ...    ...   \n",
       "359387  Female  34             23795.0          Cash    3.477509  2016      5   \n",
       "359388  Female  19             19389.0          Card    3.747830  2016      5   \n",
       "359389  Female  32             31058.0          Cash    2.083077  2016      5   \n",
       "359390    Male  23             22554.0          Cash    3.001270  2016      5   \n",
       "359391  Female  24              7955.0          Card    2.087214  2016      5   \n",
       "\n",
       "        day  day_of_week PriceCharged_km  \n",
       "0         8       Friday       12.182266  \n",
       "1         8       Friday       32.248677  \n",
       "2         8       Friday       14.137539  \n",
       "3         8       Friday       14.553477  \n",
       "4         8       Friday       19.347910  \n",
       "...     ...          ...             ...  \n",
       "359387   18    Wednesday       15.717509  \n",
       "359388   18    Wednesday       16.827830  \n",
       "359389   18    Wednesday       14.923077  \n",
       "359390   18    Wednesday       15.241270  \n",
       "359391   18    Wednesday       14.447214  \n",
       "\n",
       "[359392 rows x 21 columns]"
      ]
     },
     "execution_count": 205,
     "metadata": {},
     "output_type": "execute_result"
    }
   ],
   "source": [
    "df"
   ]
  },
  {
   "cell_type": "code",
   "execution_count": null,
   "id": "8bbe389c",
   "metadata": {},
   "outputs": [],
   "source": []
  }
 ],
 "metadata": {
  "kernelspec": {
   "display_name": "Python 3 (ipykernel)",
   "language": "python",
   "name": "python3"
  },
  "language_info": {
   "codemirror_mode": {
    "name": "ipython",
    "version": 3
   },
   "file_extension": ".py",
   "mimetype": "text/x-python",
   "name": "python",
   "nbconvert_exporter": "python",
   "pygments_lexer": "ipython3",
   "version": "3.9.12"
  }
 },
 "nbformat": 4,
 "nbformat_minor": 5
}
